{
 "cells": [
  {
   "cell_type": "code",
   "execution_count": 2,
   "metadata": {},
   "outputs": [],
   "source": [
    "%reload_ext autoreload\n",
    "%autoreload 3"
   ]
  },
  {
   "cell_type": "code",
   "execution_count": 3,
   "metadata": {
    "ExecuteTime": {
     "end_time": "2024-03-22T21:03:37.130711Z",
     "start_time": "2024-03-22T21:03:29.181264Z"
    }
   },
   "outputs": [],
   "source": [
    "\n",
    "import importlib\n",
    "\n",
    "# ENVIRONMENT\n",
    "\n",
    "import pandas as pd\n",
    "import dotenv\n",
    "import os\n",
    "\n",
    "dotenv.load_dotenv('.env')\n",
    "MT5_SERVER = os.environ[\"MT5_SERVER\"]\n",
    "MT5_LOGIN = os.environ[\"MT5_LOGIN\"]\n",
    "MT5_PASSWORD = os.environ[\"MT5_PASSWORD\"]\n",
    "DATA_PATH = os.environ[\"DATA_PATH\"]\n",
    "CATALOG_PATH = os.path.join(os.getcwd(), os.environ[\"CATALOG_PATH\"])\n",
    "\n",
    "# nautilus_trader imports\n",
    "\n",
    "from nautilus_trader.model.position import Position\n",
    "from nautilus_trader.model.objects import Price\n",
    "from nautilus_trader.model.identifiers import Venue, InstrumentId, Symbol\n",
    "from nautilus_trader.model.data import Bar, BarType, QuoteTick\n",
    "from nautilus_trader.config import BacktestVenueConfig, BacktestDataConfig, BacktestRunConfig, BacktestEngineConfig, RiskEngineConfig\n",
    "from nautilus_trader.backtest.node import BacktestNode\n",
    "from nautilus_trader.backtest.engine import BacktestResult\n",
    "from nautilus_trader.trading.strategy import ImportableStrategyConfig\n",
    "from nautilus_trader.config import LoggingConfig\n",
    "from nautilus_trader.core.datetime import dt_to_unix_nanos, maybe_unix_nanos_to_dt, unix_nanos_to_dt\n",
    "from nautilus_trader.persistence.catalog import ParquetDataCatalog\n",
    "from nautilus_trader.cache.cache import Cache\n",
    "import decimal\n",
    "\n",
    "# other imports\n",
    "from pandas import Timestamp\n",
    "import importlib\n",
    "import mplfinance as mpf\n",
    "import matplotlib.pyplot as plt\n",
    "\n",
    "# my packages\n",
    "from put101 import indicators\n",
    "import strategies\n",
    "from strategies import bollinger_cluster\n",
    "from put101 import utils\n",
    "from put101 import vizz\n",
    "\n",
    "# ---------------- CONFIGURATION ----------------\n",
    "catalog = ParquetDataCatalog(CATALOG_PATH)\n",
    "start = dt_to_unix_nanos(pd.Timestamp(\"2023-01-01 00:00:00\"))\n",
    "\n",
    "end = start + pd.Timedelta(days=30).value\n",
    "\n",
    "venue_str = \"SIM_EIGHTCAP\"\n",
    "venue = Venue(venue_str)\n",
    "symbol_str = \"EURUSD\"\n",
    "symbol = Symbol(symbol_str)\n",
    "instrument_id_str = f\"EURUSD.{venue}\"\n",
    "\n",
    "instrument_id = InstrumentId(symbol, venue)\n"
   ]
  },
  {
   "cell_type": "code",
   "execution_count": 14,
   "metadata": {
    "ExecuteTime": {
     "end_time": "2024-03-22T21:03:37.133774Z",
     "start_time": "2024-03-22T21:03:37.133158Z"
    }
   },
   "outputs": [],
   "source": [
    "venue_configs = [\n",
    "    BacktestVenueConfig(\n",
    "        name=venue_str,\n",
    "        oms_type=\"HEDGING\",\n",
    "        account_type=\"MARGIN\",\n",
    "        default_leverage = 30,\n",
    "        base_currency=\"USD\",\n",
    "        starting_balances=[\"10_000 USD\"],\n",
    "    ),\n",
    "]\n",
    "\n",
    "data_configs = [\n",
    "    BacktestDataConfig(\n",
    "        catalog_path=CATALOG_PATH,\n",
    "        data_cls=QuoteTick,\n",
    "        instrument_id=instrument_id,\n",
    "        start_time=start,\n",
    "        end_time=end,\n",
    "    ),\n",
    "]\n",
    "\n",
    "strategies = [\n",
    "    ImportableStrategyConfig(\n",
    "        strategy_path=\"strategies.base:PUT101Strategy\",\n",
    "        config_path=\"strategies.base:PUT101StrategyConfig\",\n",
    "        config=dict(\n",
    "            instrument_id=instrument_id.value,\n",
    "            bar_type=f\"{instrument_id}-15-MINUTE-BID-INTERNAL\",\n",
    "        ),\n",
    "    ),\n",
    "]\n",
    "\n",
    "configs = [BacktestRunConfig(\n",
    "    engine=BacktestEngineConfig(\n",
    "        strategies=strategies,\n",
    "        trader_id=\"BACKTESTER-001\",\n",
    "        logging=LoggingConfig(log_level=\"ERROR\", log_level_file=\"DEBUG\", log_directory=\"logs\", log_file_name=\"backtest.log\"),\n",
    "        risk_engine=RiskEngineConfig(\n",
    "            bypass=True,  # Example of bypassing pre-trade risk checks for backtests\n",
    "        ),\n",
    "    ),\n",
    "    data=data_configs,\n",
    "    venues=venue_configs,\n",
    ")]\n",
    "\n",
    "node = BacktestNode(configs)\n"
   ]
  },
  {
   "cell_type": "code",
   "execution_count": 15,
   "metadata": {
    "ExecuteTime": {
     "end_time": "2024-03-22T21:03:38.920747Z",
     "start_time": "2024-03-22T21:03:37.134839Z"
    }
   },
   "outputs": [
    {
     "name": "stdout",
     "output_type": "stream",
     "text": [
      "self.log <nautilus_trader.common.logging.Logger object at 0x28384ed90>\n"
     ]
    }
   ],
   "source": [
    "results = node.run()"
   ]
  },
  {
   "cell_type": "code",
   "execution_count": 10,
   "metadata": {},
   "outputs": [],
   "source": [
    "res = results[0]\n",
    "backtest_start = maybe_unix_nanos_to_dt(res.backtest_start)\n",
    "backtest_end = maybe_unix_nanos_to_dt(res.backtest_end)\n",
    "res\n",
    "\n",
    "\n",
    "engine = node.get_engine(res.run_config_id)\n",
    "strategy: bollinger_cluster.BollingerCluster = engine.trader.strategies()[0]\n",
    "cache: Cache = strategy.cache\n",
    "\n",
    "main_t, main_s = strategy.get_main_plottable_indicators()\n",
    "extra_plots = strategy.get_extra_plots()\n",
    "\n",
    "layout = utils.get_layout(\n",
    "                    res=res,\n",
    "                    bars=strategy.bars,\n",
    "                    overlay_indicators=main_t,\n",
    "                    overlay_indicator_styles=main_s,\n",
    "                    extra_plots=extra_plots,\n",
    "                    positions=strategy.cache.positions(),\n",
    ")\n",
    "\n",
    "vizz.reset_output()\n",
    "vizz.show(layout)\n"
   ]
  },
  {
   "cell_type": "code",
   "execution_count": null,
   "metadata": {},
   "outputs": [],
   "source": [
    "res\n"
   ]
  }
 ],
 "metadata": {
  "kernelspec": {
   "display_name": ".venv",
   "language": "python",
   "name": "python3"
  },
  "language_info": {
   "codemirror_mode": {
    "name": "ipython",
    "version": 3
   },
   "file_extension": ".py",
   "mimetype": "text/x-python",
   "name": "python",
   "nbconvert_exporter": "python",
   "pygments_lexer": "ipython3",
   "version": "3.11.0"
  }
 },
 "nbformat": 4,
 "nbformat_minor": 2
}
