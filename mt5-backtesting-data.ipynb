{
 "cells": [
  {
   "cell_type": "code",
   "execution_count": 1,
   "id": "59b39fb599655ef8",
   "metadata": {
    "ExecuteTime": {
     "end_time": "2023-12-10T20:51:29.853578Z",
     "start_time": "2023-12-10T20:51:29.623016Z"
    },
    "collapsed": false
   },
   "outputs": [],
   "source": [
    "import numpy as np\n",
    "%load_ext autoreload\n",
    "%autoreload 2"
   ]
  },
  {
   "cell_type": "code",
   "execution_count": 2,
   "id": "e56807e69c644985",
   "metadata": {
    "ExecuteTime": {
     "end_time": "2023-12-04T12:09:31.348099Z",
     "start_time": "2023-12-04T12:09:31.262693Z"
    },
    "collapsed": false
   },
   "outputs": [
    {
     "data": {
      "text/plain": [
       "<module 'MetaTrader5' from 'c:\\\\Users\\\\puche\\\\anaconda3\\\\Lib\\\\site-packages\\\\MetaTrader5\\\\__init__.py'>"
      ]
     },
     "execution_count": 2,
     "metadata": {},
     "output_type": "execute_result"
    }
   ],
   "source": [
    "# MT5 Imports\n",
    "import MetaTrader5 as mt5\n",
    "from MetaTrader5 import AccountInfo, TerminalInfo\n",
    "import importlib\n",
    "importlib.reload(mt5)"
   ]
  },
  {
   "cell_type": "code",
   "execution_count": 3,
   "id": "initial_id",
   "metadata": {
    "ExecuteTime": {
     "end_time": "2023-12-10T20:51:35.118385Z",
     "start_time": "2023-12-10T20:51:33.869686Z"
    },
    "collapsed": true
   },
   "outputs": [],
   "source": [
    "import dotenv\n",
    "import os\n",
    "import importlib\n",
    "import pandas as pd\n",
    "import dask.dataframe as dd\n",
    "from datetime import datetime\n",
    "import logging\n",
    "\n",
    "import naut_mt5 as n5\n",
    "from naut_mt5 import data_utils\n",
    "\n",
    "import nautilus_trader\n",
    "# test instrument provider\n",
    "from nautilus_trader.test_kit.providers import TestInstrumentProvider\n",
    "from nautilus_trader.persistence.wranglers import QuoteTickDataWrangler\n",
    "from nautilus_trader.persistence.catalog import ParquetDataCatalog\n"
   ]
  },
  {
   "cell_type": "code",
   "execution_count": 4,
   "id": "fe9701184c77bb6b",
   "metadata": {
    "ExecuteTime": {
     "end_time": "2023-12-10T20:51:35.135792Z",
     "start_time": "2023-12-10T20:51:35.119492Z"
    },
    "collapsed": false
   },
   "outputs": [
    {
     "name": "stdout",
     "output_type": "stream",
     "text": [
      "MT5_SERVER: ICMarketsSC-MT5-2\n"
     ]
    }
   ],
   "source": [
    "# ENVIRONMENT\n",
    "if not dotenv.load_dotenv():\n",
    "    logging.log(logging.INFO, \"No .env file found\")\n",
    "\n",
    "dotenv.load_dotenv(override=True)\n",
    "MT5_SERVER = os.environ[\"MT5_SERVER\"]\n",
    "MT5_LOGIN = os.environ[\"MT5_LOGIN\"]\n",
    "MT5_PASSWORD = os.environ[\"MT5_PASSWORD\"]\n",
    "DATA_PATH = os.environ[\"DATA_PATH\"]\n",
    "CATALOG_PATH = os.environ[\"CATALOG_PATH\"]\n",
    "\n",
    "\n",
    "print(f\"MT5_SERVER: {MT5_SERVER}\")\n"
   ]
  },
  {
   "cell_type": "markdown",
   "id": "8c12c589e1282e88",
   "metadata": {
    "collapsed": false
   },
   "source": [
    "# Symbol Parameters"
   ]
  },
  {
   "cell_type": "code",
   "execution_count": 9,
   "id": "f4a20bae0af98d6c",
   "metadata": {
    "ExecuteTime": {
     "end_time": "2023-12-10T20:51:36.924501Z",
     "start_time": "2023-12-10T20:51:36.888342Z"
    },
    "collapsed": false
   },
   "outputs": [
    {
     "data": {
      "text/plain": [
       "True"
      ]
     },
     "execution_count": 9,
     "metadata": {},
     "output_type": "execute_result"
    }
   ],
   "source": [
    "from nautilus_trader.model.identifiers import InstrumentId, Venue\n",
    "from nautilus_trader.model.data import BarType, BarSpecification, BarAggregation\n",
    "from nautilus_trader.model.data import QuoteTick\n",
    "\n",
    "# load a couple of symbols into the catalog using the loader\n",
    "symbol_broker = 'XAUUSD'\n",
    "symbol_clean = 'XAUUSD'\n",
    "venue= \"SIM_IC\"\n",
    "instrument = TestInstrumentProvider.default_fx_ccy(symbol_clean, Venue(venue))\n",
    "timeframe = mt5.TIMEFRAME_M1\n",
    "start_date = datetime(1971, 1, 1)\n",
    "end_date = datetime.now()\n",
    "\n",
    "# variables dependent on parameters\n",
    "if symbol_clean:\n",
    "    symbol = symbol_clean\n",
    "else:\n",
    "    symbol = symbol_broker\n",
    "    \n",
    "loader_config = n5.MTLoginConfig(server=MT5_SERVER, login=MT5_LOGIN, password=MT5_PASSWORD)\n",
    "loader = n5.MT5Loader(data_path=DATA_PATH, catalog_path=CATALOG_PATH, config=loader_config, venue=venue)\n",
    "loader.init()"
   ]
  },
  {
   "cell_type": "code",
   "execution_count": 10,
   "id": "3f65eccc",
   "metadata": {},
   "outputs": [
    {
     "data": {
      "text/plain": [
       "93.95"
      ]
     },
     "execution_count": 10,
     "metadata": {},
     "output_type": "execute_result"
    }
   ],
   "source": [
    "mt5.account_info().equity"
   ]
  },
  {
   "cell_type": "markdown",
   "id": "ba871caa92f6465a",
   "metadata": {
    "collapsed": false
   },
   "source": [
    "# Delete the symbol from the catalog"
   ]
  },
  {
   "cell_type": "code",
   "execution_count": 13,
   "id": "a7facef94b77cf82",
   "metadata": {
    "ExecuteTime": {
     "end_time": "2023-12-02T01:06:18.969303600Z",
     "start_time": "2023-12-02T01:06:17.598871300Z"
    },
    "collapsed": false
   },
   "outputs": [
    {
     "name": "stdout",
     "output_type": "stream",
     "text": [
      "XAUUSD.SIM_IC-1-MINUTE-LAST-EXTERNAL\n",
      "[WinError 3] Das System kann den angegebenen Pfad nicht finden: '.\\\\catalog\\\\data\\\\bar\\\\XAUUSD.SIM_IC-1-MINUTE-LAST-EXTERNAL'\n",
      "INFO: Could not delete\n"
     ]
    }
   ],
   "source": [
    "# delete the symbols data from the catalog\n",
    "bar_type = loader.get_bar_type(symbol, timeframe)\n",
    "print(bar_type)\n",
    "\n",
    "if not data_utils.delete_parquet_data(bar_type, CATALOG_PATH):\n",
    "    print(f\"INFO: Could not delete\")\n",
    "else:\n",
    "    print(f\"INFO: Deleted data for {bar_type}\")\n",
    "    \n",
    "    "
   ]
  },
  {
   "cell_type": "code",
   "execution_count": null,
   "id": "ec0b6494",
   "metadata": {},
   "outputs": [],
   "source": []
  },
  {
   "cell_type": "markdown",
   "id": "4a31dfa35f608862",
   "metadata": {
    "collapsed": false
   },
   "source": [
    "# Load the symbol from mt5 to csv"
   ]
  },
  {
   "cell_type": "code",
   "execution_count": 14,
   "id": "dbbd91d11fac5687",
   "metadata": {
    "ExecuteTime": {
     "end_time": "2023-12-02T01:06:26.110448500Z",
     "start_time": "2023-12-02T01:06:25.356622400Z"
    },
    "collapsed": false
   },
   "outputs": [
    {
     "name": "stdout",
     "output_type": "stream",
     "text": [
      "ERROR: Failed to copy rates: XAUUSD 1 1971-01-01 00:00:00 2024-12-01 13:22:54.019575\n"
     ]
    },
    {
     "data": {
      "text/plain": [
       "False"
      ]
     },
     "execution_count": 14,
     "metadata": {},
     "output_type": "execute_result"
    }
   ],
   "source": [
    "loader.load_symbol_rates_to_csv(symbol_broker, symbol_clean, timeframe, start_date, end_date, DATA_PATH)"
   ]
  },
  {
   "cell_type": "markdown",
   "id": "cd0904a5c89bbcf4",
   "metadata": {
    "collapsed": false
   },
   "source": [
    "# Load the symbol from csv to parquet catalog"
   ]
  },
  {
   "cell_type": "code",
   "execution_count": 16,
   "id": "56301f7288dc35a4",
   "metadata": {
    "ExecuteTime": {
     "end_time": "2023-12-02T01:06:41.682497200Z",
     "start_time": "2023-12-02T01:06:33.877177800Z"
    },
    "collapsed": false
   },
   "outputs": [
    {
     "ename": "FileNotFoundError",
     "evalue": "[Errno 2] No such file or directory: '.\\\\data\\\\XAUUSD_1-MINUTE_31532400_1733055774.csv'",
     "output_type": "error",
     "traceback": [
      "\u001b[1;31m---------------------------------------------------------------------------\u001b[0m",
      "\u001b[1;31mFileNotFoundError\u001b[0m                         Traceback (most recent call last)",
      "Cell \u001b[1;32mIn[16], line 1\u001b[0m\n\u001b[1;32m----> 1\u001b[0m loader\u001b[38;5;241m.\u001b[39mload_csv_to_catalog(symbol_broker, symbol_clean, timeframe, start_date, end_date)\n",
      "File \u001b[1;32mc:\\Users\\puche\\nautilus\\naut_mt5\\__init__.py:150\u001b[0m, in \u001b[0;36mMT5Loader.load_csv_to_catalog\u001b[1;34m(self, symbol_csv, symbol_catalog, timeframe, start, end)\u001b[0m\n\u001b[0;32m    148\u001b[0m instrument \u001b[38;5;241m=\u001b[39m TestInstrumentProvider\u001b[38;5;241m.\u001b[39mdefault_fx_ccy(symbol_catalog, \u001b[38;5;28mself\u001b[39m\u001b[38;5;241m.\u001b[39mvenue)\n\u001b[0;32m    149\u001b[0m csv_path \u001b[38;5;241m=\u001b[39m MT5Loader\u001b[38;5;241m.\u001b[39mget_csv_path(symbol_csv, timeframe, start, end, \u001b[38;5;28mself\u001b[39m\u001b[38;5;241m.\u001b[39mdata_path)\n\u001b[1;32m--> 150\u001b[0m df \u001b[38;5;241m=\u001b[39m pd\u001b[38;5;241m.\u001b[39mread_csv(csv_path, index_col\u001b[38;5;241m=\u001b[39m\u001b[38;5;124m\"\u001b[39m\u001b[38;5;124mtime\u001b[39m\u001b[38;5;124m\"\u001b[39m, parse_dates\u001b[38;5;241m=\u001b[39m\u001b[38;5;28;01mTrue\u001b[39;00m)\n\u001b[0;32m    151\u001b[0m bar_type \u001b[38;5;241m=\u001b[39m \u001b[38;5;28mself\u001b[39m\u001b[38;5;241m.\u001b[39mget_bar_type(symbol\u001b[38;5;241m=\u001b[39msymbol_catalog, timeframe\u001b[38;5;241m=\u001b[39mtimeframe)\n\u001b[0;32m    152\u001b[0m wrangler \u001b[38;5;241m=\u001b[39m BarDataWrangler(bar_type, instrument)\n",
      "File \u001b[1;32mc:\\Users\\puche\\anaconda3\\Lib\\site-packages\\pandas\\io\\parsers\\readers.py:1026\u001b[0m, in \u001b[0;36mread_csv\u001b[1;34m(filepath_or_buffer, sep, delimiter, header, names, index_col, usecols, dtype, engine, converters, true_values, false_values, skipinitialspace, skiprows, skipfooter, nrows, na_values, keep_default_na, na_filter, verbose, skip_blank_lines, parse_dates, infer_datetime_format, keep_date_col, date_parser, date_format, dayfirst, cache_dates, iterator, chunksize, compression, thousands, decimal, lineterminator, quotechar, quoting, doublequote, escapechar, comment, encoding, encoding_errors, dialect, on_bad_lines, delim_whitespace, low_memory, memory_map, float_precision, storage_options, dtype_backend)\u001b[0m\n\u001b[0;32m   1013\u001b[0m kwds_defaults \u001b[38;5;241m=\u001b[39m _refine_defaults_read(\n\u001b[0;32m   1014\u001b[0m     dialect,\n\u001b[0;32m   1015\u001b[0m     delimiter,\n\u001b[1;32m   (...)\u001b[0m\n\u001b[0;32m   1022\u001b[0m     dtype_backend\u001b[38;5;241m=\u001b[39mdtype_backend,\n\u001b[0;32m   1023\u001b[0m )\n\u001b[0;32m   1024\u001b[0m kwds\u001b[38;5;241m.\u001b[39mupdate(kwds_defaults)\n\u001b[1;32m-> 1026\u001b[0m \u001b[38;5;28;01mreturn\u001b[39;00m _read(filepath_or_buffer, kwds)\n",
      "File \u001b[1;32mc:\\Users\\puche\\anaconda3\\Lib\\site-packages\\pandas\\io\\parsers\\readers.py:620\u001b[0m, in \u001b[0;36m_read\u001b[1;34m(filepath_or_buffer, kwds)\u001b[0m\n\u001b[0;32m    617\u001b[0m _validate_names(kwds\u001b[38;5;241m.\u001b[39mget(\u001b[38;5;124m\"\u001b[39m\u001b[38;5;124mnames\u001b[39m\u001b[38;5;124m\"\u001b[39m, \u001b[38;5;28;01mNone\u001b[39;00m))\n\u001b[0;32m    619\u001b[0m \u001b[38;5;66;03m# Create the parser.\u001b[39;00m\n\u001b[1;32m--> 620\u001b[0m parser \u001b[38;5;241m=\u001b[39m TextFileReader(filepath_or_buffer, \u001b[38;5;241m*\u001b[39m\u001b[38;5;241m*\u001b[39mkwds)\n\u001b[0;32m    622\u001b[0m \u001b[38;5;28;01mif\u001b[39;00m chunksize \u001b[38;5;129;01mor\u001b[39;00m iterator:\n\u001b[0;32m    623\u001b[0m     \u001b[38;5;28;01mreturn\u001b[39;00m parser\n",
      "File \u001b[1;32mc:\\Users\\puche\\anaconda3\\Lib\\site-packages\\pandas\\io\\parsers\\readers.py:1620\u001b[0m, in \u001b[0;36mTextFileReader.__init__\u001b[1;34m(self, f, engine, **kwds)\u001b[0m\n\u001b[0;32m   1617\u001b[0m     \u001b[38;5;28mself\u001b[39m\u001b[38;5;241m.\u001b[39moptions[\u001b[38;5;124m\"\u001b[39m\u001b[38;5;124mhas_index_names\u001b[39m\u001b[38;5;124m\"\u001b[39m] \u001b[38;5;241m=\u001b[39m kwds[\u001b[38;5;124m\"\u001b[39m\u001b[38;5;124mhas_index_names\u001b[39m\u001b[38;5;124m\"\u001b[39m]\n\u001b[0;32m   1619\u001b[0m \u001b[38;5;28mself\u001b[39m\u001b[38;5;241m.\u001b[39mhandles: IOHandles \u001b[38;5;241m|\u001b[39m \u001b[38;5;28;01mNone\u001b[39;00m \u001b[38;5;241m=\u001b[39m \u001b[38;5;28;01mNone\u001b[39;00m\n\u001b[1;32m-> 1620\u001b[0m \u001b[38;5;28mself\u001b[39m\u001b[38;5;241m.\u001b[39m_engine \u001b[38;5;241m=\u001b[39m \u001b[38;5;28mself\u001b[39m\u001b[38;5;241m.\u001b[39m_make_engine(f, \u001b[38;5;28mself\u001b[39m\u001b[38;5;241m.\u001b[39mengine)\n",
      "File \u001b[1;32mc:\\Users\\puche\\anaconda3\\Lib\\site-packages\\pandas\\io\\parsers\\readers.py:1880\u001b[0m, in \u001b[0;36mTextFileReader._make_engine\u001b[1;34m(self, f, engine)\u001b[0m\n\u001b[0;32m   1878\u001b[0m     \u001b[38;5;28;01mif\u001b[39;00m \u001b[38;5;124m\"\u001b[39m\u001b[38;5;124mb\u001b[39m\u001b[38;5;124m\"\u001b[39m \u001b[38;5;129;01mnot\u001b[39;00m \u001b[38;5;129;01min\u001b[39;00m mode:\n\u001b[0;32m   1879\u001b[0m         mode \u001b[38;5;241m+\u001b[39m\u001b[38;5;241m=\u001b[39m \u001b[38;5;124m\"\u001b[39m\u001b[38;5;124mb\u001b[39m\u001b[38;5;124m\"\u001b[39m\n\u001b[1;32m-> 1880\u001b[0m \u001b[38;5;28mself\u001b[39m\u001b[38;5;241m.\u001b[39mhandles \u001b[38;5;241m=\u001b[39m get_handle(\n\u001b[0;32m   1881\u001b[0m     f,\n\u001b[0;32m   1882\u001b[0m     mode,\n\u001b[0;32m   1883\u001b[0m     encoding\u001b[38;5;241m=\u001b[39m\u001b[38;5;28mself\u001b[39m\u001b[38;5;241m.\u001b[39moptions\u001b[38;5;241m.\u001b[39mget(\u001b[38;5;124m\"\u001b[39m\u001b[38;5;124mencoding\u001b[39m\u001b[38;5;124m\"\u001b[39m, \u001b[38;5;28;01mNone\u001b[39;00m),\n\u001b[0;32m   1884\u001b[0m     compression\u001b[38;5;241m=\u001b[39m\u001b[38;5;28mself\u001b[39m\u001b[38;5;241m.\u001b[39moptions\u001b[38;5;241m.\u001b[39mget(\u001b[38;5;124m\"\u001b[39m\u001b[38;5;124mcompression\u001b[39m\u001b[38;5;124m\"\u001b[39m, \u001b[38;5;28;01mNone\u001b[39;00m),\n\u001b[0;32m   1885\u001b[0m     memory_map\u001b[38;5;241m=\u001b[39m\u001b[38;5;28mself\u001b[39m\u001b[38;5;241m.\u001b[39moptions\u001b[38;5;241m.\u001b[39mget(\u001b[38;5;124m\"\u001b[39m\u001b[38;5;124mmemory_map\u001b[39m\u001b[38;5;124m\"\u001b[39m, \u001b[38;5;28;01mFalse\u001b[39;00m),\n\u001b[0;32m   1886\u001b[0m     is_text\u001b[38;5;241m=\u001b[39mis_text,\n\u001b[0;32m   1887\u001b[0m     errors\u001b[38;5;241m=\u001b[39m\u001b[38;5;28mself\u001b[39m\u001b[38;5;241m.\u001b[39moptions\u001b[38;5;241m.\u001b[39mget(\u001b[38;5;124m\"\u001b[39m\u001b[38;5;124mencoding_errors\u001b[39m\u001b[38;5;124m\"\u001b[39m, \u001b[38;5;124m\"\u001b[39m\u001b[38;5;124mstrict\u001b[39m\u001b[38;5;124m\"\u001b[39m),\n\u001b[0;32m   1888\u001b[0m     storage_options\u001b[38;5;241m=\u001b[39m\u001b[38;5;28mself\u001b[39m\u001b[38;5;241m.\u001b[39moptions\u001b[38;5;241m.\u001b[39mget(\u001b[38;5;124m\"\u001b[39m\u001b[38;5;124mstorage_options\u001b[39m\u001b[38;5;124m\"\u001b[39m, \u001b[38;5;28;01mNone\u001b[39;00m),\n\u001b[0;32m   1889\u001b[0m )\n\u001b[0;32m   1890\u001b[0m \u001b[38;5;28;01massert\u001b[39;00m \u001b[38;5;28mself\u001b[39m\u001b[38;5;241m.\u001b[39mhandles \u001b[38;5;129;01mis\u001b[39;00m \u001b[38;5;129;01mnot\u001b[39;00m \u001b[38;5;28;01mNone\u001b[39;00m\n\u001b[0;32m   1891\u001b[0m f \u001b[38;5;241m=\u001b[39m \u001b[38;5;28mself\u001b[39m\u001b[38;5;241m.\u001b[39mhandles\u001b[38;5;241m.\u001b[39mhandle\n",
      "File \u001b[1;32mc:\\Users\\puche\\anaconda3\\Lib\\site-packages\\pandas\\io\\common.py:873\u001b[0m, in \u001b[0;36mget_handle\u001b[1;34m(path_or_buf, mode, encoding, compression, memory_map, is_text, errors, storage_options)\u001b[0m\n\u001b[0;32m    868\u001b[0m \u001b[38;5;28;01melif\u001b[39;00m \u001b[38;5;28misinstance\u001b[39m(handle, \u001b[38;5;28mstr\u001b[39m):\n\u001b[0;32m    869\u001b[0m     \u001b[38;5;66;03m# Check whether the filename is to be opened in binary mode.\u001b[39;00m\n\u001b[0;32m    870\u001b[0m     \u001b[38;5;66;03m# Binary mode does not support 'encoding' and 'newline'.\u001b[39;00m\n\u001b[0;32m    871\u001b[0m     \u001b[38;5;28;01mif\u001b[39;00m ioargs\u001b[38;5;241m.\u001b[39mencoding \u001b[38;5;129;01mand\u001b[39;00m \u001b[38;5;124m\"\u001b[39m\u001b[38;5;124mb\u001b[39m\u001b[38;5;124m\"\u001b[39m \u001b[38;5;129;01mnot\u001b[39;00m \u001b[38;5;129;01min\u001b[39;00m ioargs\u001b[38;5;241m.\u001b[39mmode:\n\u001b[0;32m    872\u001b[0m         \u001b[38;5;66;03m# Encoding\u001b[39;00m\n\u001b[1;32m--> 873\u001b[0m         handle \u001b[38;5;241m=\u001b[39m \u001b[38;5;28mopen\u001b[39m(\n\u001b[0;32m    874\u001b[0m             handle,\n\u001b[0;32m    875\u001b[0m             ioargs\u001b[38;5;241m.\u001b[39mmode,\n\u001b[0;32m    876\u001b[0m             encoding\u001b[38;5;241m=\u001b[39mioargs\u001b[38;5;241m.\u001b[39mencoding,\n\u001b[0;32m    877\u001b[0m             errors\u001b[38;5;241m=\u001b[39merrors,\n\u001b[0;32m    878\u001b[0m             newline\u001b[38;5;241m=\u001b[39m\u001b[38;5;124m\"\u001b[39m\u001b[38;5;124m\"\u001b[39m,\n\u001b[0;32m    879\u001b[0m         )\n\u001b[0;32m    880\u001b[0m     \u001b[38;5;28;01melse\u001b[39;00m:\n\u001b[0;32m    881\u001b[0m         \u001b[38;5;66;03m# Binary mode\u001b[39;00m\n\u001b[0;32m    882\u001b[0m         handle \u001b[38;5;241m=\u001b[39m \u001b[38;5;28mopen\u001b[39m(handle, ioargs\u001b[38;5;241m.\u001b[39mmode)\n",
      "\u001b[1;31mFileNotFoundError\u001b[0m: [Errno 2] No such file or directory: '.\\\\data\\\\XAUUSD_1-MINUTE_31532400_1733055774.csv'"
     ]
    }
   ],
   "source": [
    "loader.load_csv_to_catalog(symbol_broker, symbol_clean, timeframe, start_date, end_date)"
   ]
  },
  {
   "cell_type": "code",
   "execution_count": 118,
   "id": "27ddd0552d466b9f",
   "metadata": {
    "ExecuteTime": {
     "end_time": "2023-11-27T01:00:41.816088700Z",
     "start_time": "2023-11-27T01:00:41.724570300Z"
    },
    "collapsed": false
   },
   "outputs": [],
   "source": [
    "instrument = loader.get_instrument_FOREX(symbol=symbol)"
   ]
  },
  {
   "cell_type": "markdown",
   "id": "41431731",
   "metadata": {},
   "source": [
    "# MT5 Ticks"
   ]
  },
  {
   "cell_type": "code",
   "execution_count": 17,
   "id": "5975126e",
   "metadata": {},
   "outputs": [
    {
     "name": "stdout",
     "output_type": "stream",
     "text": [
      "MetaTrader5 package author:  MetaQuotes Ltd.\n",
      "MetaTrader5 package version:  5.0.4687\n",
      "Display obtained data 'as is'\n",
      "(1643967720, 1807.02, 1807.55, 1806.96, 1807.44, 138, 12, 0)\n",
      "\n",
      "Display dataframe with data\n",
      "                 time     open     high      low    close  tick_volume  spread  real_volume\n",
      "0 2022-02-04 09:42:00  1807.02  1807.55  1806.96  1807.44          138      12            0\n"
     ]
    }
   ],
   "source": [
    "from datetime import datetime\n",
    "import MetaTrader5 as mt5\n",
    "# display data on the MetaTrader 5 package\n",
    "print(\"MetaTrader5 package author: \",mt5.__author__)\n",
    "print(\"MetaTrader5 package version: \",mt5.__version__)\n",
    " \n",
    "# import the 'pandas' module for displaying data obtained in the tabular form\n",
    "import pandas as pd\n",
    "pd.set_option('display.max_columns', 500) # number of columns to be displayed\n",
    "pd.set_option('display.width', 1500)      # max table width to display\n",
    "# import pytz module for working with time zone\n",
    "import pytz\n",
    " \n",
    "# establish connection to MetaTrader 5 terminal\n",
    "if not mt5.initialize():\n",
    "    print(\"initialize() failed, error code =\",mt5.last_error())\n",
    "    quit()\n",
    " \n",
    "# set time zone to UTC\n",
    "timezone = pytz.timezone(\"Etc/UTC\")\n",
    "# create 'datetime' objects in UTC time zone to avoid the implementation of a local time zone offset\n",
    "utc_from = datetime(2020, 1, 10, tzinfo=timezone)\n",
    "utc_to = datetime(2020, 1, 11, hour = 13, tzinfo=timezone)\n",
    "# get bars from USDJPY M5 within the interval of 2020.01.10 00:00 - 2020.01.11 13:00 in UTC time zone\n",
    "rates = mt5.copy_rates_range(\"XAUUSD\", mt5.TIMEFRAME_M1, utc_from, utc_to)\n",
    " \n",
    "# shut down connection to the MetaTrader 5 terminal\n",
    "mt5.shutdown()\n",
    " \n",
    "# display each element of obtained data in a new line\n",
    "print(\"Display obtained data 'as is'\")\n",
    "counter=0\n",
    "for rate in rates:\n",
    "    counter+=1\n",
    "    if counter<=10:\n",
    "        print(rate)\n",
    " \n",
    "# create DataFrame out of the obtained data\n",
    "rates_frame = pd.DataFrame(rates)\n",
    "# convert time in seconds into the 'datetime' format\n",
    "rates_frame['time']=pd.to_datetime(rates_frame['time'], unit='s')\n",
    " \n",
    "# display data\n",
    "print(\"\\nDisplay dataframe with data\")\n",
    "print(rates_frame.head(10))"
   ]
  },
  {
   "cell_type": "code",
   "execution_count": 18,
   "id": "483ed408",
   "metadata": {},
   "outputs": [
    {
     "ename": "KeyboardInterrupt",
     "evalue": "",
     "output_type": "error",
     "traceback": [
      "\u001b[1;31m---------------------------------------------------------------------------\u001b[0m",
      "\u001b[1;31mKeyboardInterrupt\u001b[0m                         Traceback (most recent call last)",
      "Cell \u001b[1;32mIn[18], line 7\u001b[0m\n\u001b[0;32m      5\u001b[0m \u001b[38;5;28;01mfor\u001b[39;00m count \u001b[38;5;129;01min\u001b[39;00m \u001b[38;5;28mrange\u001b[39m(maxbars):\n\u001b[0;32m      6\u001b[0m     rates \u001b[38;5;241m=\u001b[39m mt5\u001b[38;5;241m.\u001b[39mcopy_rates_from_pos(\u001b[38;5;124m'\u001b[39m\u001b[38;5;124mXAUUSD\u001b[39m\u001b[38;5;124m'\u001b[39m, mt5\u001b[38;5;241m.\u001b[39mTIMEFRAME_M1, \u001b[38;5;241m0\u001b[39m, \u001b[38;5;241m10000\u001b[39m)\n\u001b[1;32m----> 7\u001b[0m     errno, strerror \u001b[38;5;241m=\u001b[39m mt5\u001b[38;5;241m.\u001b[39mlast_error()\n\u001b[0;32m      8\u001b[0m     \u001b[38;5;28;01mif\u001b[39;00m errno \u001b[38;5;241m!=\u001b[39m mt5\u001b[38;5;241m.\u001b[39mRES_S_OK:\n\u001b[0;32m      9\u001b[0m         \u001b[38;5;28mprint\u001b[39m(\u001b[38;5;124mf\u001b[39m\u001b[38;5;124m\"\u001b[39m\u001b[38;5;124mFailed on count=\u001b[39m\u001b[38;5;132;01m{\u001b[39;00mcount\u001b[38;5;132;01m}\u001b[39;00m\u001b[38;5;124m with strerror=\u001b[39m\u001b[38;5;132;01m{\u001b[39;00mstrerror\u001b[38;5;132;01m}\u001b[39;00m\u001b[38;5;124m\"\u001b[39m)\n",
      "\u001b[1;31mKeyboardInterrupt\u001b[0m: "
     ]
    }
   ],
   "source": [
    "import MetaTrader5 as mt5\n",
    "\n",
    "mt5.initialize()\n",
    "maxbars = mt5.terminal_info().maxbars\n",
    "for count in range(maxbars):\n",
    "    rates = mt5.copy_rates_from_pos('XAUUSD', mt5.TIMEFRAME_M1, 0, 10000)\n",
    "    errno, strerror = mt5.last_error()\n",
    "    if errno != mt5.RES_S_OK:\n",
    "        print(f\"Failed on count={count} with strerror={strerror}\")\n",
    "        break\n",
    "mt5.shutdown()"
   ]
  },
  {
   "cell_type": "code",
   "execution_count": null,
   "id": "11dcd6b5",
   "metadata": {},
   "outputs": [
    {
     "data": {
      "text/html": [
       "<div>\n",
       "<style scoped>\n",
       "    .dataframe tbody tr th:only-of-type {\n",
       "        vertical-align: middle;\n",
       "    }\n",
       "\n",
       "    .dataframe tbody tr th {\n",
       "        vertical-align: top;\n",
       "    }\n",
       "\n",
       "    .dataframe thead th {\n",
       "        text-align: right;\n",
       "    }\n",
       "</style>\n",
       "<table border=\"1\" class=\"dataframe\">\n",
       "  <thead>\n",
       "    <tr style=\"text-align: right;\">\n",
       "      <th></th>\n",
       "      <th>time</th>\n",
       "      <th>open</th>\n",
       "      <th>high</th>\n",
       "      <th>low</th>\n",
       "      <th>close</th>\n",
       "      <th>tick_volume</th>\n",
       "      <th>spread</th>\n",
       "      <th>real_volume</th>\n",
       "    </tr>\n",
       "  </thead>\n",
       "  <tbody>\n",
       "    <tr>\n",
       "      <th>0</th>\n",
       "      <td>2024-11-20 13:22:00</td>\n",
       "      <td>2621.90</td>\n",
       "      <td>2621.99</td>\n",
       "      <td>2621.66</td>\n",
       "      <td>2621.93</td>\n",
       "      <td>78</td>\n",
       "      <td>18</td>\n",
       "      <td>0</td>\n",
       "    </tr>\n",
       "    <tr>\n",
       "      <th>1</th>\n",
       "      <td>2024-11-20 13:23:00</td>\n",
       "      <td>2621.93</td>\n",
       "      <td>2622.15</td>\n",
       "      <td>2621.68</td>\n",
       "      <td>2622.15</td>\n",
       "      <td>102</td>\n",
       "      <td>18</td>\n",
       "      <td>0</td>\n",
       "    </tr>\n",
       "    <tr>\n",
       "      <th>2</th>\n",
       "      <td>2024-11-20 13:24:00</td>\n",
       "      <td>2622.15</td>\n",
       "      <td>2622.94</td>\n",
       "      <td>2621.80</td>\n",
       "      <td>2622.86</td>\n",
       "      <td>104</td>\n",
       "      <td>18</td>\n",
       "      <td>0</td>\n",
       "    </tr>\n",
       "    <tr>\n",
       "      <th>3</th>\n",
       "      <td>2024-11-20 13:25:00</td>\n",
       "      <td>2622.86</td>\n",
       "      <td>2623.63</td>\n",
       "      <td>2622.76</td>\n",
       "      <td>2623.59</td>\n",
       "      <td>99</td>\n",
       "      <td>16</td>\n",
       "      <td>0</td>\n",
       "    </tr>\n",
       "    <tr>\n",
       "      <th>4</th>\n",
       "      <td>2024-11-20 13:26:00</td>\n",
       "      <td>2623.58</td>\n",
       "      <td>2623.94</td>\n",
       "      <td>2623.54</td>\n",
       "      <td>2623.73</td>\n",
       "      <td>102</td>\n",
       "      <td>18</td>\n",
       "      <td>0</td>\n",
       "    </tr>\n",
       "    <tr>\n",
       "      <th>...</th>\n",
       "      <td>...</td>\n",
       "      <td>...</td>\n",
       "      <td>...</td>\n",
       "      <td>...</td>\n",
       "      <td>...</td>\n",
       "      <td>...</td>\n",
       "      <td>...</td>\n",
       "      <td>...</td>\n",
       "    </tr>\n",
       "    <tr>\n",
       "      <th>9995</th>\n",
       "      <td>2024-11-29 21:40:00</td>\n",
       "      <td>2649.65</td>\n",
       "      <td>2649.65</td>\n",
       "      <td>2648.96</td>\n",
       "      <td>2649.25</td>\n",
       "      <td>94</td>\n",
       "      <td>32</td>\n",
       "      <td>0</td>\n",
       "    </tr>\n",
       "    <tr>\n",
       "      <th>9996</th>\n",
       "      <td>2024-11-29 21:41:00</td>\n",
       "      <td>2649.27</td>\n",
       "      <td>2649.42</td>\n",
       "      <td>2649.22</td>\n",
       "      <td>2649.38</td>\n",
       "      <td>46</td>\n",
       "      <td>32</td>\n",
       "      <td>0</td>\n",
       "    </tr>\n",
       "    <tr>\n",
       "      <th>9997</th>\n",
       "      <td>2024-11-29 21:42:00</td>\n",
       "      <td>2649.35</td>\n",
       "      <td>2650.16</td>\n",
       "      <td>2649.27</td>\n",
       "      <td>2650.16</td>\n",
       "      <td>105</td>\n",
       "      <td>31</td>\n",
       "      <td>0</td>\n",
       "    </tr>\n",
       "    <tr>\n",
       "      <th>9998</th>\n",
       "      <td>2024-11-29 21:43:00</td>\n",
       "      <td>2650.16</td>\n",
       "      <td>2650.22</td>\n",
       "      <td>2649.85</td>\n",
       "      <td>2650.02</td>\n",
       "      <td>85</td>\n",
       "      <td>32</td>\n",
       "      <td>0</td>\n",
       "    </tr>\n",
       "    <tr>\n",
       "      <th>9999</th>\n",
       "      <td>2024-11-29 21:44:00</td>\n",
       "      <td>2650.02</td>\n",
       "      <td>2650.33</td>\n",
       "      <td>2650.02</td>\n",
       "      <td>2650.30</td>\n",
       "      <td>60</td>\n",
       "      <td>31</td>\n",
       "      <td>0</td>\n",
       "    </tr>\n",
       "  </tbody>\n",
       "</table>\n",
       "<p>10000 rows × 8 columns</p>\n",
       "</div>"
      ],
      "text/plain": [
       "                    time     open     high      low    close  tick_volume  spread  real_volume\n",
       "0    2024-11-20 13:22:00  2621.90  2621.99  2621.66  2621.93           78      18            0\n",
       "1    2024-11-20 13:23:00  2621.93  2622.15  2621.68  2622.15          102      18            0\n",
       "2    2024-11-20 13:24:00  2622.15  2622.94  2621.80  2622.86          104      18            0\n",
       "3    2024-11-20 13:25:00  2622.86  2623.63  2622.76  2623.59           99      16            0\n",
       "4    2024-11-20 13:26:00  2623.58  2623.94  2623.54  2623.73          102      18            0\n",
       "...                  ...      ...      ...      ...      ...          ...     ...          ...\n",
       "9995 2024-11-29 21:40:00  2649.65  2649.65  2648.96  2649.25           94      32            0\n",
       "9996 2024-11-29 21:41:00  2649.27  2649.42  2649.22  2649.38           46      32            0\n",
       "9997 2024-11-29 21:42:00  2649.35  2650.16  2649.27  2650.16          105      31            0\n",
       "9998 2024-11-29 21:43:00  2650.16  2650.22  2649.85  2650.02           85      32            0\n",
       "9999 2024-11-29 21:44:00  2650.02  2650.33  2650.02  2650.30           60      31            0\n",
       "\n",
       "[10000 rows x 8 columns]"
      ]
     },
     "execution_count": 154,
     "metadata": {},
     "output_type": "execute_result"
    }
   ],
   "source": [
    "rates_frame = pd.DataFrame(rates)\n",
    "rates_frame['time']=pd.to_datetime(rates_frame['time'], unit='s')\n",
    "rates_frame"
   ]
  },
  {
   "cell_type": "code",
   "execution_count": null,
   "id": "9ef28154",
   "metadata": {},
   "outputs": [
    {
     "name": "stdout",
     "output_type": "stream",
     "text": [
      "(SymbolInfo(custom=False, chart_mode=0, select=True, visible=True, session_deals=0, session_buy_orders=0, session_sell_orders=0, volume=0, volumehigh=0, volumelow=0, time=1732916699, digits=2, spread=32, spread_float=True, ticks_bookdepth=1, trade_calc_mode=4, trade_mode=4, start_time=0, expiration_time=0, trade_stops_level=20, trade_freeze_level=0, trade_exemode=2, swap_mode=1, swap_rollover3days=3, margin_hedged_use_leg=False, expiration_mode=7, filling_mode=2, order_mode=127, order_gtc_mode=0, option_mode=0, option_right=0, bid=2650.3, bidhigh=2666.25, bidlow=2634.01, ask=2650.62, askhigh=2666.44, asklow=2634.22, last=0.0, lasthigh=0.0, lastlow=0.0, volume_real=0.0, volumehigh_real=0.0, volumelow_real=0.0, option_strike=0.0, point=0.01, trade_tick_value=0.94519745174767, trade_tick_value_profit=0.94519745174767, trade_tick_value_loss=0.9454744863709854, trade_tick_size=0.01, trade_contract_size=100.0, trade_accrued_interest=0.0, trade_face_value=0.0, trade_liquidity_rate=0.0, volume_min=0.01, volume_max=100.0, volume_step=0.01, volume_limit=0.0, swap_long=-30.8, swap_short=22.0, margin_initial=0.0, margin_maintenance=0.0, session_volume=0.0, session_turnover=0.0, session_interest=0.0, session_buy_orders_volume=0.0, session_sell_orders_volume=0.0, session_open=2636.94, session_close=2637.72, session_aw=0.0, session_price_settlement=0.0, session_price_limit_min=0.0, session_price_limit_max=0.0, margin_hedged=0.0, price_change=0.4769, price_volatility=0.0, price_theoretical=0.0, price_greeks_delta=0.0, price_greeks_theta=0.0, price_greeks_gamma=0.0, price_greeks_vega=0.0, price_greeks_rho=0.0, price_greeks_omega=0.0, price_sensitivity=0.0, basis='', category='', currency_base='XAU', currency_profit='USD', currency_margin='USD', bank='', description='Gold US Dollar', exchange='', formula='', isin='', name='XAUUSD', page='', path='Gold\\\\XAUUSD'),)\n",
      "AccountInfo(login=51522296, trade_mode=2, leverage=500, limit_orders=1000, margin_so_mode=0, trade_allowed=True, trade_expert=True, margin_mode=2, currency_digits=2, fifo_close=False, balance=62.53, credit=0.0, profit=16.8, equity=79.33, margin=46.55, margin_free=32.78, margin_level=170.41890440386683, margin_so_call=80.0, margin_so_so=50.0, margin_initial=0.0, margin_maintenance=0.0, assets=0.0, liabilities=0.0, commission_blocked=0.0, name='Tobias Pucher', server='VantageInternational-Live 4', currency='EUR', company='Vantage International Group Limited')\n"
     ]
    }
   ],
   "source": [
    "print(mt5.symbols_get(\"XAUUSD\"))\n",
    "print(mt5.account_info())"
   ]
  },
  {
   "cell_type": "code",
   "execution_count": null,
   "id": "c15bfb29",
   "metadata": {},
   "outputs": [
    {
     "name": "stdout",
     "output_type": "stream",
     "text": [
      "5\n"
     ]
    }
   ],
   "source": [
    "pos = mt5.positions_total()\n",
    "print(pos)"
   ]
  },
  {
   "cell_type": "code",
   "execution_count": 38,
   "id": "c6aaf79c",
   "metadata": {},
   "outputs": [
    {
     "data": {
      "text/html": [
       "<div>\n",
       "<style scoped>\n",
       "    .dataframe tbody tr th:only-of-type {\n",
       "        vertical-align: middle;\n",
       "    }\n",
       "\n",
       "    .dataframe tbody tr th {\n",
       "        vertical-align: top;\n",
       "    }\n",
       "\n",
       "    .dataframe thead th {\n",
       "        text-align: right;\n",
       "    }\n",
       "</style>\n",
       "<table border=\"1\" class=\"dataframe\">\n",
       "  <thead>\n",
       "    <tr style=\"text-align: right;\">\n",
       "      <th></th>\n",
       "      <th>time</th>\n",
       "      <th>bid</th>\n",
       "      <th>ask</th>\n",
       "      <th>last</th>\n",
       "      <th>volume</th>\n",
       "      <th>time_msc</th>\n",
       "      <th>flags</th>\n",
       "      <th>volume_real</th>\n",
       "    </tr>\n",
       "  </thead>\n",
       "  <tbody>\n",
       "  </tbody>\n",
       "</table>\n",
       "</div>"
      ],
      "text/plain": [
       "Empty DataFrame\n",
       "Columns: [time, bid, ask, last, volume, time_msc, flags, volume_real]\n",
       "Index: []"
      ]
     },
     "execution_count": 38,
     "metadata": {},
     "output_type": "execute_result"
    }
   ],
   "source": [
    "mt5.initialize()\n",
    "ticks = mt5.copy_ticks_range(\"XAUUSD\", datetime(2024,1,1), datetime(2024,1,1), mt5.COPY_TICKS_ALL)\n",
    "df = pd.DataFrame(ticks)\n",
    "df['time'] = pd.to_datetime(df['time'], unit='s')\n",
    "df.head()"
   ]
  },
  {
   "cell_type": "code",
   "execution_count": null,
   "id": "e8dfa21a",
   "metadata": {},
   "outputs": [],
   "source": [
    "data = loader.copy_rates_range(\"XAUUSD\", timeframe, datetime(2023,1,1), datetime.now())"
   ]
  },
  {
   "cell_type": "markdown",
   "id": "4215a652",
   "metadata": {},
   "source": [
    "## Copy Rates to Disk"
   ]
  },
  {
   "cell_type": "code",
   "execution_count": 25,
   "id": "d1040e82",
   "metadata": {},
   "outputs": [
    {
     "name": "stdout",
     "output_type": "stream",
     "text": [
      "Saved 1000 rows to CSV and Parquet.\n",
      "Saved 1000 rows to CSV and Parquet.\n",
      "Saved 1000 rows to CSV and Parquet.\n",
      "Saved 1000 rows to CSV and Parquet.\n",
      "Saved 1000 rows to CSV and Parquet.\n",
      "Saved 1000 rows to CSV and Parquet.\n",
      "Saved 1000 rows to CSV and Parquet.\n",
      "Saved 1000 rows to CSV and Parquet.\n",
      "Saved 1000 rows to CSV and Parquet.\n",
      "Saved 1000 rows to CSV and Parquet.\n",
      "Saved 1000 rows to CSV and Parquet.\n",
      "Saved 1000 rows to CSV and Parquet.\n",
      "Saved 1000 rows to CSV and Parquet.\n",
      "Saved 1000 rows to CSV and Parquet.\n",
      "Saved 1000 rows to CSV and Parquet.\n",
      "Saved 1000 rows to CSV and Parquet.\n",
      "Saved 1000 rows to CSV and Parquet.\n",
      "Saved 1000 rows to CSV and Parquet.\n",
      "Saved 1000 rows to CSV and Parquet.\n",
      "Saved 1000 rows to CSV and Parquet.\n",
      "Saved 1000 rows to CSV and Parquet.\n",
      "Saved 1000 rows to CSV and Parquet.\n",
      "Saved 1000 rows to CSV and Parquet.\n",
      "Saved 1000 rows to CSV and Parquet.\n",
      "Saved 1000 rows to CSV and Parquet.\n",
      "Saved 1000 rows to CSV and Parquet.\n",
      "Saved 1000 rows to CSV and Parquet.\n",
      "Saved 1000 rows to CSV and Parquet.\n",
      "Saved 1000 rows to CSV and Parquet.\n",
      "Saved 1000 rows to CSV and Parquet.\n",
      "Saved 1000 rows to CSV and Parquet.\n",
      "Saved 1000 rows to CSV and Parquet.\n",
      "Saved 1000 rows to CSV and Parquet.\n",
      "Saved 1000 rows to CSV and Parquet.\n",
      "Saved 1000 rows to CSV and Parquet.\n",
      "Saved 1000 rows to CSV and Parquet.\n",
      "Saved 1000 rows to CSV and Parquet.\n",
      "Saved 1000 rows to CSV and Parquet.\n",
      "Saved 1000 rows to CSV and Parquet.\n",
      "Saved 1000 rows to CSV and Parquet.\n",
      "Saved 1000 rows to CSV and Parquet.\n",
      "Saved 1000 rows to CSV and Parquet.\n",
      "Saved 1000 rows to CSV and Parquet.\n",
      "Saved 1000 rows to CSV and Parquet.\n",
      "Saved 1000 rows to CSV and Parquet.\n",
      "Saved 1000 rows to CSV and Parquet.\n",
      "Saved 1000 rows to CSV and Parquet.\n",
      "Saved 1000 rows to CSV and Parquet.\n",
      "Saved 1000 rows to CSV and Parquet.\n",
      "Saved 1000 rows to CSV and Parquet.\n",
      "Saved 1000 rows to CSV and Parquet.\n",
      "Saved 1000 rows to CSV and Parquet.\n",
      "Saved 1000 rows to CSV and Parquet.\n",
      "Saved 1000 rows to CSV and Parquet.\n",
      "Saved 1000 rows to CSV and Parquet.\n",
      "Saved 1000 rows to CSV and Parquet.\n",
      "Saved 1000 rows to CSV and Parquet.\n",
      "Saved 1000 rows to CSV and Parquet.\n",
      "Saved 1000 rows to CSV and Parquet.\n",
      "Saved 1000 rows to CSV and Parquet.\n",
      "Saved 1000 rows to CSV and Parquet.\n",
      "Saved 1000 rows to CSV and Parquet.\n",
      "Saved 1000 rows to CSV and Parquet.\n",
      "Saved 1000 rows to CSV and Parquet.\n",
      "Saved 1000 rows to CSV and Parquet.\n",
      "Saved 1000 rows to CSV and Parquet.\n",
      "Saved 1000 rows to CSV and Parquet.\n",
      "Saved 1000 rows to CSV and Parquet.\n",
      "Saved 1000 rows to CSV and Parquet.\n",
      "Saved 1000 rows to CSV and Parquet.\n",
      "Saved 1000 rows to CSV and Parquet.\n",
      "Saved 1000 rows to CSV and Parquet.\n",
      "Saved 1000 rows to CSV and Parquet.\n",
      "Saved 1000 rows to CSV and Parquet.\n",
      "Saved 1000 rows to CSV and Parquet.\n",
      "Saved 1000 rows to CSV and Parquet.\n",
      "Saved 1000 rows to CSV and Parquet.\n",
      "Saved 1000 rows to CSV and Parquet.\n",
      "Saved 1000 rows to CSV and Parquet.\n",
      "Saved 1000 rows to CSV and Parquet.\n",
      "Saved 1000 rows to CSV and Parquet.\n",
      "Saved 1000 rows to CSV and Parquet.\n",
      "Saved 1000 rows to CSV and Parquet.\n",
      "Saved 1000 rows to CSV and Parquet.\n",
      "Saved 1000 rows to CSV and Parquet.\n",
      "Saved 1000 rows to CSV and Parquet.\n",
      "Saved 1000 rows to CSV and Parquet.\n",
      "Saved 1000 rows to CSV and Parquet.\n",
      "Saved 1000 rows to CSV and Parquet.\n",
      "Saved 1000 rows to CSV and Parquet.\n",
      "Saved 1000 rows to CSV and Parquet.\n",
      "Saved 1000 rows to CSV and Parquet.\n",
      "Saved 1000 rows to CSV and Parquet.\n",
      "Saved 1000 rows to CSV and Parquet.\n",
      "Saved 1000 rows to CSV and Parquet.\n",
      "Saved 1000 rows to CSV and Parquet.\n",
      "Saved 1000 rows to CSV and Parquet.\n",
      "Saved 1000 rows to CSV and Parquet.\n",
      "Saved 1000 rows to CSV and Parquet.\n",
      "Saved 1000 rows to CSV and Parquet.\n",
      "Saved 1000 rows to CSV and Parquet.\n",
      "Saved 1000 rows to CSV and Parquet.\n",
      "Saved 1000 rows to CSV and Parquet.\n",
      "Saved 1000 rows to CSV and Parquet.\n",
      "Saved 1000 rows to CSV and Parquet.\n",
      "Saved 1000 rows to CSV and Parquet.\n",
      "Saved 1000 rows to CSV and Parquet.\n",
      "Saved 1000 rows to CSV and Parquet.\n",
      "Saved 1000 rows to CSV and Parquet.\n",
      "Saved 1000 rows to CSV and Parquet.\n",
      "Saved 1000 rows to CSV and Parquet.\n",
      "Saved 1000 rows to CSV and Parquet.\n",
      "Saved 1000 rows to CSV and Parquet.\n",
      "Saved 1000 rows to CSV and Parquet.\n",
      "Saved 1000 rows to CSV and Parquet.\n",
      "Saved 1000 rows to CSV and Parquet.\n",
      "Saved 1000 rows to CSV and Parquet.\n",
      "Saved 1000 rows to CSV and Parquet.\n",
      "Saved 1000 rows to CSV and Parquet.\n",
      "Saved 1000 rows to CSV and Parquet.\n",
      "Saved 1000 rows to CSV and Parquet.\n",
      "Saved 1000 rows to CSV and Parquet.\n",
      "Saved 1000 rows to CSV and Parquet.\n",
      "Saved 1000 rows to CSV and Parquet.\n",
      "Saved 1000 rows to CSV and Parquet.\n",
      "Saved 1000 rows to CSV and Parquet.\n",
      "Saved 1000 rows to CSV and Parquet.\n",
      "Saved 1000 rows to CSV and Parquet.\n",
      "Saved 1000 rows to CSV and Parquet.\n",
      "Saved 1000 rows to CSV and Parquet.\n",
      "Saved 1000 rows to CSV and Parquet.\n",
      "Saved 1000 rows to CSV and Parquet.\n",
      "Saved 1000 rows to CSV and Parquet.\n",
      "Saved 1000 rows to CSV and Parquet.\n",
      "Saved 1000 rows to CSV and Parquet.\n",
      "Saved 1000 rows to CSV and Parquet.\n",
      "Saved 1000 rows to CSV and Parquet.\n",
      "Saved 1000 rows to CSV and Parquet.\n",
      "Saved 1000 rows to CSV and Parquet.\n",
      "Saved 1000 rows to CSV and Parquet.\n",
      "Saved 1000 rows to CSV and Parquet.\n",
      "Saved 1000 rows to CSV and Parquet.\n",
      "Saved 1000 rows to CSV and Parquet.\n",
      "Saved 1000 rows to CSV and Parquet.\n",
      "Saved 1000 rows to CSV and Parquet.\n",
      "Saved 1000 rows to CSV and Parquet.\n",
      "Saved 1000 rows to CSV and Parquet.\n",
      "Saved 1000 rows to CSV and Parquet.\n",
      "Saved 1000 rows to CSV and Parquet.\n",
      "Saved 1000 rows to CSV and Parquet.\n",
      "Saved 1000 rows to CSV and Parquet.\n",
      "Saved 1000 rows to CSV and Parquet.\n",
      "Saved 1000 rows to CSV and Parquet.\n",
      "Saved 1000 rows to CSV and Parquet.\n",
      "Saved 1000 rows to CSV and Parquet.\n",
      "Saved 1000 rows to CSV and Parquet.\n",
      "Saved 1000 rows to CSV and Parquet.\n",
      "Saved 1000 rows to CSV and Parquet.\n",
      "Saved 1000 rows to CSV and Parquet.\n",
      "Saved 1000 rows to CSV and Parquet.\n",
      "Saved 1000 rows to CSV and Parquet.\n",
      "Saved 1000 rows to CSV and Parquet.\n",
      "Saved 1000 rows to CSV and Parquet.\n",
      "Saved 1000 rows to CSV and Parquet.\n",
      "Saved 1000 rows to CSV and Parquet.\n",
      "Saved 1000 rows to CSV and Parquet.\n",
      "Saved 1000 rows to CSV and Parquet.\n",
      "Saved 1000 rows to CSV and Parquet.\n",
      "Saved 1000 rows to CSV and Parquet.\n",
      "Saved 1000 rows to CSV and Parquet.\n",
      "Saved 1000 rows to CSV and Parquet.\n",
      "Saved 1000 rows to CSV and Parquet.\n",
      "Saved 1000 rows to CSV and Parquet.\n",
      "Saved 1000 rows to CSV and Parquet.\n",
      "Saved 1000 rows to CSV and Parquet.\n",
      "Saved 1000 rows to CSV and Parquet.\n",
      "Saved 1000 rows to CSV and Parquet.\n",
      "Saved 1000 rows to CSV and Parquet.\n",
      "Saved 1000 rows to CSV and Parquet.\n",
      "Saved 1000 rows to CSV and Parquet.\n",
      "Saved 1000 rows to CSV and Parquet.\n",
      "Saved 1000 rows to CSV and Parquet.\n",
      "Saved 1000 rows to CSV and Parquet.\n",
      "Saved 1000 rows to CSV and Parquet.\n",
      "Saved 1000 rows to CSV and Parquet.\n",
      "Saved 1000 rows to CSV and Parquet.\n",
      "Saved 1000 rows to CSV and Parquet.\n",
      "Saved 1000 rows to CSV and Parquet.\n",
      "Saved 1000 rows to CSV and Parquet.\n",
      "Saved 1000 rows to CSV and Parquet.\n",
      "Saved 1000 rows to CSV and Parquet.\n",
      "Saved 1000 rows to CSV and Parquet.\n",
      "Saved 1000 rows to CSV and Parquet.\n",
      "Saved 1000 rows to CSV and Parquet.\n",
      "Saved 1000 rows to CSV and Parquet.\n",
      "Saved 1000 rows to CSV and Parquet.\n",
      "Saved 1000 rows to CSV and Parquet.\n",
      "Saved 1000 rows to CSV and Parquet.\n",
      "Saved 1000 rows to CSV and Parquet.\n",
      "Saved 1000 rows to CSV and Parquet.\n",
      "Saved 1000 rows to CSV and Parquet.\n",
      "Saved 1000 rows to CSV and Parquet.\n",
      "Saved 1000 rows to CSV and Parquet.\n",
      "Saved 1000 rows to CSV and Parquet.\n",
      "Saved 1000 rows to CSV and Parquet.\n",
      "Saved 1000 rows to CSV and Parquet.\n",
      "Saved 1000 rows to CSV and Parquet.\n",
      "Saved 1000 rows to CSV and Parquet.\n",
      "Saved 1000 rows to CSV and Parquet.\n",
      "Saved 1000 rows to CSV and Parquet.\n",
      "Saved 1000 rows to CSV and Parquet.\n",
      "Saved 1000 rows to CSV and Parquet.\n",
      "Saved 1000 rows to CSV and Parquet.\n",
      "Saved 1000 rows to CSV and Parquet.\n",
      "Saved 1000 rows to CSV and Parquet.\n",
      "Saved 1000 rows to CSV and Parquet.\n",
      "Saved 1000 rows to CSV and Parquet.\n",
      "Saved 1000 rows to CSV and Parquet.\n",
      "Saved 1000 rows to CSV and Parquet.\n",
      "Saved 1000 rows to CSV and Parquet.\n",
      "Saved 1000 rows to CSV and Parquet.\n",
      "Saved 1000 rows to CSV and Parquet.\n",
      "Saved 1000 rows to CSV and Parquet.\n",
      "Saved 1000 rows to CSV and Parquet.\n",
      "Saved 1000 rows to CSV and Parquet.\n",
      "Saved 1000 rows to CSV and Parquet.\n",
      "Saved 1000 rows to CSV and Parquet.\n",
      "Saved 1000 rows to CSV and Parquet.\n",
      "Saved 1000 rows to CSV and Parquet.\n",
      "Saved 1000 rows to CSV and Parquet.\n",
      "Saved 1000 rows to CSV and Parquet.\n",
      "Saved 1000 rows to CSV and Parquet.\n",
      "Saved 1000 rows to CSV and Parquet.\n",
      "Saved 1000 rows to CSV and Parquet.\n",
      "Saved 1000 rows to CSV and Parquet.\n",
      "Saved 1000 rows to CSV and Parquet.\n",
      "Saved 1000 rows to CSV and Parquet.\n",
      "Saved 1000 rows to CSV and Parquet.\n",
      "Saved 1000 rows to CSV and Parquet.\n",
      "Saved 1000 rows to CSV and Parquet.\n",
      "Saved 1000 rows to CSV and Parquet.\n",
      "Saved 1000 rows to CSV and Parquet.\n",
      "Saved 1000 rows to CSV and Parquet.\n",
      "Saved 1000 rows to CSV and Parquet.\n",
      "Saved 1000 rows to CSV and Parquet.\n",
      "Saved 1000 rows to CSV and Parquet.\n",
      "Saved 1000 rows to CSV and Parquet.\n",
      "Saved 1000 rows to CSV and Parquet.\n",
      "Saved 1000 rows to CSV and Parquet.\n",
      "Saved 1000 rows to CSV and Parquet.\n",
      "Saved 1000 rows to CSV and Parquet.\n",
      "Saved 1000 rows to CSV and Parquet.\n",
      "Saved 1000 rows to CSV and Parquet.\n",
      "Saved 1000 rows to CSV and Parquet.\n",
      "Saved 1000 rows to CSV and Parquet.\n",
      "Saved 1000 rows to CSV and Parquet.\n",
      "Saved 1000 rows to CSV and Parquet.\n",
      "Saved 1000 rows to CSV and Parquet.\n",
      "Saved 1000 rows to CSV and Parquet.\n",
      "Saved 1000 rows to CSV and Parquet.\n",
      "Saved 1000 rows to CSV and Parquet.\n",
      "Saved 1000 rows to CSV and Parquet.\n",
      "Saved 1000 rows to CSV and Parquet.\n",
      "Saved 1000 rows to CSV and Parquet.\n",
      "Saved 1000 rows to CSV and Parquet.\n",
      "Saved 1000 rows to CSV and Parquet.\n",
      "Saved 1000 rows to CSV and Parquet.\n",
      "Saved 1000 rows to CSV and Parquet.\n",
      "Saved 1000 rows to CSV and Parquet.\n",
      "Saved 1000 rows to CSV and Parquet.\n",
      "Saved 1000 rows to CSV and Parquet.\n",
      "Saved 1000 rows to CSV and Parquet.\n",
      "Saved 1000 rows to CSV and Parquet.\n",
      "Saved 1000 rows to CSV and Parquet.\n",
      "Saved 1000 rows to CSV and Parquet.\n",
      "Saved 1000 rows to CSV and Parquet.\n",
      "Saved 1000 rows to CSV and Parquet.\n",
      "Saved 1000 rows to CSV and Parquet.\n",
      "Saved 1000 rows to CSV and Parquet.\n",
      "Saved 1000 rows to CSV and Parquet.\n",
      "Saved 1000 rows to CSV and Parquet.\n",
      "Saved 1000 rows to CSV and Parquet.\n",
      "Saved 1000 rows to CSV and Parquet.\n",
      "Saved 1000 rows to CSV and Parquet.\n",
      "Saved 1000 rows to CSV and Parquet.\n",
      "Saved 1000 rows to CSV and Parquet.\n",
      "Saved 1000 rows to CSV and Parquet.\n",
      "Saved 1000 rows to CSV and Parquet.\n",
      "Saved 1000 rows to CSV and Parquet.\n",
      "Saved 1000 rows to CSV and Parquet.\n",
      "Saved 1000 rows to CSV and Parquet.\n",
      "Saved 1000 rows to CSV and Parquet.\n",
      "Saved 1000 rows to CSV and Parquet.\n",
      "Saved 1000 rows to CSV and Parquet.\n",
      "Saved 1000 rows to CSV and Parquet.\n",
      "Saved 1000 rows to CSV and Parquet.\n",
      "Saved 1000 rows to CSV and Parquet.\n",
      "Saved 1000 rows to CSV and Parquet.\n",
      "Saved 1000 rows to CSV and Parquet.\n",
      "Saved 1000 rows to CSV and Parquet.\n",
      "Saved 1000 rows to CSV and Parquet.\n",
      "Saved 1000 rows to CSV and Parquet.\n",
      "Saved 1000 rows to CSV and Parquet.\n",
      "Saved 1000 rows to CSV and Parquet.\n",
      "Saved 1000 rows to CSV and Parquet.\n",
      "Saved 1000 rows to CSV and Parquet.\n",
      "Saved 1000 rows to CSV and Parquet.\n",
      "Saved 1000 rows to CSV and Parquet.\n",
      "Saved 1000 rows to CSV and Parquet.\n",
      "Saved 1000 rows to CSV and Parquet.\n",
      "Saved 1000 rows to CSV and Parquet.\n",
      "Saved 1000 rows to CSV and Parquet.\n",
      "Saved 1000 rows to CSV and Parquet.\n",
      "Saved 1000 rows to CSV and Parquet.\n",
      "Saved 1000 rows to CSV and Parquet.\n",
      "Saved 1000 rows to CSV and Parquet.\n",
      "Saved 1000 rows to CSV and Parquet.\n",
      "Saved 1000 rows to CSV and Parquet.\n",
      "Saved 1000 rows to CSV and Parquet.\n",
      "Saved 1000 rows to CSV and Parquet.\n",
      "Saved 1000 rows to CSV and Parquet.\n",
      "Saved 1000 rows to CSV and Parquet.\n",
      "Saved 1000 rows to CSV and Parquet.\n",
      "Saved 1000 rows to CSV and Parquet.\n",
      "Saved 1000 rows to CSV and Parquet.\n",
      "Saved 1000 rows to CSV and Parquet.\n",
      "Saved 1000 rows to CSV and Parquet.\n",
      "Saved 1000 rows to CSV and Parquet.\n",
      "Saved 1000 rows to CSV and Parquet.\n",
      "Saved 1000 rows to CSV and Parquet.\n",
      "Saved 1000 rows to CSV and Parquet.\n",
      "Saved 1000 rows to CSV and Parquet.\n",
      "Saved 1000 rows to CSV and Parquet.\n",
      "Saved 1000 rows to CSV and Parquet.\n",
      "Saved 1000 rows to CSV and Parquet.\n",
      "Saved 1000 rows to CSV and Parquet.\n",
      "Saved 1000 rows to CSV and Parquet.\n",
      "Saved 1000 rows to CSV and Parquet.\n",
      "Saved 1000 rows to CSV and Parquet.\n",
      "Saved 1000 rows to CSV and Parquet.\n",
      "Saved 1000 rows to CSV and Parquet.\n",
      "Saved 1000 rows to CSV and Parquet.\n",
      "Saved 1000 rows to CSV and Parquet.\n",
      "Saved 1000 rows to CSV and Parquet.\n",
      "Saved 1000 rows to CSV and Parquet.\n",
      "Saved 1000 rows to CSV and Parquet.\n",
      "Saved 1000 rows to CSV and Parquet.\n",
      "Saved 1000 rows to CSV and Parquet.\n",
      "Saved 1000 rows to CSV and Parquet.\n",
      "Saved 1000 rows to CSV and Parquet.\n",
      "Saved 1000 rows to CSV and Parquet.\n",
      "Saved 1000 rows to CSV and Parquet.\n",
      "Saved 1000 rows to CSV and Parquet.\n",
      "Saved 1000 rows to CSV and Parquet.\n",
      "Saved 1000 rows to CSV and Parquet.\n",
      "Saved 1000 rows to CSV and Parquet.\n",
      "Saved 1000 rows to CSV and Parquet.\n",
      "Saved 1000 rows to CSV and Parquet.\n",
      "Saved 1000 rows to CSV and Parquet.\n",
      "Saved 1000 rows to CSV and Parquet.\n",
      "Saved 1000 rows to CSV and Parquet.\n",
      "Saved 1000 rows to CSV and Parquet.\n",
      "Saved 1000 rows to CSV and Parquet.\n",
      "Saved 1000 rows to CSV and Parquet.\n",
      "Saved 1000 rows to CSV and Parquet.\n",
      "Saved 1000 rows to CSV and Parquet.\n",
      "Saved 1000 rows to CSV and Parquet.\n",
      "Saved 1000 rows to CSV and Parquet.\n",
      "Saved 1000 rows to CSV and Parquet.\n",
      "Saved 1000 rows to CSV and Parquet.\n",
      "Saved 1000 rows to CSV and Parquet.\n",
      "Saved 1000 rows to CSV and Parquet.\n",
      "Saved 1000 rows to CSV and Parquet.\n",
      "Saved 1000 rows to CSV and Parquet.\n",
      "Saved 1000 rows to CSV and Parquet.\n",
      "Saved 1000 rows to CSV and Parquet.\n",
      "Saved 1000 rows to CSV and Parquet.\n",
      "Saved 1000 rows to CSV and Parquet.\n",
      "Saved 1000 rows to CSV and Parquet.\n",
      "Saved 1000 rows to CSV and Parquet.\n",
      "Saved 1000 rows to CSV and Parquet.\n",
      "Saved 1000 rows to CSV and Parquet.\n",
      "Saved 1000 rows to CSV and Parquet.\n",
      "Saved 1000 rows to CSV and Parquet.\n",
      "Saved 1000 rows to CSV and Parquet.\n",
      "Saved 1000 rows to CSV and Parquet.\n",
      "Saved 1000 rows to CSV and Parquet.\n",
      "Saved 1000 rows to CSV and Parquet.\n",
      "Saved 1000 rows to CSV and Parquet.\n",
      "Saved 1000 rows to CSV and Parquet.\n",
      "Saved 1000 rows to CSV and Parquet.\n",
      "Saved 1000 rows to CSV and Parquet.\n",
      "Saved 1000 rows to CSV and Parquet.\n",
      "Saved 1000 rows to CSV and Parquet.\n",
      "Saved 1000 rows to CSV and Parquet.\n",
      "Saved 1000 rows to CSV and Parquet.\n",
      "Saved 1000 rows to CSV and Parquet.\n",
      "Saved 1000 rows to CSV and Parquet.\n",
      "Saved 1000 rows to CSV and Parquet.\n",
      "Saved 1000 rows to CSV and Parquet.\n",
      "Saved 1000 rows to CSV and Parquet.\n",
      "Saved 1000 rows to CSV and Parquet.\n",
      "Saved 1000 rows to CSV and Parquet.\n",
      "Saved 1000 rows to CSV and Parquet.\n",
      "Saved 1000 rows to CSV and Parquet.\n",
      "Saved 1000 rows to CSV and Parquet.\n",
      "Saved 1000 rows to CSV and Parquet.\n",
      "Saved 1000 rows to CSV and Parquet.\n",
      "Saved 1000 rows to CSV and Parquet.\n",
      "Saved 1000 rows to CSV and Parquet.\n",
      "Saved 1000 rows to CSV and Parquet.\n",
      "Saved 1000 rows to CSV and Parquet.\n",
      "Saved 1000 rows to CSV and Parquet.\n",
      "Saved 1000 rows to CSV and Parquet.\n",
      "Saved 1000 rows to CSV and Parquet.\n",
      "Saved 1000 rows to CSV and Parquet.\n",
      "Saved 1000 rows to CSV and Parquet.\n",
      "Saved 1000 rows to CSV and Parquet.\n",
      "Saved 1000 rows to CSV and Parquet.\n",
      "Saved 1000 rows to CSV and Parquet.\n",
      "Saved 1000 rows to CSV and Parquet.\n",
      "Saved 1000 rows to CSV and Parquet.\n",
      "Saved 1000 rows to CSV and Parquet.\n",
      "Saved 1000 rows to CSV and Parquet.\n",
      "Saved 1000 rows to CSV and Parquet.\n",
      "Saved 1000 rows to CSV and Parquet.\n",
      "Saved 1000 rows to CSV and Parquet.\n",
      "Saved 1000 rows to CSV and Parquet.\n",
      "Saved 1000 rows to CSV and Parquet.\n",
      "Saved 1000 rows to CSV and Parquet.\n",
      "Saved 1000 rows to CSV and Parquet.\n",
      "Saved 1000 rows to CSV and Parquet.\n",
      "Saved 1000 rows to CSV and Parquet.\n",
      "Saved 1000 rows to CSV and Parquet.\n",
      "Saved 1000 rows to CSV and Parquet.\n",
      "Saved 1000 rows to CSV and Parquet.\n",
      "Saved 1000 rows to CSV and Parquet.\n",
      "Saved 1000 rows to CSV and Parquet.\n",
      "Saved 1000 rows to CSV and Parquet.\n",
      "Saved 1000 rows to CSV and Parquet.\n",
      "Saved 1000 rows to CSV and Parquet.\n",
      "Saved 1000 rows to CSV and Parquet.\n",
      "Saved 1000 rows to CSV and Parquet.\n",
      "Saved 1000 rows to CSV and Parquet.\n",
      "Saved 1000 rows to CSV and Parquet.\n",
      "Saved 1000 rows to CSV and Parquet.\n",
      "Saved 1000 rows to CSV and Parquet.\n",
      "Saved 1000 rows to CSV and Parquet.\n",
      "Saved 1000 rows to CSV and Parquet.\n",
      "Saved 1000 rows to CSV and Parquet.\n",
      "Saved 1000 rows to CSV and Parquet.\n",
      "Saved 1000 rows to CSV and Parquet.\n",
      "Saved 1000 rows to CSV and Parquet.\n",
      "Saved 1000 rows to CSV and Parquet.\n",
      "Saved 1000 rows to CSV and Parquet.\n",
      "Saved 1000 rows to CSV and Parquet.\n",
      "Saved 1000 rows to CSV and Parquet.\n",
      "Saved 1000 rows to CSV and Parquet.\n",
      "Saved 1000 rows to CSV and Parquet.\n",
      "Saved 1000 rows to CSV and Parquet.\n",
      "Saved 1000 rows to CSV and Parquet.\n",
      "Saved 1000 rows to CSV and Parquet.\n",
      "Saved 1000 rows to CSV and Parquet.\n",
      "Saved 1000 rows to CSV and Parquet.\n",
      "Saved 1000 rows to CSV and Parquet.\n",
      "Saved 1000 rows to CSV and Parquet.\n",
      "Saved 1000 rows to CSV and Parquet.\n",
      "Saved 1000 rows to CSV and Parquet.\n",
      "Saved 1000 rows to CSV and Parquet.\n",
      "Saved 1000 rows to CSV and Parquet.\n",
      "Saved 1000 rows to CSV and Parquet.\n",
      "Saved 1000 rows to CSV and Parquet.\n",
      "Saved 1000 rows to CSV and Parquet.\n",
      "Saved 1000 rows to CSV and Parquet.\n",
      "Saved 1000 rows to CSV and Parquet.\n",
      "Saved 1000 rows to CSV and Parquet.\n",
      "Saved 1000 rows to CSV and Parquet.\n",
      "Saved 1000 rows to CSV and Parquet.\n",
      "Saved 1000 rows to CSV and Parquet.\n",
      "Saved 1000 rows to CSV and Parquet.\n",
      "Saved 1000 rows to CSV and Parquet.\n",
      "Saved 1000 rows to CSV and Parquet.\n",
      "Saved 1000 rows to CSV and Parquet.\n",
      "Saved 1000 rows to CSV and Parquet.\n",
      "Saved 1000 rows to CSV and Parquet.\n",
      "Saved 1000 rows to CSV and Parquet.\n",
      "Saved 1000 rows to CSV and Parquet.\n",
      "Saved 1000 rows to CSV and Parquet.\n",
      "Saved 1000 rows to CSV and Parquet.\n",
      "Saved 1000 rows to CSV and Parquet.\n",
      "Saved 1000 rows to CSV and Parquet.\n",
      "Saved 1000 rows to CSV and Parquet.\n",
      "Saved 1000 rows to CSV and Parquet.\n",
      "Saved 1000 rows to CSV and Parquet.\n",
      "Saved 1000 rows to CSV and Parquet.\n",
      "Saved 1000 rows to CSV and Parquet.\n",
      "Saved 1000 rows to CSV and Parquet.\n",
      "Saved 1000 rows to CSV and Parquet.\n",
      "Saved 1000 rows to CSV and Parquet.\n",
      "Saved 1000 rows to CSV and Parquet.\n",
      "Saved 1000 rows to CSV and Parquet.\n",
      "Saved 1000 rows to CSV and Parquet.\n",
      "Saved 1000 rows to CSV and Parquet.\n",
      "Saved 1000 rows to CSV and Parquet.\n",
      "Saved 1000 rows to CSV and Parquet.\n",
      "Saved 1000 rows to CSV and Parquet.\n",
      "Saved 1000 rows to CSV and Parquet.\n",
      "Saved 1000 rows to CSV and Parquet.\n",
      "Saved 1000 rows to CSV and Parquet.\n",
      "Saved 1000 rows to CSV and Parquet.\n",
      "Saved 1000 rows to CSV and Parquet.\n",
      "Saved 1000 rows to CSV and Parquet.\n",
      "Saved 1000 rows to CSV and Parquet.\n",
      "Saved 1000 rows to CSV and Parquet.\n",
      "Saved 1000 rows to CSV and Parquet.\n",
      "Saved 1000 rows to CSV and Parquet.\n",
      "Saved 1000 rows to CSV and Parquet.\n",
      "Saved 1000 rows to CSV and Parquet.\n",
      "Saved 1000 rows to CSV and Parquet.\n",
      "Saved 1000 rows to CSV and Parquet.\n",
      "Saved 1000 rows to CSV and Parquet.\n",
      "Saved 1000 rows to CSV and Parquet.\n",
      "Saved 1000 rows to CSV and Parquet.\n",
      "Saved 1000 rows to CSV and Parquet.\n",
      "Saved 1000 rows to CSV and Parquet.\n",
      "Saved 1000 rows to CSV and Parquet.\n",
      "Saved 1000 rows to CSV and Parquet.\n",
      "Saved 1000 rows to CSV and Parquet.\n",
      "Saved 1000 rows to CSV and Parquet.\n",
      "Saved 1000 rows to CSV and Parquet.\n",
      "Saved 1000 rows to CSV and Parquet.\n",
      "Saved 1000 rows to CSV and Parquet.\n",
      "Saved 1000 rows to CSV and Parquet.\n",
      "Saved 1000 rows to CSV and Parquet.\n",
      "Saved 1000 rows to CSV and Parquet.\n",
      "Saved 1000 rows to CSV and Parquet.\n",
      "Saved 1000 rows to CSV and Parquet.\n",
      "Saved 1000 rows to CSV and Parquet.\n",
      "Saved 1000 rows to CSV and Parquet.\n",
      "Saved 1000 rows to CSV and Parquet.\n",
      "Saved 1000 rows to CSV and Parquet.\n",
      "Saved 1000 rows to CSV and Parquet.\n",
      "Saved 1000 rows to CSV and Parquet.\n",
      "Saved 1000 rows to CSV and Parquet.\n",
      "Saved 1000 rows to CSV and Parquet.\n",
      "Saved 1000 rows to CSV and Parquet.\n",
      "Saved 1000 rows to CSV and Parquet.\n",
      "Saved 1000 rows to CSV and Parquet.\n",
      "Saved 1000 rows to CSV and Parquet.\n",
      "Saved 1000 rows to CSV and Parquet.\n",
      "Saved 1000 rows to CSV and Parquet.\n",
      "Saved 1000 rows to CSV and Parquet.\n",
      "Saved 1000 rows to CSV and Parquet.\n",
      "Saved 1000 rows to CSV and Parquet.\n",
      "Saved 1000 rows to CSV and Parquet.\n",
      "Saved 1000 rows to CSV and Parquet.\n",
      "Saved 1000 rows to CSV and Parquet.\n",
      "Saved 1000 rows to CSV and Parquet.\n",
      "Saved 1000 rows to CSV and Parquet.\n",
      "Saved 1000 rows to CSV and Parquet.\n",
      "Saved 1000 rows to CSV and Parquet.\n",
      "Saved 1000 rows to CSV and Parquet.\n",
      "Saved 1000 rows to CSV and Parquet.\n",
      "Saved 1000 rows to CSV and Parquet.\n",
      "Saved 1000 rows to CSV and Parquet.\n",
      "Saved 1000 rows to CSV and Parquet.\n",
      "Saved 1000 rows to CSV and Parquet.\n",
      "Saved 1000 rows to CSV and Parquet.\n",
      "Saved 1000 rows to CSV and Parquet.\n",
      "Saved 1000 rows to CSV and Parquet.\n",
      "Saved 1000 rows to CSV and Parquet.\n",
      "Saved 1000 rows to CSV and Parquet.\n",
      "Saved 1000 rows to CSV and Parquet.\n",
      "Saved 1000 rows to CSV and Parquet.\n",
      "Saved 1000 rows to CSV and Parquet.\n",
      "Saved 1000 rows to CSV and Parquet.\n",
      "Saved 1000 rows to CSV and Parquet.\n",
      "Saved 1000 rows to CSV and Parquet.\n",
      "Saved 1000 rows to CSV and Parquet.\n",
      "Saved 1000 rows to CSV and Parquet.\n",
      "Saved 1000 rows to CSV and Parquet.\n",
      "Saved 1000 rows to CSV and Parquet.\n",
      "Saved 1000 rows to CSV and Parquet.\n",
      "Saved 1000 rows to CSV and Parquet.\n",
      "Saved 1000 rows to CSV and Parquet.\n",
      "Saved 1000 rows to CSV and Parquet.\n",
      "Saved 1000 rows to CSV and Parquet.\n",
      "Saved 1000 rows to CSV and Parquet.\n",
      "Saved 1000 rows to CSV and Parquet.\n",
      "Saved 1000 rows to CSV and Parquet.\n",
      "Saved 1000 rows to CSV and Parquet.\n",
      "Saved 1000 rows to CSV and Parquet.\n",
      "Saved 1000 rows to CSV and Parquet.\n",
      "Saved 1000 rows to CSV and Parquet.\n",
      "Saved 1000 rows to CSV and Parquet.\n",
      "Saved 1000 rows to CSV and Parquet.\n",
      "Saved 1000 rows to CSV and Parquet.\n",
      "Saved 1000 rows to CSV and Parquet.\n",
      "Saved 1000 rows to CSV and Parquet.\n",
      "Saved 1000 rows to CSV and Parquet.\n",
      "Saved 1000 rows to CSV and Parquet.\n",
      "Saved 1000 rows to CSV and Parquet.\n",
      "Saved 1000 rows to CSV and Parquet.\n",
      "Saved 1000 rows to CSV and Parquet.\n",
      "Saved 1000 rows to CSV and Parquet.\n",
      "Saved 1000 rows to CSV and Parquet.\n",
      "Saved 1000 rows to CSV and Parquet.\n",
      "Saved 1000 rows to CSV and Parquet.\n",
      "Saved 1000 rows to CSV and Parquet.\n",
      "Saved 1000 rows to CSV and Parquet.\n",
      "Saved 1000 rows to CSV and Parquet.\n",
      "Saved 1000 rows to CSV and Parquet.\n",
      "Saved 1000 rows to CSV and Parquet.\n",
      "Saved 1000 rows to CSV and Parquet.\n",
      "Saved 1000 rows to CSV and Parquet.\n",
      "Saved 1000 rows to CSV and Parquet.\n",
      "Saved 1000 rows to CSV and Parquet.\n",
      "Saved 1000 rows to CSV and Parquet.\n",
      "Saved 1000 rows to CSV and Parquet.\n",
      "Saved 1000 rows to CSV and Parquet.\n",
      "Saved 1000 rows to CSV and Parquet.\n",
      "Saved 1000 rows to CSV and Parquet.\n",
      "Saved 1000 rows to CSV and Parquet.\n",
      "Saved 1000 rows to CSV and Parquet.\n",
      "Saved 1000 rows to CSV and Parquet.\n",
      "Saved 1000 rows to CSV and Parquet.\n",
      "Saved 1000 rows to CSV and Parquet.\n",
      "Saved 1000 rows to CSV and Parquet.\n",
      "Saved 1000 rows to CSV and Parquet.\n",
      "Saved 1000 rows to CSV and Parquet.\n",
      "Saved 1000 rows to CSV and Parquet.\n",
      "Saved 1000 rows to CSV and Parquet.\n",
      "Saved 1000 rows to CSV and Parquet.\n",
      "Saved 1000 rows to CSV and Parquet.\n",
      "Saved 1000 rows to CSV and Parquet.\n",
      "Saved 1000 rows to CSV and Parquet.\n",
      "Saved 1000 rows to CSV and Parquet.\n",
      "Saved 1000 rows to CSV and Parquet.\n",
      "Saved 1000 rows to CSV and Parquet.\n",
      "Saved 1000 rows to CSV and Parquet.\n",
      "Saved 1000 rows to CSV and Parquet.\n",
      "Saved 1000 rows to CSV and Parquet.\n",
      "Saved 1000 rows to CSV and Parquet.\n",
      "Saved 1000 rows to CSV and Parquet.\n",
      "Saved 1000 rows to CSV and Parquet.\n",
      "Saved 1000 rows to CSV and Parquet.\n",
      "Saved 1000 rows to CSV and Parquet.\n",
      "Saved 1000 rows to CSV and Parquet.\n",
      "Saved 1000 rows to CSV and Parquet.\n",
      "Saved 1000 rows to CSV and Parquet.\n",
      "Saved 1000 rows to CSV and Parquet.\n",
      "Saved 1000 rows to CSV and Parquet.\n",
      "Saved 1000 rows to CSV and Parquet.\n",
      "Saved 1000 rows to CSV and Parquet.\n",
      "Saved 1000 rows to CSV and Parquet.\n",
      "Saved 1000 rows to CSV and Parquet.\n",
      "Saved 1000 rows to CSV and Parquet.\n",
      "Saved 1000 rows to CSV and Parquet.\n",
      "Saved 1000 rows to CSV and Parquet.\n",
      "Saved 1000 rows to CSV and Parquet.\n",
      "Saved 1000 rows to CSV and Parquet.\n",
      "Saved 1000 rows to CSV and Parquet.\n",
      "Saved 1000 rows to CSV and Parquet.\n",
      "Saved 1000 rows to CSV and Parquet.\n",
      "Saved 1000 rows to CSV and Parquet.\n",
      "Saved 1000 rows to CSV and Parquet.\n",
      "Saved 1000 rows to CSV and Parquet.\n",
      "Saved 1000 rows to CSV and Parquet.\n",
      "Saved 1000 rows to CSV and Parquet.\n",
      "Saved 1000 rows to CSV and Parquet.\n",
      "Saved 1000 rows to CSV and Parquet.\n",
      "Saved 1000 rows to CSV and Parquet.\n",
      "Saved 1000 rows to CSV and Parquet.\n",
      "Saved 1000 rows to CSV and Parquet.\n",
      "Saved 1000 rows to CSV and Parquet.\n",
      "Saved 1000 rows to CSV and Parquet.\n",
      "Saved 1000 rows to CSV and Parquet.\n",
      "Saved 1000 rows to CSV and Parquet.\n",
      "Saved 1000 rows to CSV and Parquet.\n",
      "Saved 1000 rows to CSV and Parquet.\n",
      "Saved 1000 rows to CSV and Parquet.\n",
      "Saved 1000 rows to CSV and Parquet.\n",
      "Saved 1000 rows to CSV and Parquet.\n",
      "Saved 1000 rows to CSV and Parquet.\n",
      "Saved 1000 rows to CSV and Parquet.\n",
      "Saved 1000 rows to CSV and Parquet.\n",
      "Saved 1000 rows to CSV and Parquet.\n",
      "Saved 1000 rows to CSV and Parquet.\n",
      "Saved 1000 rows to CSV and Parquet.\n",
      "Saved 1000 rows to CSV and Parquet.\n",
      "Saved 1000 rows to CSV and Parquet.\n",
      "Saved 1000 rows to CSV and Parquet.\n",
      "Saved 1000 rows to CSV and Parquet.\n",
      "Saved 1000 rows to CSV and Parquet.\n",
      "Saved 1000 rows to CSV and Parquet.\n",
      "Saved 1000 rows to CSV and Parquet.\n",
      "Saved 1000 rows to CSV and Parquet.\n",
      "Saved 1000 rows to CSV and Parquet.\n",
      "Saved 1000 rows to CSV and Parquet.\n",
      "Saved 1000 rows to CSV and Parquet.\n",
      "Saved 1000 rows to CSV and Parquet.\n",
      "Saved 1000 rows to CSV and Parquet.\n",
      "Saved 1000 rows to CSV and Parquet.\n",
      "Saved 1000 rows to CSV and Parquet.\n",
      "Saved 1000 rows to CSV and Parquet.\n",
      "Saved 1000 rows to CSV and Parquet.\n",
      "Saved 1000 rows to CSV and Parquet.\n",
      "Saved 1000 rows to CSV and Parquet.\n",
      "Saved 1000 rows to CSV and Parquet.\n",
      "Saved 1000 rows to CSV and Parquet.\n",
      "Saved 1000 rows to CSV and Parquet.\n",
      "Saved 1000 rows to CSV and Parquet.\n",
      "Saved 1000 rows to CSV and Parquet.\n",
      "Saved 1000 rows to CSV and Parquet.\n",
      "Saved 1000 rows to CSV and Parquet.\n",
      "Saved 1000 rows to CSV and Parquet.\n",
      "Saved 1000 rows to CSV and Parquet.\n",
      "Saved 1000 rows to CSV and Parquet.\n",
      "Saved 1000 rows to CSV and Parquet.\n",
      "Saved 1000 rows to CSV and Parquet.\n",
      "Saved 1000 rows to CSV and Parquet.\n",
      "Saved 1000 rows to CSV and Parquet.\n",
      "Saved 1000 rows to CSV and Parquet.\n",
      "Saved 1000 rows to CSV and Parquet.\n",
      "Saved 1000 rows to CSV and Parquet.\n",
      "Saved 1000 rows to CSV and Parquet.\n",
      "Saved 1000 rows to CSV and Parquet.\n",
      "Saved 1000 rows to CSV and Parquet.\n",
      "Saved 1000 rows to CSV and Parquet.\n",
      "Saved 1000 rows to CSV and Parquet.\n",
      "Saved 1000 rows to CSV and Parquet.\n",
      "Saved 1000 rows to CSV and Parquet.\n",
      "Saved 1000 rows to CSV and Parquet.\n",
      "Saved 1000 rows to CSV and Parquet.\n",
      "Saved 1000 rows to CSV and Parquet.\n",
      "Saved 1000 rows to CSV and Parquet.\n",
      "Saved 1000 rows to CSV and Parquet.\n",
      "Saved 1000 rows to CSV and Parquet.\n",
      "Saved 1000 rows to CSV and Parquet.\n",
      "Saved 1000 rows to CSV and Parquet.\n",
      "Saved 1000 rows to CSV and Parquet.\n",
      "Saved 1000 rows to CSV and Parquet.\n",
      "Saved 1000 rows to CSV and Parquet.\n",
      "Saved 1000 rows to CSV and Parquet.\n",
      "Saved 1000 rows to CSV and Parquet.\n",
      "Saved 1000 rows to CSV and Parquet.\n",
      "Saved 1000 rows to CSV and Parquet.\n",
      "Saved 1000 rows to CSV and Parquet.\n",
      "Saved 1000 rows to CSV and Parquet.\n",
      "Saved 1000 rows to CSV and Parquet.\n",
      "Saved 1000 rows to CSV and Parquet.\n",
      "Saved 1000 rows to CSV and Parquet.\n",
      "Saved 1000 rows to CSV and Parquet.\n",
      "Saved 1000 rows to CSV and Parquet.\n",
      "Saved 1000 rows to CSV and Parquet.\n",
      "Saved 1000 rows to CSV and Parquet.\n",
      "Saved 1000 rows to CSV and Parquet.\n",
      "Saved 1000 rows to CSV and Parquet.\n",
      "Saved 1000 rows to CSV and Parquet.\n",
      "Saved 1000 rows to CSV and Parquet.\n",
      "Saved 1000 rows to CSV and Parquet.\n",
      "Saved 1000 rows to CSV and Parquet.\n",
      "Saved 1000 rows to CSV and Parquet.\n",
      "Saved 1000 rows to CSV and Parquet.\n",
      "Saved 1000 rows to CSV and Parquet.\n",
      "Saved 1000 rows to CSV and Parquet.\n",
      "Saved 1000 rows to CSV and Parquet.\n",
      "Saved 1000 rows to CSV and Parquet.\n",
      "Saved 1000 rows to CSV and Parquet.\n",
      "Saved 1000 rows to CSV and Parquet.\n",
      "Saved 1000 rows to CSV and Parquet.\n",
      "Saved 1000 rows to CSV and Parquet.\n",
      "Saved 1000 rows to CSV and Parquet.\n",
      "Saved 1000 rows to CSV and Parquet.\n",
      "Saved 1000 rows to CSV and Parquet.\n",
      "Saved 1000 rows to CSV and Parquet.\n",
      "Saved 1000 rows to CSV and Parquet.\n",
      "Saved 1000 rows to CSV and Parquet.\n",
      "Saved 1000 rows to CSV and Parquet.\n",
      "Saved 1000 rows to CSV and Parquet.\n",
      "Saved 1000 rows to CSV and Parquet.\n",
      "Saved 1000 rows to CSV and Parquet.\n",
      "Saved 1000 rows to CSV and Parquet.\n",
      "Saved 1000 rows to CSV and Parquet.\n",
      "Saved 1000 rows to CSV and Parquet.\n",
      "Saved 1000 rows to CSV and Parquet.\n",
      "Saved 1000 rows to CSV and Parquet.\n",
      "Saved 1000 rows to CSV and Parquet.\n",
      "Saved 1000 rows to CSV and Parquet.\n",
      "Saved 1000 rows to CSV and Parquet.\n",
      "Saved 1000 rows to CSV and Parquet.\n",
      "Saved 1000 rows to CSV and Parquet.\n",
      "Saved 1000 rows to CSV and Parquet.\n",
      "Saved 1000 rows to CSV and Parquet.\n",
      "Saved 1000 rows to CSV and Parquet.\n",
      "Saved 1000 rows to CSV and Parquet.\n",
      "Saved 1000 rows to CSV and Parquet.\n",
      "Saved 1000 rows to CSV and Parquet.\n",
      "Saved 1000 rows to CSV and Parquet.\n",
      "Saved 1000 rows to CSV and Parquet.\n",
      "Saved 1000 rows to CSV and Parquet.\n",
      "Saved 1000 rows to CSV and Parquet.\n",
      "Saved 1000 rows to CSV and Parquet.\n",
      "Saved 1000 rows to CSV and Parquet.\n",
      "Saved 1000 rows to CSV and Parquet.\n",
      "Saved 1000 rows to CSV and Parquet.\n",
      "Saved 1000 rows to CSV and Parquet.\n",
      "Saved 1000 rows to CSV and Parquet.\n",
      "Saved 1000 rows to CSV and Parquet.\n",
      "Saved 1000 rows to CSV and Parquet.\n",
      "Saved 1000 rows to CSV and Parquet.\n",
      "Saved 1000 rows to CSV and Parquet.\n",
      "Saved 1000 rows to CSV and Parquet.\n",
      "Saved 1000 rows to CSV and Parquet.\n",
      "Saved 1000 rows to CSV and Parquet.\n",
      "Saved 1000 rows to CSV and Parquet.\n",
      "Saved 1000 rows to CSV and Parquet.\n",
      "Saved 1000 rows to CSV and Parquet.\n",
      "Saved 1000 rows to CSV and Parquet.\n",
      "Saved 1000 rows to CSV and Parquet.\n",
      "Saved 1000 rows to CSV and Parquet.\n",
      "Saved 1000 rows to CSV and Parquet.\n",
      "Saved 1000 rows to CSV and Parquet.\n",
      "Saved 1000 rows to CSV and Parquet.\n",
      "Saved 1000 rows to CSV and Parquet.\n",
      "Saved 1000 rows to CSV and Parquet.\n",
      "Saved 1000 rows to CSV and Parquet.\n",
      "Saved 1000 rows to CSV and Parquet.\n",
      "Saved 1000 rows to CSV and Parquet.\n",
      "Saved 1000 rows to CSV and Parquet.\n",
      "Saved 1000 rows to CSV and Parquet.\n",
      "Saved 1000 rows to CSV and Parquet.\n",
      "Saved 1000 rows to CSV and Parquet.\n",
      "Saved 1000 rows to CSV and Parquet.\n",
      "Saved 1000 rows to CSV and Parquet.\n",
      "Saved 1000 rows to CSV and Parquet.\n",
      "Saved 1000 rows to CSV and Parquet.\n",
      "Saved 1000 rows to CSV and Parquet.\n",
      "Saved 1000 rows to CSV and Parquet.\n",
      "Saved 1000 rows to CSV and Parquet.\n",
      "Saved 1000 rows to CSV and Parquet.\n",
      "Saved 1000 rows to CSV and Parquet.\n",
      "Saved 1000 rows to CSV and Parquet.\n",
      "Saved 1000 rows to CSV and Parquet.\n",
      "Saved 1000 rows to CSV and Parquet.\n",
      "Saved 1000 rows to CSV and Parquet.\n",
      "Saved 1000 rows to CSV and Parquet.\n",
      "Saved 1000 rows to CSV and Parquet.\n",
      "Saved 1000 rows to CSV and Parquet.\n",
      "Saved 1000 rows to CSV and Parquet.\n",
      "Saved 1000 rows to CSV and Parquet.\n",
      "Saved 1000 rows to CSV and Parquet.\n",
      "Saved 1000 rows to CSV and Parquet.\n",
      "Saved 1000 rows to CSV and Parquet.\n",
      "Saved 1000 rows to CSV and Parquet.\n",
      "Saved 1000 rows to CSV and Parquet.\n",
      "Saved 1000 rows to CSV and Parquet.\n",
      "Saved 1000 rows to CSV and Parquet.\n",
      "Saved 1000 rows to CSV and Parquet.\n",
      "Saved 1000 rows to CSV and Parquet.\n",
      "Saved 1000 rows to CSV and Parquet.\n",
      "Saved 1000 rows to CSV and Parquet.\n",
      "Saved 1000 rows to CSV and Parquet.\n",
      "Saved 1000 rows to CSV and Parquet.\n",
      "Saved 1000 rows to CSV and Parquet.\n",
      "Saved 1000 rows to CSV and Parquet.\n",
      "Saved 1000 rows to CSV and Parquet.\n",
      "Saved 1000 rows to CSV and Parquet.\n",
      "Saved 1000 rows to CSV and Parquet.\n",
      "Saved 1000 rows to CSV and Parquet.\n",
      "Saved 1000 rows to CSV and Parquet.\n",
      "Saved 1000 rows to CSV and Parquet.\n",
      "Saved 1000 rows to CSV and Parquet.\n",
      "Saved 1000 rows to CSV and Parquet.\n",
      "Saved 1000 rows to CSV and Parquet.\n",
      "Saved 1000 rows to CSV and Parquet.\n",
      "Saved 1000 rows to CSV and Parquet.\n",
      "Saved 1000 rows to CSV and Parquet.\n",
      "Saved 1000 rows to CSV and Parquet.\n",
      "Saved 1000 rows to CSV and Parquet.\n",
      "Saved 1000 rows to CSV and Parquet.\n",
      "Saved 1000 rows to CSV and Parquet.\n",
      "Saved 1000 rows to CSV and Parquet.\n",
      "Saved 1000 rows to CSV and Parquet.\n",
      "Saved 1000 rows to CSV and Parquet.\n",
      "Saved 1000 rows to CSV and Parquet.\n",
      "Saved 1000 rows to CSV and Parquet.\n",
      "Saved 1000 rows to CSV and Parquet.\n",
      "Saved 1000 rows to CSV and Parquet.\n",
      "Saved 1000 rows to CSV and Parquet.\n",
      "Saved 1000 rows to CSV and Parquet.\n",
      "Saved 1000 rows to CSV and Parquet.\n",
      "Saved 1000 rows to CSV and Parquet.\n",
      "Saved 1000 rows to CSV and Parquet.\n",
      "Saved 1000 rows to CSV and Parquet.\n",
      "Saved 1000 rows to CSV and Parquet.\n",
      "Saved 1000 rows to CSV and Parquet.\n",
      "Saved 1000 rows to CSV and Parquet.\n",
      "Saved 1000 rows to CSV and Parquet.\n",
      "Saved 1000 rows to CSV and Parquet.\n",
      "Saved 1000 rows to CSV and Parquet.\n",
      "Saved 1000 rows to CSV and Parquet.\n",
      "Saved 1000 rows to CSV and Parquet.\n",
      "Saved 1000 rows to CSV and Parquet.\n",
      "Saved 1000 rows to CSV and Parquet.\n",
      "Saved 1000 rows to CSV and Parquet.\n",
      "Saved 1000 rows to CSV and Parquet.\n",
      "Saved 1000 rows to CSV and Parquet.\n",
      "Saved 1000 rows to CSV and Parquet.\n",
      "Saved 1000 rows to CSV and Parquet.\n",
      "Saved 1000 rows to CSV and Parquet.\n",
      "Saved 1000 rows to CSV and Parquet.\n",
      "Saved 1000 rows to CSV and Parquet.\n",
      "Saved 1000 rows to CSV and Parquet.\n",
      "Saved 1000 rows to CSV and Parquet.\n",
      "Saved 1000 rows to CSV and Parquet.\n",
      "Saved 1000 rows to CSV and Parquet.\n",
      "Saved 1000 rows to CSV and Parquet.\n",
      "Saved 1000 rows to CSV and Parquet.\n",
      "Saved 1000 rows to CSV and Parquet.\n",
      "Saved 1000 rows to CSV and Parquet.\n",
      "Saved 1000 rows to CSV and Parquet.\n",
      "Saved 1000 rows to CSV and Parquet.\n",
      "Saved 1000 rows to CSV and Parquet.\n",
      "Saved 1000 rows to CSV and Parquet.\n",
      "Saved 1000 rows to CSV and Parquet.\n",
      "Saved 1000 rows to CSV and Parquet.\n",
      "Saved 1000 rows to CSV and Parquet.\n",
      "Saved 1000 rows to CSV and Parquet.\n",
      "Saved 1000 rows to CSV and Parquet.\n",
      "Saved 1000 rows to CSV and Parquet.\n",
      "Saved 1000 rows to CSV and Parquet.\n",
      "Saved 1000 rows to CSV and Parquet.\n",
      "Saved 1000 rows to CSV and Parquet.\n",
      "Saved 1000 rows to CSV and Parquet.\n",
      "Saved 1000 rows to CSV and Parquet.\n",
      "Saved 1000 rows to CSV and Parquet.\n",
      "Saved 1000 rows to CSV and Parquet.\n",
      "Saved 1000 rows to CSV and Parquet.\n",
      "Saved 1000 rows to CSV and Parquet.\n",
      "Saved 1000 rows to CSV and Parquet.\n",
      "Saved 1000 rows to CSV and Parquet.\n",
      "Saved 1000 rows to CSV and Parquet.\n",
      "Saved 1000 rows to CSV and Parquet.\n",
      "Saved 1000 rows to CSV and Parquet.\n",
      "Saved 1000 rows to CSV and Parquet.\n",
      "Saved 1000 rows to CSV and Parquet.\n",
      "Saved 1000 rows to CSV and Parquet.\n",
      "Saved 1000 rows to CSV and Parquet.\n",
      "Saved 1000 rows to CSV and Parquet.\n",
      "Saved 1000 rows to CSV and Parquet.\n",
      "Saved 1000 rows to CSV and Parquet.\n",
      "Saved 1000 rows to CSV and Parquet.\n",
      "Saved 1000 rows to CSV and Parquet.\n",
      "Saved 1000 rows to CSV and Parquet.\n",
      "Saved 1000 rows to CSV and Parquet.\n",
      "Saved 1000 rows to CSV and Parquet.\n",
      "Saved 1000 rows to CSV and Parquet.\n",
      "Saved 1000 rows to CSV and Parquet.\n",
      "Saved 1000 rows to CSV and Parquet.\n",
      "Saved 1000 rows to CSV and Parquet.\n",
      "Saved 1000 rows to CSV and Parquet.\n",
      "Saved 1000 rows to CSV and Parquet.\n",
      "Saved 1000 rows to CSV and Parquet.\n",
      "Saved 1000 rows to CSV and Parquet.\n",
      "Saved 1000 rows to CSV and Parquet.\n",
      "Saved 1000 rows to CSV and Parquet.\n",
      "Saved 1000 rows to CSV and Parquet.\n",
      "Saved 1000 rows to CSV and Parquet.\n",
      "Saved 1000 rows to CSV and Parquet.\n",
      "Saved 1000 rows to CSV and Parquet.\n",
      "Saved 1000 rows to CSV and Parquet.\n",
      "Saved 1000 rows to CSV and Parquet.\n",
      "Saved 1000 rows to CSV and Parquet.\n",
      "Saved 1000 rows to CSV and Parquet.\n",
      "Saved 1000 rows to CSV and Parquet.\n",
      "Saved 1000 rows to CSV and Parquet.\n",
      "Saved 1000 rows to CSV and Parquet.\n",
      "Saved 1000 rows to CSV and Parquet.\n",
      "Saved 1000 rows to CSV and Parquet.\n",
      "Saved 1000 rows to CSV and Parquet.\n",
      "Saved 1000 rows to CSV and Parquet.\n",
      "Saved 1000 rows to CSV and Parquet.\n",
      "Saved 1000 rows to CSV and Parquet.\n",
      "Saved 1000 rows to CSV and Parquet.\n",
      "Saved 1000 rows to CSV and Parquet.\n",
      "Saved 1000 rows to CSV and Parquet.\n",
      "Saved 1000 rows to CSV and Parquet.\n",
      "Saved 1000 rows to CSV and Parquet.\n",
      "Saved 1000 rows to CSV and Parquet.\n",
      "Saved 1000 rows to CSV and Parquet.\n",
      "Saved 1000 rows to CSV and Parquet.\n",
      "Saved 1000 rows to CSV and Parquet.\n",
      "Saved 1000 rows to CSV and Parquet.\n",
      "Saved 1000 rows to CSV and Parquet.\n",
      "Saved 1000 rows to CSV and Parquet.\n",
      "Saved 1000 rows to CSV and Parquet.\n",
      "Saved 1000 rows to CSV and Parquet.\n",
      "Saved 1000 rows to CSV and Parquet.\n",
      "Saved 1000 rows to CSV and Parquet.\n",
      "Error retrieving data at position 1000000.\n",
      "Failed on count=333501 with strerror=Terminal: Call failed\n",
      "Download complete.\n"
     ]
    }
   ],
   "source": [
    "import MetaTrader5 as mt5\n",
    "import pandas as pd\n",
    "from datetime import datetime\n",
    "import os\n",
    "\n",
    "def download_and_save_data(symbol, timeframe, start_pos, num_bars, chunk_size, csv_filename, parquet_filename):\n",
    "    # Initialize MetaTrader 5 connection\n",
    "    if not mt5.initialize():\n",
    "        print(\"initialize() failed, error code =\", mt5.last_error())\n",
    "        return\n",
    "    \n",
    "    # Create empty list to store rates\n",
    "    all_rates = []\n",
    "    \n",
    "    # Check if files already exist\n",
    "    csv_exists = os.path.exists(csv_filename)\n",
    "    parquet_exists = os.path.exists(parquet_filename)\n",
    "    \n",
    "    # Download the data in chunks\n",
    "    for i in range(0, num_bars, chunk_size):\n",
    "        chunk_bars = min(chunk_size, num_bars - i)\n",
    "        \n",
    "        # Fetch the data for the chunk\n",
    "        rates = mt5.copy_rates_from_pos(symbol, timeframe, start_pos + i, chunk_bars)\n",
    "        \n",
    "        if rates is None:\n",
    "            print(f\"Error retrieving data at position {start_pos + i}.\")\n",
    "            errno, strerror = mt5.last_error()\n",
    "            if errno != mt5.RES_S_OK:\n",
    "                print(f\"Failed on count={count} with strerror={strerror}\")\n",
    "            break\n",
    "        \n",
    "        # Convert to DataFrame\n",
    "        rates_frame = pd.DataFrame(rates)\n",
    "        rates_frame['time'] = pd.to_datetime(rates_frame['time'], unit='s')\n",
    "        \n",
    "        # Append to CSV\n",
    "        rates_frame.to_csv(\n",
    "            csv_filename, \n",
    "            mode='a', \n",
    "            header=not csv_exists,  # Write header only if file doesn't exist\n",
    "            index=False\n",
    "        )\n",
    "        \n",
    "        # Append to Parquet\n",
    "        if parquet_exists:\n",
    "            rates_frame.to_parquet(\n",
    "                parquet_filename, \n",
    "                engine='fastparquet', \n",
    "                append=True,  # Append data if file exists\n",
    "                index=False\n",
    "            )\n",
    "        else:\n",
    "            rates_frame.to_parquet(\n",
    "                parquet_filename, \n",
    "                engine='fastparquet', \n",
    "                index=False\n",
    "            )\n",
    "            parquet_exists = True  # Update the flag\n",
    "        \n",
    "        # Update progress\n",
    "        print(f\"Saved {len(rates_frame)} rows to CSV and Parquet.\")\n",
    "        csv_exists = True  # Update the flag\n",
    "    \n",
    "    # Shutdown MetaTrader 5 connection\n",
    "    mt5.shutdown()\n",
    "    print(\"Download complete.\")\n",
    "\n",
    "# Parameters\n",
    "symbol = \"XAUUSD\"\n",
    "timeframe = mt5.TIMEFRAME_M1  # Daily bars\n",
    "timeframe_str = \"m1\"\n",
    "start_pos = 0\n",
    "num_bars = 100000000  # Total number of bars you want to download\n",
    "chunk_size = 1000  # Size of each chunk to download at a time\n",
    "csv_filename = f\"{symbol}_data_{timeframe_str}.csv\"\n",
    "parquet_filename = f\"{symbol}_data_{timeframe_str}.parquet\"\n",
    "\n",
    "# Call the function to download and save the data\n",
    "download_and_save_data(symbol, timeframe, start_pos, num_bars, chunk_size, csv_filename, parquet_filename)\n"
   ]
  },
  {
   "cell_type": "markdown",
   "id": "58d1e7301eed868b",
   "metadata": {
    "collapsed": false
   },
   "source": [
    "# Load a mt5 csv ticks file"
   ]
  },
  {
   "cell_type": "code",
   "execution_count": 4,
   "id": "076f76bb",
   "metadata": {},
   "outputs": [],
   "source": [
    "import duckdb\n",
    "\n",
    "con = duckdb.connect()"
   ]
  },
  {
   "cell_type": "code",
   "execution_count": 13,
   "id": "4256e094",
   "metadata": {},
   "outputs": [
    {
     "data": {
      "text/plain": [
       "[<matplotlib.lines.Line2D at 0x27093458b90>]"
      ]
     },
     "execution_count": 13,
     "metadata": {},
     "output_type": "execute_result"
    },
    {
     "data": {
      "image/png": "[encoded data removed]",
      "text/plain": [
       "<Figure size 640x480 with 1 Axes>"
      ]
     },
     "metadata": {},
     "output_type": "display_data"
    }
   ],
   "source": [
    "df = con.sql(\"from parquet_scan('XAUUSD_data_m1.parquet')\").fetchdf()\n",
    "\n",
    "import matplotlib.pyplot as plt\n",
    "plt.plot(df['time'], df['close'])"
   ]
  },
  {
   "cell_type": "code",
   "execution_count": 6,
   "id": "8543b7488146c38",
   "metadata": {
    "ExecuteTime": {
     "end_time": "2023-12-10T20:51:47.952639Z",
     "start_time": "2023-12-10T20:51:47.915827Z"
    },
    "collapsed": false
   },
   "outputs": [],
   "source": [
    "csv_file = os.path.join(DATA_PATH, \"EURUSD.i_201808220305_202312012359.csv\")"
   ]
  },
  {
   "cell_type": "code",
   "execution_count": 7,
   "id": "ec9e54165475d82",
   "metadata": {
    "ExecuteTime": {
     "end_time": "2023-12-10T20:51:48.048913Z",
     "start_time": "2023-12-10T20:51:48.028609Z"
    },
    "collapsed": false
   },
   "outputs": [],
   "source": [
    "ts_start = pd.Timestamp(\"201808220305\") \n",
    "ts_end = pd.Timestamp(\"202312012359\")"
   ]
  },
  {
   "cell_type": "code",
   "execution_count": 8,
   "id": "a2db28ceac3c14b1",
   "metadata": {
    "ExecuteTime": {
     "end_time": "2023-12-10T20:51:48.248253Z",
     "start_time": "2023-12-10T20:51:48.226654Z"
    },
    "collapsed": false
   },
   "outputs": [],
   "source": [
    "#df: pd.DataFrame = dd.read_csv(csv_file, header=0, sep=\"\\t\", parse_dates={'time' : [0, 1]})"
   ]
  },
  {
   "cell_type": "code",
   "execution_count": 9,
   "id": "6818c59c1aeac0c",
   "metadata": {
    "ExecuteTime": {
     "end_time": "2023-12-10T20:51:48.800309Z",
     "start_time": "2023-12-10T20:51:48.779471Z"
    },
    "collapsed": false
   },
   "outputs": [],
   "source": [
    "# time    <BID>    <ASK>   <LAST> <VOLUME> <FLAGS>\n",
    "#new_columns = ['time', 'bid', 'ask', 'last', 'volume', 'flags']\n",
    "#df = df.rename(columns=dict(zip(df.columns, new_columns)))"
   ]
  },
  {
   "cell_type": "code",
   "execution_count": 10,
   "id": "6e46d99fd5bdc5fb",
   "metadata": {
    "ExecuteTime": {
     "end_time": "2023-12-10T20:51:48.952255Z",
     "start_time": "2023-12-10T20:51:48.932507Z"
    },
    "collapsed": false
   },
   "outputs": [],
   "source": [
    "wrangler = QuoteTickDataWrangler(instrument)\n",
    "catalog = ParquetDataCatalog(CATALOG_PATH)"
   ]
  },
  {
   "cell_type": "code",
   "execution_count": 12,
   "id": "46a5e427291862e",
   "metadata": {
    "ExecuteTime": {
     "end_time": "2023-12-10T22:04:16.624687Z",
     "start_time": "2023-12-10T20:55:02.637120Z"
    },
    "collapsed": false
   },
   "outputs": [
    {
     "name": "stdout",
     "output_type": "stream",
     "text": [
      "min bid before: 1.15254\n",
      "min ask before: 1.15265\n",
      "found 1000000 nans in chunk 0\n",
      "min bid after: 1.15254\n",
      "min ask after: 1.15265\n"
     ]
    },
    {
     "name": "stderr",
     "output_type": "stream",
     "text": [
      "/var/folders/hr/622sc4x53h1457kksyx5ttk80000gn/T/ipykernel_15308/2338413929.py:38: FutureWarning: DataFrame.fillna with 'method' is deprecated and will raise in a future version. Use obj.ffill() or obj.bfill() instead.\n",
      "  chunk = chunk.fillna(method='bfill')\n",
      "/var/folders/hr/622sc4x53h1457kksyx5ttk80000gn/T/ipykernel_15308/2338413929.py:39: FutureWarning: DataFrame.fillna with 'method' is deprecated and will raise in a future version. Use obj.ffill() or obj.bfill() instead.\n",
      "  chunk = chunk.fillna(method='ffill')\n"
     ]
    },
    {
     "name": "stdout",
     "output_type": "stream",
     "text": [
      "written 1000000 ticks to: chunk-0 2018-08-22 03:05:25.665000 2018-09-12 18:18:44.202000\n",
      "min bid before: nan\n",
      "min ask before: 1.14635\n",
      "found 1000000 nans in chunk 1\n",
      "min bid after: 1.14633\n",
      "min ask after: 1.14635\n"
     ]
    },
    {
     "name": "stderr",
     "output_type": "stream",
     "text": [
      "/var/folders/hr/622sc4x53h1457kksyx5ttk80000gn/T/ipykernel_15308/2338413929.py:38: FutureWarning: DataFrame.fillna with 'method' is deprecated and will raise in a future version. Use obj.ffill() or obj.bfill() instead.\n",
      "  chunk = chunk.fillna(method='bfill')\n",
      "/var/folders/hr/622sc4x53h1457kksyx5ttk80000gn/T/ipykernel_15308/2338413929.py:39: FutureWarning: DataFrame.fillna with 'method' is deprecated and will raise in a future version. Use obj.ffill() or obj.bfill() instead.\n",
      "  chunk = chunk.fillna(method='ffill')\n"
     ]
    },
    {
     "name": "stdout",
     "output_type": "stream",
     "text": [
      "written 1000000 ticks to: chunk-1 2018-09-12 18:18:44.407000 2018-10-04 16:23:34.991000\n",
      "min bid before: 1.13795\n",
      "min ask before: 1.13795\n",
      "found 1000000 nans in chunk 2\n",
      "min bid after: 1.13795\n",
      "min ask after: 1.13795\n"
     ]
    },
    {
     "name": "stderr",
     "output_type": "stream",
     "text": [
      "/var/folders/hr/622sc4x53h1457kksyx5ttk80000gn/T/ipykernel_15308/2338413929.py:38: FutureWarning: DataFrame.fillna with 'method' is deprecated and will raise in a future version. Use obj.ffill() or obj.bfill() instead.\n",
      "  chunk = chunk.fillna(method='bfill')\n",
      "/var/folders/hr/622sc4x53h1457kksyx5ttk80000gn/T/ipykernel_15308/2338413929.py:39: FutureWarning: DataFrame.fillna with 'method' is deprecated and will raise in a future version. Use obj.ffill() or obj.bfill() instead.\n",
      "  chunk = chunk.fillna(method='ffill')\n"
     ]
    },
    {
     "name": "stdout",
     "output_type": "stream",
     "text": [
      "written 1000000 ticks to: chunk-2 2018-10-04 16:23:35.195000 2018-10-24 15:45:56.321000\n",
      "min bid before: 1.12157\n",
      "min ask before: 1.12159\n",
      "found 1000000 nans in chunk 3\n",
      "min bid after: 1.12157\n",
      "min ask after: 1.12159\n"
     ]
    },
    {
     "name": "stderr",
     "output_type": "stream",
     "text": [
      "/var/folders/hr/622sc4x53h1457kksyx5ttk80000gn/T/ipykernel_15308/2338413929.py:38: FutureWarning: DataFrame.fillna with 'method' is deprecated and will raise in a future version. Use obj.ffill() or obj.bfill() instead.\n",
      "  chunk = chunk.fillna(method='bfill')\n",
      "/var/folders/hr/622sc4x53h1457kksyx5ttk80000gn/T/ipykernel_15308/2338413929.py:39: FutureWarning: DataFrame.fillna with 'method' is deprecated and will raise in a future version. Use obj.ffill() or obj.bfill() instead.\n",
      "  chunk = chunk.fillna(method='ffill')\n"
     ]
    },
    {
     "name": "stdout",
     "output_type": "stream",
     "text": [
      "written 1000000 ticks to: chunk-3 2018-10-24 15:45:59.735000 2018-11-13 09:10:01.889000\n",
      "min bid before: 1.12218\n",
      "min ask before: nan\n",
      "found 1000000 nans in chunk 4\n",
      "min bid after: 1.12218\n",
      "min ask after: 1.1222\n"
     ]
    },
    {
     "name": "stderr",
     "output_type": "stream",
     "text": [
      "/var/folders/hr/622sc4x53h1457kksyx5ttk80000gn/T/ipykernel_15308/2338413929.py:38: FutureWarning: DataFrame.fillna with 'method' is deprecated and will raise in a future version. Use obj.ffill() or obj.bfill() instead.\n",
      "  chunk = chunk.fillna(method='bfill')\n",
      "/var/folders/hr/622sc4x53h1457kksyx5ttk80000gn/T/ipykernel_15308/2338413929.py:39: FutureWarning: DataFrame.fillna with 'method' is deprecated and will raise in a future version. Use obj.ffill() or obj.bfill() instead.\n",
      "  chunk = chunk.fillna(method='ffill')\n"
     ]
    },
    {
     "name": "stdout",
     "output_type": "stream",
     "text": [
      "written 1000000 ticks to: chunk-4 2018-11-13 09:10:02.294000 2018-12-03 12:35:10.261000\n",
      "min bid before: nan\n",
      "min ask before: 1.127\n",
      "found 1000000 nans in chunk 5\n",
      "min bid after: 1.127\n",
      "min ask after: 1.127\n"
     ]
    },
    {
     "name": "stderr",
     "output_type": "stream",
     "text": [
      "/var/folders/hr/622sc4x53h1457kksyx5ttk80000gn/T/ipykernel_15308/2338413929.py:38: FutureWarning: DataFrame.fillna with 'method' is deprecated and will raise in a future version. Use obj.ffill() or obj.bfill() instead.\n",
      "  chunk = chunk.fillna(method='bfill')\n",
      "/var/folders/hr/622sc4x53h1457kksyx5ttk80000gn/T/ipykernel_15308/2338413929.py:39: FutureWarning: DataFrame.fillna with 'method' is deprecated and will raise in a future version. Use obj.ffill() or obj.bfill() instead.\n",
      "  chunk = chunk.fillna(method='ffill')\n"
     ]
    },
    {
     "name": "stdout",
     "output_type": "stream",
     "text": [
      "written 1000000 ticks to: chunk-5 2018-12-03 12:35:11.466000 2018-12-20 20:06:42.500000\n",
      "min bid before: nan\n",
      "min ask before: 1.13098\n",
      "found 1000000 nans in chunk 6\n",
      "min bid after: 1.13091\n",
      "min ask after: 1.13098\n"
     ]
    },
    {
     "name": "stderr",
     "output_type": "stream",
     "text": [
      "/var/folders/hr/622sc4x53h1457kksyx5ttk80000gn/T/ipykernel_15308/2338413929.py:38: FutureWarning: DataFrame.fillna with 'method' is deprecated and will raise in a future version. Use obj.ffill() or obj.bfill() instead.\n",
      "  chunk = chunk.fillna(method='bfill')\n",
      "/var/folders/hr/622sc4x53h1457kksyx5ttk80000gn/T/ipykernel_15308/2338413929.py:39: FutureWarning: DataFrame.fillna with 'method' is deprecated and will raise in a future version. Use obj.ffill() or obj.bfill() instead.\n",
      "  chunk = chunk.fillna(method='ffill')\n"
     ]
    },
    {
     "name": "stdout",
     "output_type": "stream",
     "text": [
      "written 1000000 ticks to: chunk-6 2018-12-20 20:06:42.701000 2019-01-10 15:57:26.900000\n",
      "min bid before: 1.12892\n",
      "min ask before: 1.12895\n",
      "found 1000000 nans in chunk 7\n",
      "min bid after: 1.12892\n",
      "min ask after: 1.12895\n"
     ]
    },
    {
     "name": "stderr",
     "output_type": "stream",
     "text": [
      "/var/folders/hr/622sc4x53h1457kksyx5ttk80000gn/T/ipykernel_15308/2338413929.py:38: FutureWarning: DataFrame.fillna with 'method' is deprecated and will raise in a future version. Use obj.ffill() or obj.bfill() instead.\n",
      "  chunk = chunk.fillna(method='bfill')\n",
      "/var/folders/hr/622sc4x53h1457kksyx5ttk80000gn/T/ipykernel_15308/2338413929.py:39: FutureWarning: DataFrame.fillna with 'method' is deprecated and will raise in a future version. Use obj.ffill() or obj.bfill() instead.\n",
      "  chunk = chunk.fillna(method='ffill')\n"
     ]
    },
    {
     "name": "stdout",
     "output_type": "stream",
     "text": [
      "written 1000000 ticks to: chunk-7 2019-01-10 15:57:27.104000 2019-01-30 14:56:47.968000\n",
      "min bid before: 1.12341\n",
      "min ask before: 1.12342\n",
      "found 1000000 nans in chunk 8\n",
      "min bid after: 1.12341\n",
      "min ask after: 1.12342\n"
     ]
    },
    {
     "name": "stderr",
     "output_type": "stream",
     "text": [
      "/var/folders/hr/622sc4x53h1457kksyx5ttk80000gn/T/ipykernel_15308/2338413929.py:38: FutureWarning: DataFrame.fillna with 'method' is deprecated and will raise in a future version. Use obj.ffill() or obj.bfill() instead.\n",
      "  chunk = chunk.fillna(method='bfill')\n",
      "/var/folders/hr/622sc4x53h1457kksyx5ttk80000gn/T/ipykernel_15308/2338413929.py:39: FutureWarning: DataFrame.fillna with 'method' is deprecated and will raise in a future version. Use obj.ffill() or obj.bfill() instead.\n",
      "  chunk = chunk.fillna(method='ffill')\n"
     ]
    },
    {
     "name": "stdout",
     "output_type": "stream",
     "text": [
      "written 1000000 ticks to: chunk-8 2019-01-30 14:56:48.171000 2019-02-21 15:35:46.920000\n",
      "min bid before: nan\n",
      "min ask before: 1.11765\n",
      "found 1000000 nans in chunk 9\n",
      "min bid after: 1.11764\n",
      "min ask after: 1.11765\n"
     ]
    },
    {
     "name": "stderr",
     "output_type": "stream",
     "text": [
      "/var/folders/hr/622sc4x53h1457kksyx5ttk80000gn/T/ipykernel_15308/2338413929.py:38: FutureWarning: DataFrame.fillna with 'method' is deprecated and will raise in a future version. Use obj.ffill() or obj.bfill() instead.\n",
      "  chunk = chunk.fillna(method='bfill')\n",
      "/var/folders/hr/622sc4x53h1457kksyx5ttk80000gn/T/ipykernel_15308/2338413929.py:39: FutureWarning: DataFrame.fillna with 'method' is deprecated and will raise in a future version. Use obj.ffill() or obj.bfill() instead.\n",
      "  chunk = chunk.fillna(method='ffill')\n"
     ]
    },
    {
     "name": "stdout",
     "output_type": "stream",
     "text": [
      "written 1000000 ticks to: chunk-9 2019-02-21 15:35:47.523000 2019-03-14 14:41:20.044000\n",
      "min bid before: 1.11837\n",
      "min ask before: 1.11838\n",
      "found 1000000 nans in chunk 10\n",
      "min bid after: 1.11837\n",
      "min ask after: 1.11838\n"
     ]
    },
    {
     "name": "stderr",
     "output_type": "stream",
     "text": [
      "/var/folders/hr/622sc4x53h1457kksyx5ttk80000gn/T/ipykernel_15308/2338413929.py:38: FutureWarning: DataFrame.fillna with 'method' is deprecated and will raise in a future version. Use obj.ffill() or obj.bfill() instead.\n",
      "  chunk = chunk.fillna(method='bfill')\n",
      "/var/folders/hr/622sc4x53h1457kksyx5ttk80000gn/T/ipykernel_15308/2338413929.py:39: FutureWarning: DataFrame.fillna with 'method' is deprecated and will raise in a future version. Use obj.ffill() or obj.bfill() instead.\n",
      "  chunk = chunk.fillna(method='ffill')\n"
     ]
    },
    {
     "name": "stdout",
     "output_type": "stream",
     "text": [
      "written 1000000 ticks to: chunk-10 2019-03-14 14:41:20.445000 2019-04-03 12:58:15.116000\n",
      "min bid before: 1.11112\n",
      "min ask before: nan\n",
      "found 1000000 nans in chunk 11\n",
      "min bid after: 1.11112\n",
      "min ask after: 1.11118\n"
     ]
    },
    {
     "name": "stderr",
     "output_type": "stream",
     "text": [
      "/var/folders/hr/622sc4x53h1457kksyx5ttk80000gn/T/ipykernel_15308/2338413929.py:38: FutureWarning: DataFrame.fillna with 'method' is deprecated and will raise in a future version. Use obj.ffill() or obj.bfill() instead.\n",
      "  chunk = chunk.fillna(method='bfill')\n",
      "/var/folders/hr/622sc4x53h1457kksyx5ttk80000gn/T/ipykernel_15308/2338413929.py:39: FutureWarning: DataFrame.fillna with 'method' is deprecated and will raise in a future version. Use obj.ffill() or obj.bfill() instead.\n",
      "  chunk = chunk.fillna(method='ffill')\n"
     ]
    },
    {
     "name": "stdout",
     "output_type": "stream",
     "text": [
      "written 1000000 ticks to: chunk-11 2019-04-03 12:58:22.329000 2019-04-29 19:44:12.318000\n",
      "min bid before: nan\n",
      "min ask before: 1.11354\n",
      "found 1000000 nans in chunk 12\n",
      "min bid after: 1.11351\n",
      "min ask after: 1.11354\n"
     ]
    },
    {
     "name": "stderr",
     "output_type": "stream",
     "text": [
      "/var/folders/hr/622sc4x53h1457kksyx5ttk80000gn/T/ipykernel_15308/2338413929.py:38: FutureWarning: DataFrame.fillna with 'method' is deprecated and will raise in a future version. Use obj.ffill() or obj.bfill() instead.\n",
      "  chunk = chunk.fillna(method='bfill')\n",
      "/var/folders/hr/622sc4x53h1457kksyx5ttk80000gn/T/ipykernel_15308/2338413929.py:39: FutureWarning: DataFrame.fillna with 'method' is deprecated and will raise in a future version. Use obj.ffill() or obj.bfill() instead.\n",
      "  chunk = chunk.fillna(method='ffill')\n"
     ]
    },
    {
     "name": "stdout",
     "output_type": "stream",
     "text": [
      "written 1000000 ticks to: chunk-12 2019-04-29 19:44:12.907000 2019-05-22 15:02:05.710000\n",
      "min bid before: 1.11073\n",
      "min ask before: nan\n",
      "found 1000000 nans in chunk 13\n",
      "min bid after: 1.11073\n",
      "min ask after: 1.1107\n"
     ]
    },
    {
     "name": "stderr",
     "output_type": "stream",
     "text": [
      "/var/folders/hr/622sc4x53h1457kksyx5ttk80000gn/T/ipykernel_15308/2338413929.py:38: FutureWarning: DataFrame.fillna with 'method' is deprecated and will raise in a future version. Use obj.ffill() or obj.bfill() instead.\n",
      "  chunk = chunk.fillna(method='bfill')\n",
      "/var/folders/hr/622sc4x53h1457kksyx5ttk80000gn/T/ipykernel_15308/2338413929.py:39: FutureWarning: DataFrame.fillna with 'method' is deprecated and will raise in a future version. Use obj.ffill() or obj.bfill() instead.\n",
      "  chunk = chunk.fillna(method='ffill')\n"
     ]
    },
    {
     "name": "stdout",
     "output_type": "stream",
     "text": [
      "written 1000000 ticks to: chunk-13 2019-05-22 15:02:10.526000 2019-06-13 15:12:54.479000\n",
      "min bid before: nan\n",
      "min ask before: 1.11815\n",
      "found 1000000 nans in chunk 14\n",
      "min bid after: 1.11814\n",
      "min ask after: 1.11815\n"
     ]
    },
    {
     "name": "stderr",
     "output_type": "stream",
     "text": [
      "/var/folders/hr/622sc4x53h1457kksyx5ttk80000gn/T/ipykernel_15308/2338413929.py:38: FutureWarning: DataFrame.fillna with 'method' is deprecated and will raise in a future version. Use obj.ffill() or obj.bfill() instead.\n",
      "  chunk = chunk.fillna(method='bfill')\n",
      "/var/folders/hr/622sc4x53h1457kksyx5ttk80000gn/T/ipykernel_15308/2338413929.py:39: FutureWarning: DataFrame.fillna with 'method' is deprecated and will raise in a future version. Use obj.ffill() or obj.bfill() instead.\n",
      "  chunk = chunk.fillna(method='ffill')\n"
     ]
    },
    {
     "name": "stdout",
     "output_type": "stream",
     "text": [
      "written 1000000 ticks to: chunk-14 2019-06-13 15:12:55.883000 2019-07-04 03:06:21.636000\n",
      "min bid before: 1.11014\n",
      "min ask before: nan\n",
      "found 1000000 nans in chunk 15\n",
      "min bid after: 1.11014\n",
      "min ask after: 1.11016\n"
     ]
    },
    {
     "name": "stderr",
     "output_type": "stream",
     "text": [
      "/var/folders/hr/622sc4x53h1457kksyx5ttk80000gn/T/ipykernel_15308/2338413929.py:38: FutureWarning: DataFrame.fillna with 'method' is deprecated and will raise in a future version. Use obj.ffill() or obj.bfill() instead.\n",
      "  chunk = chunk.fillna(method='bfill')\n",
      "/var/folders/hr/622sc4x53h1457kksyx5ttk80000gn/T/ipykernel_15308/2338413929.py:39: FutureWarning: DataFrame.fillna with 'method' is deprecated and will raise in a future version. Use obj.ffill() or obj.bfill() instead.\n",
      "  chunk = chunk.fillna(method='ffill')\n"
     ]
    },
    {
     "name": "stdout",
     "output_type": "stream",
     "text": [
      "written 1000000 ticks to: chunk-15 2019-07-04 03:06:24.446000 2019-07-31 09:55:13.158000\n",
      "min bid before: 1.10269\n",
      "min ask before: 1.10271\n",
      "found 1000000 nans in chunk 16\n",
      "min bid after: 1.10269\n",
      "min ask after: 1.10271\n"
     ]
    },
    {
     "name": "stderr",
     "output_type": "stream",
     "text": [
      "/var/folders/hr/622sc4x53h1457kksyx5ttk80000gn/T/ipykernel_15308/2338413929.py:38: FutureWarning: DataFrame.fillna with 'method' is deprecated and will raise in a future version. Use obj.ffill() or obj.bfill() instead.\n",
      "  chunk = chunk.fillna(method='bfill')\n",
      "/var/folders/hr/622sc4x53h1457kksyx5ttk80000gn/T/ipykernel_15308/2338413929.py:39: FutureWarning: DataFrame.fillna with 'method' is deprecated and will raise in a future version. Use obj.ffill() or obj.bfill() instead.\n",
      "  chunk = chunk.fillna(method='ffill')\n"
     ]
    },
    {
     "name": "stdout",
     "output_type": "stream",
     "text": [
      "written 1000000 ticks to: chunk-16 2019-07-31 09:55:13.564000 2019-08-16 12:55:56.078000\n",
      "min bid before: 1.09261\n",
      "min ask before: nan\n",
      "found 1000000 nans in chunk 17\n",
      "min bid after: 1.09261\n",
      "min ask after: 1.09262\n"
     ]
    },
    {
     "name": "stderr",
     "output_type": "stream",
     "text": [
      "/var/folders/hr/622sc4x53h1457kksyx5ttk80000gn/T/ipykernel_15308/2338413929.py:38: FutureWarning: DataFrame.fillna with 'method' is deprecated and will raise in a future version. Use obj.ffill() or obj.bfill() instead.\n",
      "  chunk = chunk.fillna(method='bfill')\n",
      "/var/folders/hr/622sc4x53h1457kksyx5ttk80000gn/T/ipykernel_15308/2338413929.py:39: FutureWarning: DataFrame.fillna with 'method' is deprecated and will raise in a future version. Use obj.ffill() or obj.bfill() instead.\n",
      "  chunk = chunk.fillna(method='ffill')\n"
     ]
    },
    {
     "name": "stdout",
     "output_type": "stream",
     "text": [
      "written 1000000 ticks to: chunk-17 2019-08-16 12:55:59.689000 2019-09-11 11:42:57.990000\n",
      "min bid before: 1.0879\n",
      "min ask before: nan\n",
      "found 1000000 nans in chunk 18\n",
      "min bid after: 1.0879\n",
      "min ask after: 1.08793\n"
     ]
    },
    {
     "name": "stderr",
     "output_type": "stream",
     "text": [
      "/var/folders/hr/622sc4x53h1457kksyx5ttk80000gn/T/ipykernel_15308/2338413929.py:38: FutureWarning: DataFrame.fillna with 'method' is deprecated and will raise in a future version. Use obj.ffill() or obj.bfill() instead.\n",
      "  chunk = chunk.fillna(method='bfill')\n",
      "/var/folders/hr/622sc4x53h1457kksyx5ttk80000gn/T/ipykernel_15308/2338413929.py:39: FutureWarning: DataFrame.fillna with 'method' is deprecated and will raise in a future version. Use obj.ffill() or obj.bfill() instead.\n",
      "  chunk = chunk.fillna(method='ffill')\n"
     ]
    },
    {
     "name": "stdout",
     "output_type": "stream",
     "text": [
      "written 1000000 ticks to: chunk-18 2019-09-11 11:42:58.187000 2019-10-04 09:19:02.821000\n",
      "min bid before: 1.0941\n",
      "min ask before: 1.09413\n",
      "found 1000000 nans in chunk 19\n",
      "min bid after: 1.0941\n",
      "min ask after: 1.09413\n"
     ]
    },
    {
     "name": "stderr",
     "output_type": "stream",
     "text": [
      "/var/folders/hr/622sc4x53h1457kksyx5ttk80000gn/T/ipykernel_15308/2338413929.py:38: FutureWarning: DataFrame.fillna with 'method' is deprecated and will raise in a future version. Use obj.ffill() or obj.bfill() instead.\n",
      "  chunk = chunk.fillna(method='bfill')\n",
      "/var/folders/hr/622sc4x53h1457kksyx5ttk80000gn/T/ipykernel_15308/2338413929.py:39: FutureWarning: DataFrame.fillna with 'method' is deprecated and will raise in a future version. Use obj.ffill() or obj.bfill() instead.\n",
      "  chunk = chunk.fillna(method='ffill')\n"
     ]
    },
    {
     "name": "stdout",
     "output_type": "stream",
     "text": [
      "written 1000000 ticks to: chunk-19 2019-10-04 09:19:03.021000 2019-10-31 04:14:19.658000\n",
      "min bid before: nan\n",
      "min ask before: 1.09813\n",
      "found 1000000 nans in chunk 20\n",
      "min bid after: 1.09812\n",
      "min ask after: 1.09813\n"
     ]
    },
    {
     "name": "stderr",
     "output_type": "stream",
     "text": [
      "/var/folders/hr/622sc4x53h1457kksyx5ttk80000gn/T/ipykernel_15308/2338413929.py:38: FutureWarning: DataFrame.fillna with 'method' is deprecated and will raise in a future version. Use obj.ffill() or obj.bfill() instead.\n",
      "  chunk = chunk.fillna(method='bfill')\n",
      "/var/folders/hr/622sc4x53h1457kksyx5ttk80000gn/T/ipykernel_15308/2338413929.py:39: FutureWarning: DataFrame.fillna with 'method' is deprecated and will raise in a future version. Use obj.ffill() or obj.bfill() instead.\n",
      "  chunk = chunk.fillna(method='ffill')\n"
     ]
    },
    {
     "name": "stdout",
     "output_type": "stream",
     "text": [
      "written 1000000 ticks to: chunk-20 2019-10-31 04:14:26.280000 2019-12-04 03:22:25.734000\n",
      "min bid before: nan\n",
      "min ask before: 1.10401\n",
      "found 1000000 nans in chunk 21\n",
      "min bid after: 1.10398\n",
      "min ask after: 1.10401\n"
     ]
    },
    {
     "name": "stderr",
     "output_type": "stream",
     "text": [
      "/var/folders/hr/622sc4x53h1457kksyx5ttk80000gn/T/ipykernel_15308/2338413929.py:38: FutureWarning: DataFrame.fillna with 'method' is deprecated and will raise in a future version. Use obj.ffill() or obj.bfill() instead.\n",
      "  chunk = chunk.fillna(method='bfill')\n",
      "/var/folders/hr/622sc4x53h1457kksyx5ttk80000gn/T/ipykernel_15308/2338413929.py:39: FutureWarning: DataFrame.fillna with 'method' is deprecated and will raise in a future version. Use obj.ffill() or obj.bfill() instead.\n",
      "  chunk = chunk.fillna(method='ffill')\n"
     ]
    },
    {
     "name": "stdout",
     "output_type": "stream",
     "text": [
      "written 1000000 ticks to: chunk-21 2019-12-04 03:22:25.936000 2020-01-09 16:54:00.614000\n",
      "min bid before: nan\n",
      "min ask before: 1.08231\n",
      "found 1000000 nans in chunk 22\n",
      "min bid after: 1.08229\n",
      "min ask after: 1.08231\n"
     ]
    },
    {
     "name": "stderr",
     "output_type": "stream",
     "text": [
      "/var/folders/hr/622sc4x53h1457kksyx5ttk80000gn/T/ipykernel_15308/2338413929.py:38: FutureWarning: DataFrame.fillna with 'method' is deprecated and will raise in a future version. Use obj.ffill() or obj.bfill() instead.\n",
      "  chunk = chunk.fillna(method='bfill')\n",
      "/var/folders/hr/622sc4x53h1457kksyx5ttk80000gn/T/ipykernel_15308/2338413929.py:39: FutureWarning: DataFrame.fillna with 'method' is deprecated and will raise in a future version. Use obj.ffill() or obj.bfill() instead.\n",
      "  chunk = chunk.fillna(method='ffill')\n"
     ]
    },
    {
     "name": "stdout",
     "output_type": "stream",
     "text": [
      "written 1000000 ticks to: chunk-22 2020-01-09 16:54:04.432000 2020-02-18 10:37:32.343000\n",
      "min bid before: 1.07778\n",
      "min ask before: nan\n",
      "found 1000000 nans in chunk 23\n",
      "min bid after: 1.07778\n",
      "min ask after: 1.07781\n"
     ]
    },
    {
     "name": "stderr",
     "output_type": "stream",
     "text": [
      "/var/folders/hr/622sc4x53h1457kksyx5ttk80000gn/T/ipykernel_15308/2338413929.py:38: FutureWarning: DataFrame.fillna with 'method' is deprecated and will raise in a future version. Use obj.ffill() or obj.bfill() instead.\n",
      "  chunk = chunk.fillna(method='bfill')\n",
      "/var/folders/hr/622sc4x53h1457kksyx5ttk80000gn/T/ipykernel_15308/2338413929.py:39: FutureWarning: DataFrame.fillna with 'method' is deprecated and will raise in a future version. Use obj.ffill() or obj.bfill() instead.\n",
      "  chunk = chunk.fillna(method='ffill')\n"
     ]
    },
    {
     "name": "stdout",
     "output_type": "stream",
     "text": [
      "written 1000000 ticks to: chunk-23 2020-02-18 10:37:32.540000 2020-03-06 23:21:00.245000\n",
      "min bid before: 1.0973\n",
      "min ask before: 1.09738\n",
      "found 1000000 nans in chunk 24\n",
      "min bid after: 1.0973\n",
      "min ask after: 1.09738\n"
     ]
    },
    {
     "name": "stderr",
     "output_type": "stream",
     "text": [
      "/var/folders/hr/622sc4x53h1457kksyx5ttk80000gn/T/ipykernel_15308/2338413929.py:38: FutureWarning: DataFrame.fillna with 'method' is deprecated and will raise in a future version. Use obj.ffill() or obj.bfill() instead.\n",
      "  chunk = chunk.fillna(method='bfill')\n",
      "/var/folders/hr/622sc4x53h1457kksyx5ttk80000gn/T/ipykernel_15308/2338413929.py:39: FutureWarning: DataFrame.fillna with 'method' is deprecated and will raise in a future version. Use obj.ffill() or obj.bfill() instead.\n",
      "  chunk = chunk.fillna(method='ffill')\n"
     ]
    },
    {
     "name": "stdout",
     "output_type": "stream",
     "text": [
      "written 1000000 ticks to: chunk-24 2020-03-06 23:21:04.856000 2020-03-17 17:26:07.398000\n",
      "min bid before: 1.06358\n",
      "min ask before: nan\n",
      "found 1000000 nans in chunk 25\n",
      "min bid after: 1.06358\n",
      "min ask after: 1.06366\n"
     ]
    },
    {
     "name": "stderr",
     "output_type": "stream",
     "text": [
      "/var/folders/hr/622sc4x53h1457kksyx5ttk80000gn/T/ipykernel_15308/2338413929.py:38: FutureWarning: DataFrame.fillna with 'method' is deprecated and will raise in a future version. Use obj.ffill() or obj.bfill() instead.\n",
      "  chunk = chunk.fillna(method='bfill')\n",
      "/var/folders/hr/622sc4x53h1457kksyx5ttk80000gn/T/ipykernel_15308/2338413929.py:39: FutureWarning: DataFrame.fillna with 'method' is deprecated and will raise in a future version. Use obj.ffill() or obj.bfill() instead.\n",
      "  chunk = chunk.fillna(method='ffill')\n"
     ]
    },
    {
     "name": "stdout",
     "output_type": "stream",
     "text": [
      "written 1000000 ticks to: chunk-25 2020-03-17 17:26:07.596000 2020-03-25 15:56:35.195000\n",
      "min bid before: 1.07682\n",
      "min ask before: 1.07687\n",
      "found 1000000 nans in chunk 26\n",
      "min bid after: 1.07682\n",
      "min ask after: 1.07687\n"
     ]
    },
    {
     "name": "stderr",
     "output_type": "stream",
     "text": [
      "/var/folders/hr/622sc4x53h1457kksyx5ttk80000gn/T/ipykernel_15308/2338413929.py:38: FutureWarning: DataFrame.fillna with 'method' is deprecated and will raise in a future version. Use obj.ffill() or obj.bfill() instead.\n",
      "  chunk = chunk.fillna(method='bfill')\n",
      "/var/folders/hr/622sc4x53h1457kksyx5ttk80000gn/T/ipykernel_15308/2338413929.py:39: FutureWarning: DataFrame.fillna with 'method' is deprecated and will raise in a future version. Use obj.ffill() or obj.bfill() instead.\n",
      "  chunk = chunk.fillna(method='ffill')\n"
     ]
    },
    {
     "name": "stdout",
     "output_type": "stream",
     "text": [
      "written 1000000 ticks to: chunk-26 2020-03-25 15:56:35.600000 2020-04-07 17:29:16.495000\n",
      "min bid before: nan\n",
      "min ask before: 1.07273\n",
      "found 1000000 nans in chunk 27\n",
      "min bid after: 1.0727\n",
      "min ask after: 1.07273\n"
     ]
    },
    {
     "name": "stderr",
     "output_type": "stream",
     "text": [
      "/var/folders/hr/622sc4x53h1457kksyx5ttk80000gn/T/ipykernel_15308/2338413929.py:38: FutureWarning: DataFrame.fillna with 'method' is deprecated and will raise in a future version. Use obj.ffill() or obj.bfill() instead.\n",
      "  chunk = chunk.fillna(method='bfill')\n",
      "/var/folders/hr/622sc4x53h1457kksyx5ttk80000gn/T/ipykernel_15308/2338413929.py:39: FutureWarning: DataFrame.fillna with 'method' is deprecated and will raise in a future version. Use obj.ffill() or obj.bfill() instead.\n",
      "  chunk = chunk.fillna(method='ffill')\n"
     ]
    },
    {
     "name": "stdout",
     "output_type": "stream",
     "text": [
      "written 1000000 ticks to: chunk-27 2020-04-07 17:29:16.898000 2020-04-28 04:51:09.251000\n",
      "min bid before: nan\n",
      "min ask before: 1.07667\n",
      "found 1000000 nans in chunk 28\n",
      "min bid after: 1.07664\n",
      "min ask after: 1.07667\n"
     ]
    },
    {
     "name": "stderr",
     "output_type": "stream",
     "text": [
      "/var/folders/hr/622sc4x53h1457kksyx5ttk80000gn/T/ipykernel_15308/2338413929.py:38: FutureWarning: DataFrame.fillna with 'method' is deprecated and will raise in a future version. Use obj.ffill() or obj.bfill() instead.\n",
      "  chunk = chunk.fillna(method='bfill')\n",
      "/var/folders/hr/622sc4x53h1457kksyx5ttk80000gn/T/ipykernel_15308/2338413929.py:39: FutureWarning: DataFrame.fillna with 'method' is deprecated and will raise in a future version. Use obj.ffill() or obj.bfill() instead.\n",
      "  chunk = chunk.fillna(method='ffill')\n"
     ]
    },
    {
     "name": "stdout",
     "output_type": "stream",
     "text": [
      "written 1000000 ticks to: chunk-28 2020-04-28 04:51:09.451000 2020-05-19 11:46:47.700000\n",
      "min bid before: 1.08706\n",
      "min ask before: 1.08707\n",
      "found 1000000 nans in chunk 29\n",
      "min bid after: 1.08706\n",
      "min ask after: 1.08707\n"
     ]
    },
    {
     "name": "stderr",
     "output_type": "stream",
     "text": [
      "/var/folders/hr/622sc4x53h1457kksyx5ttk80000gn/T/ipykernel_15308/2338413929.py:38: FutureWarning: DataFrame.fillna with 'method' is deprecated and will raise in a future version. Use obj.ffill() or obj.bfill() instead.\n",
      "  chunk = chunk.fillna(method='bfill')\n",
      "/var/folders/hr/622sc4x53h1457kksyx5ttk80000gn/T/ipykernel_15308/2338413929.py:39: FutureWarning: DataFrame.fillna with 'method' is deprecated and will raise in a future version. Use obj.ffill() or obj.bfill() instead.\n",
      "  chunk = chunk.fillna(method='ffill')\n"
     ]
    },
    {
     "name": "stdout",
     "output_type": "stream",
     "text": [
      "written 1000000 ticks to: chunk-29 2020-05-19 11:46:48.305000 2020-06-08 05:20:37.422000\n",
      "min bid before: 1.11682\n",
      "min ask before: 1.11683\n",
      "found 1000000 nans in chunk 30\n",
      "min bid after: 1.11682\n",
      "min ask after: 1.11683\n"
     ]
    },
    {
     "name": "stderr",
     "output_type": "stream",
     "text": [
      "/var/folders/hr/622sc4x53h1457kksyx5ttk80000gn/T/ipykernel_15308/2338413929.py:38: FutureWarning: DataFrame.fillna with 'method' is deprecated and will raise in a future version. Use obj.ffill() or obj.bfill() instead.\n",
      "  chunk = chunk.fillna(method='bfill')\n",
      "/var/folders/hr/622sc4x53h1457kksyx5ttk80000gn/T/ipykernel_15308/2338413929.py:39: FutureWarning: DataFrame.fillna with 'method' is deprecated and will raise in a future version. Use obj.ffill() or obj.bfill() instead.\n",
      "  chunk = chunk.fillna(method='ffill')\n"
     ]
    },
    {
     "name": "stdout",
     "output_type": "stream",
     "text": [
      "written 1000000 ticks to: chunk-30 2020-06-08 05:20:37.625000 2020-06-23 11:57:14.842000\n",
      "min bid before: 1.1185\n",
      "min ask before: 1.11852\n",
      "found 1000000 nans in chunk 31\n",
      "min bid after: 1.1185\n",
      "min ask after: 1.11852\n"
     ]
    },
    {
     "name": "stderr",
     "output_type": "stream",
     "text": [
      "/var/folders/hr/622sc4x53h1457kksyx5ttk80000gn/T/ipykernel_15308/2338413929.py:38: FutureWarning: DataFrame.fillna with 'method' is deprecated and will raise in a future version. Use obj.ffill() or obj.bfill() instead.\n",
      "  chunk = chunk.fillna(method='bfill')\n",
      "/var/folders/hr/622sc4x53h1457kksyx5ttk80000gn/T/ipykernel_15308/2338413929.py:39: FutureWarning: DataFrame.fillna with 'method' is deprecated and will raise in a future version. Use obj.ffill() or obj.bfill() instead.\n",
      "  chunk = chunk.fillna(method='ffill')\n"
     ]
    },
    {
     "name": "stdout",
     "output_type": "stream",
     "text": [
      "written 1000000 ticks to: chunk-31 2020-06-23 11:57:17.657000 2020-07-08 05:38:55.078000\n",
      "min bid before: 1.12546\n",
      "min ask before: 1.12549\n",
      "found 1000000 nans in chunk 32\n",
      "min bid after: 1.12546\n",
      "min ask after: 1.12549\n"
     ]
    },
    {
     "name": "stderr",
     "output_type": "stream",
     "text": [
      "/var/folders/hr/622sc4x53h1457kksyx5ttk80000gn/T/ipykernel_15308/2338413929.py:38: FutureWarning: DataFrame.fillna with 'method' is deprecated and will raise in a future version. Use obj.ffill() or obj.bfill() instead.\n",
      "  chunk = chunk.fillna(method='bfill')\n",
      "/var/folders/hr/622sc4x53h1457kksyx5ttk80000gn/T/ipykernel_15308/2338413929.py:39: FutureWarning: DataFrame.fillna with 'method' is deprecated and will raise in a future version. Use obj.ffill() or obj.bfill() instead.\n",
      "  chunk = chunk.fillna(method='ffill')\n"
     ]
    },
    {
     "name": "stdout",
     "output_type": "stream",
     "text": [
      "written 1000000 ticks to: chunk-32 2020-07-08 05:39:02.560000 2020-07-14 13:59:03.717000\n",
      "min bid before: nan\n",
      "min ask before: 1.13616\n",
      "found 1000000 nans in chunk 33\n",
      "min bid after: 1.13613\n",
      "min ask after: 1.13616\n"
     ]
    },
    {
     "name": "stderr",
     "output_type": "stream",
     "text": [
      "/var/folders/hr/622sc4x53h1457kksyx5ttk80000gn/T/ipykernel_15308/2338413929.py:38: FutureWarning: DataFrame.fillna with 'method' is deprecated and will raise in a future version. Use obj.ffill() or obj.bfill() instead.\n",
      "  chunk = chunk.fillna(method='bfill')\n",
      "/var/folders/hr/622sc4x53h1457kksyx5ttk80000gn/T/ipykernel_15308/2338413929.py:39: FutureWarning: DataFrame.fillna with 'method' is deprecated and will raise in a future version. Use obj.ffill() or obj.bfill() instead.\n",
      "  chunk = chunk.fillna(method='ffill')\n"
     ]
    },
    {
     "name": "stdout",
     "output_type": "stream",
     "text": [
      "written 1000000 ticks to: chunk-33 2020-07-14 13:59:03.723000 2020-07-20 21:57:02.247000\n",
      "min bid before: 1.14227\n",
      "min ask before: nan\n",
      "found 1000000 nans in chunk 34\n",
      "min bid after: 1.14227\n",
      "min ask after: 1.14231\n"
     ]
    },
    {
     "name": "stderr",
     "output_type": "stream",
     "text": [
      "/var/folders/hr/622sc4x53h1457kksyx5ttk80000gn/T/ipykernel_15308/2338413929.py:38: FutureWarning: DataFrame.fillna with 'method' is deprecated and will raise in a future version. Use obj.ffill() or obj.bfill() instead.\n",
      "  chunk = chunk.fillna(method='bfill')\n",
      "/var/folders/hr/622sc4x53h1457kksyx5ttk80000gn/T/ipykernel_15308/2338413929.py:39: FutureWarning: DataFrame.fillna with 'method' is deprecated and will raise in a future version. Use obj.ffill() or obj.bfill() instead.\n",
      "  chunk = chunk.fillna(method='ffill')\n"
     ]
    },
    {
     "name": "stdout",
     "output_type": "stream",
     "text": [
      "written 1000000 ticks to: chunk-34 2020-07-20 21:57:02.281000 2020-07-24 16:42:27.729000\n",
      "min bid before: nan\n",
      "min ask before: 1.1603\n",
      "found 1000000 nans in chunk 35\n",
      "min bid after: 1.16028\n",
      "min ask after: 1.1603\n"
     ]
    },
    {
     "name": "stderr",
     "output_type": "stream",
     "text": [
      "/var/folders/hr/622sc4x53h1457kksyx5ttk80000gn/T/ipykernel_15308/2338413929.py:38: FutureWarning: DataFrame.fillna with 'method' is deprecated and will raise in a future version. Use obj.ffill() or obj.bfill() instead.\n",
      "  chunk = chunk.fillna(method='bfill')\n",
      "/var/folders/hr/622sc4x53h1457kksyx5ttk80000gn/T/ipykernel_15308/2338413929.py:39: FutureWarning: DataFrame.fillna with 'method' is deprecated and will raise in a future version. Use obj.ffill() or obj.bfill() instead.\n",
      "  chunk = chunk.fillna(method='ffill')\n"
     ]
    },
    {
     "name": "stdout",
     "output_type": "stream",
     "text": [
      "written 1000000 ticks to: chunk-35 2020-07-24 16:42:27.729000 2020-07-30 02:04:19.565000\n",
      "min bid before: 1.16957\n",
      "min ask before: nan\n",
      "found 1000000 nans in chunk 36\n",
      "min bid after: 1.16957\n",
      "min ask after: 1.16958\n"
     ]
    },
    {
     "name": "stderr",
     "output_type": "stream",
     "text": [
      "/var/folders/hr/622sc4x53h1457kksyx5ttk80000gn/T/ipykernel_15308/2338413929.py:38: FutureWarning: DataFrame.fillna with 'method' is deprecated and will raise in a future version. Use obj.ffill() or obj.bfill() instead.\n",
      "  chunk = chunk.fillna(method='bfill')\n",
      "/var/folders/hr/622sc4x53h1457kksyx5ttk80000gn/T/ipykernel_15308/2338413929.py:39: FutureWarning: DataFrame.fillna with 'method' is deprecated and will raise in a future version. Use obj.ffill() or obj.bfill() instead.\n",
      "  chunk = chunk.fillna(method='ffill')\n"
     ]
    },
    {
     "name": "stdout",
     "output_type": "stream",
     "text": [
      "written 1000000 ticks to: chunk-36 2020-07-30 02:04:20.725000 2020-08-03 18:02:25.949000\n",
      "min bid before: nan\n",
      "min ask before: 1.17215\n",
      "found 1000000 nans in chunk 37\n",
      "min bid after: 1.17213\n",
      "min ask after: 1.17215\n"
     ]
    },
    {
     "name": "stderr",
     "output_type": "stream",
     "text": [
      "/var/folders/hr/622sc4x53h1457kksyx5ttk80000gn/T/ipykernel_15308/2338413929.py:38: FutureWarning: DataFrame.fillna with 'method' is deprecated and will raise in a future version. Use obj.ffill() or obj.bfill() instead.\n",
      "  chunk = chunk.fillna(method='bfill')\n",
      "/var/folders/hr/622sc4x53h1457kksyx5ttk80000gn/T/ipykernel_15308/2338413929.py:39: FutureWarning: DataFrame.fillna with 'method' is deprecated and will raise in a future version. Use obj.ffill() or obj.bfill() instead.\n",
      "  chunk = chunk.fillna(method='ffill')\n"
     ]
    },
    {
     "name": "stdout",
     "output_type": "stream",
     "text": [
      "written 1000000 ticks to: chunk-37 2020-08-03 18:02:25.997000 2020-08-07 03:47:22.270000\n",
      "min bid before: 1.1711\n",
      "min ask before: nan\n",
      "found 1000000 nans in chunk 38\n",
      "min bid after: 1.1711\n",
      "min ask after: 1.1711\n"
     ]
    },
    {
     "name": "stderr",
     "output_type": "stream",
     "text": [
      "/var/folders/hr/622sc4x53h1457kksyx5ttk80000gn/T/ipykernel_15308/2338413929.py:38: FutureWarning: DataFrame.fillna with 'method' is deprecated and will raise in a future version. Use obj.ffill() or obj.bfill() instead.\n",
      "  chunk = chunk.fillna(method='bfill')\n",
      "/var/folders/hr/622sc4x53h1457kksyx5ttk80000gn/T/ipykernel_15308/2338413929.py:39: FutureWarning: DataFrame.fillna with 'method' is deprecated and will raise in a future version. Use obj.ffill() or obj.bfill() instead.\n",
      "  chunk = chunk.fillna(method='ffill')\n"
     ]
    },
    {
     "name": "stdout",
     "output_type": "stream",
     "text": [
      "written 1000000 ticks to: chunk-38 2020-08-07 03:47:22.271000 2020-08-12 12:29:33.886000\n",
      "min bid before: nan\n",
      "min ask before: 1.1756\n",
      "found 1000000 nans in chunk 39\n",
      "min bid after: 1.17558\n",
      "min ask after: 1.1756\n"
     ]
    },
    {
     "name": "stderr",
     "output_type": "stream",
     "text": [
      "/var/folders/hr/622sc4x53h1457kksyx5ttk80000gn/T/ipykernel_15308/2338413929.py:38: FutureWarning: DataFrame.fillna with 'method' is deprecated and will raise in a future version. Use obj.ffill() or obj.bfill() instead.\n",
      "  chunk = chunk.fillna(method='bfill')\n",
      "/var/folders/hr/622sc4x53h1457kksyx5ttk80000gn/T/ipykernel_15308/2338413929.py:39: FutureWarning: DataFrame.fillna with 'method' is deprecated and will raise in a future version. Use obj.ffill() or obj.bfill() instead.\n",
      "  chunk = chunk.fillna(method='ffill')\n"
     ]
    },
    {
     "name": "stdout",
     "output_type": "stream",
     "text": [
      "written 1000000 ticks to: chunk-39 2020-08-12 12:29:33.921000 2020-08-18 15:20:22.450000\n",
      "min bid before: nan\n",
      "min ask before: 1.17539\n",
      "found 1000000 nans in chunk 40\n",
      "min bid after: 1.17539\n",
      "min ask after: 1.17539\n"
     ]
    },
    {
     "name": "stderr",
     "output_type": "stream",
     "text": [
      "/var/folders/hr/622sc4x53h1457kksyx5ttk80000gn/T/ipykernel_15308/2338413929.py:38: FutureWarning: DataFrame.fillna with 'method' is deprecated and will raise in a future version. Use obj.ffill() or obj.bfill() instead.\n",
      "  chunk = chunk.fillna(method='bfill')\n",
      "/var/folders/hr/622sc4x53h1457kksyx5ttk80000gn/T/ipykernel_15308/2338413929.py:39: FutureWarning: DataFrame.fillna with 'method' is deprecated and will raise in a future version. Use obj.ffill() or obj.bfill() instead.\n",
      "  chunk = chunk.fillna(method='ffill')\n"
     ]
    },
    {
     "name": "stdout",
     "output_type": "stream",
     "text": [
      "written 1000000 ticks to: chunk-40 2020-08-18 15:20:22.494000 2020-08-21 19:14:25.821000\n",
      "min bid before: 1.17614\n",
      "min ask before: 1.17614\n",
      "found 1000000 nans in chunk 41\n",
      "min bid after: 1.17614\n",
      "min ask after: 1.17614\n"
     ]
    },
    {
     "name": "stderr",
     "output_type": "stream",
     "text": [
      "/var/folders/hr/622sc4x53h1457kksyx5ttk80000gn/T/ipykernel_15308/2338413929.py:38: FutureWarning: DataFrame.fillna with 'method' is deprecated and will raise in a future version. Use obj.ffill() or obj.bfill() instead.\n",
      "  chunk = chunk.fillna(method='bfill')\n",
      "/var/folders/hr/622sc4x53h1457kksyx5ttk80000gn/T/ipykernel_15308/2338413929.py:39: FutureWarning: DataFrame.fillna with 'method' is deprecated and will raise in a future version. Use obj.ffill() or obj.bfill() instead.\n",
      "  chunk = chunk.fillna(method='ffill')\n"
     ]
    },
    {
     "name": "stdout",
     "output_type": "stream",
     "text": [
      "written 1000000 ticks to: chunk-41 2020-08-21 19:14:26.654000 2020-08-27 17:43:53.882000\n",
      "min bid before: 1.17717\n",
      "min ask before: 1.17721\n",
      "found 1000000 nans in chunk 42\n",
      "min bid after: 1.17717\n",
      "min ask after: 1.17721\n"
     ]
    },
    {
     "name": "stderr",
     "output_type": "stream",
     "text": [
      "/var/folders/hr/622sc4x53h1457kksyx5ttk80000gn/T/ipykernel_15308/2338413929.py:38: FutureWarning: DataFrame.fillna with 'method' is deprecated and will raise in a future version. Use obj.ffill() or obj.bfill() instead.\n",
      "  chunk = chunk.fillna(method='bfill')\n",
      "/var/folders/hr/622sc4x53h1457kksyx5ttk80000gn/T/ipykernel_15308/2338413929.py:39: FutureWarning: DataFrame.fillna with 'method' is deprecated and will raise in a future version. Use obj.ffill() or obj.bfill() instead.\n",
      "  chunk = chunk.fillna(method='ffill')\n"
     ]
    },
    {
     "name": "stdout",
     "output_type": "stream",
     "text": [
      "written 1000000 ticks to: chunk-42 2020-08-27 17:43:53.890000 2020-09-01 17:06:50.139000\n",
      "min bid before: nan\n",
      "min ask before: 1.17862\n",
      "found 1000000 nans in chunk 43\n",
      "min bid after: 1.1786\n",
      "min ask after: 1.17862\n"
     ]
    },
    {
     "name": "stderr",
     "output_type": "stream",
     "text": [
      "/var/folders/hr/622sc4x53h1457kksyx5ttk80000gn/T/ipykernel_15308/2338413929.py:38: FutureWarning: DataFrame.fillna with 'method' is deprecated and will raise in a future version. Use obj.ffill() or obj.bfill() instead.\n",
      "  chunk = chunk.fillna(method='bfill')\n",
      "/var/folders/hr/622sc4x53h1457kksyx5ttk80000gn/T/ipykernel_15308/2338413929.py:39: FutureWarning: DataFrame.fillna with 'method' is deprecated and will raise in a future version. Use obj.ffill() or obj.bfill() instead.\n",
      "  chunk = chunk.fillna(method='ffill')\n"
     ]
    },
    {
     "name": "stdout",
     "output_type": "stream",
     "text": [
      "written 1000000 ticks to: chunk-43 2020-09-01 17:06:50.139000 2020-09-04 18:02:15.356000\n",
      "min bid before: 1.17527\n",
      "min ask before: nan\n",
      "found 1000000 nans in chunk 44\n",
      "min bid after: 1.17527\n",
      "min ask after: 1.17529\n"
     ]
    },
    {
     "name": "stderr",
     "output_type": "stream",
     "text": [
      "/var/folders/hr/622sc4x53h1457kksyx5ttk80000gn/T/ipykernel_15308/2338413929.py:38: FutureWarning: DataFrame.fillna with 'method' is deprecated and will raise in a future version. Use obj.ffill() or obj.bfill() instead.\n",
      "  chunk = chunk.fillna(method='bfill')\n",
      "/var/folders/hr/622sc4x53h1457kksyx5ttk80000gn/T/ipykernel_15308/2338413929.py:39: FutureWarning: DataFrame.fillna with 'method' is deprecated and will raise in a future version. Use obj.ffill() or obj.bfill() instead.\n",
      "  chunk = chunk.fillna(method='ffill')\n"
     ]
    },
    {
     "name": "stdout",
     "output_type": "stream",
     "text": [
      "written 1000000 ticks to: chunk-44 2020-09-04 18:02:15.356000 2020-09-10 16:06:14.912000\n",
      "min bid before: nan\n",
      "min ask before: 1.18042\n",
      "found 1000000 nans in chunk 45\n",
      "min bid after: 1.18\n",
      "min ask after: 1.18042\n"
     ]
    },
    {
     "name": "stderr",
     "output_type": "stream",
     "text": [
      "/var/folders/hr/622sc4x53h1457kksyx5ttk80000gn/T/ipykernel_15308/2338413929.py:38: FutureWarning: DataFrame.fillna with 'method' is deprecated and will raise in a future version. Use obj.ffill() or obj.bfill() instead.\n",
      "  chunk = chunk.fillna(method='bfill')\n",
      "/var/folders/hr/622sc4x53h1457kksyx5ttk80000gn/T/ipykernel_15308/2338413929.py:39: FutureWarning: DataFrame.fillna with 'method' is deprecated and will raise in a future version. Use obj.ffill() or obj.bfill() instead.\n",
      "  chunk = chunk.fillna(method='ffill')\n"
     ]
    },
    {
     "name": "stdout",
     "output_type": "stream",
     "text": [
      "written 1000000 ticks to: chunk-45 2020-09-10 16:06:14.919000 2020-09-16 21:34:09.609000\n",
      "min bid before: nan\n",
      "min ask before: 1.17204\n",
      "found 1000000 nans in chunk 46\n",
      "min bid after: 1.17201\n",
      "min ask after: 1.17204\n"
     ]
    },
    {
     "name": "stderr",
     "output_type": "stream",
     "text": [
      "/var/folders/hr/622sc4x53h1457kksyx5ttk80000gn/T/ipykernel_15308/2338413929.py:38: FutureWarning: DataFrame.fillna with 'method' is deprecated and will raise in a future version. Use obj.ffill() or obj.bfill() instead.\n",
      "  chunk = chunk.fillna(method='bfill')\n",
      "/var/folders/hr/622sc4x53h1457kksyx5ttk80000gn/T/ipykernel_15308/2338413929.py:39: FutureWarning: DataFrame.fillna with 'method' is deprecated and will raise in a future version. Use obj.ffill() or obj.bfill() instead.\n",
      "  chunk = chunk.fillna(method='ffill')\n"
     ]
    },
    {
     "name": "stdout",
     "output_type": "stream",
     "text": [
      "written 1000000 ticks to: chunk-46 2020-09-16 21:34:09.609000 2020-09-22 10:56:48.926000\n",
      "min bid before: nan\n",
      "min ask before: 1.16146\n",
      "found 1000000 nans in chunk 47\n",
      "min bid after: 1.16145\n",
      "min ask after: 1.16146\n"
     ]
    },
    {
     "name": "stderr",
     "output_type": "stream",
     "text": [
      "/var/folders/hr/622sc4x53h1457kksyx5ttk80000gn/T/ipykernel_15308/2338413929.py:38: FutureWarning: DataFrame.fillna with 'method' is deprecated and will raise in a future version. Use obj.ffill() or obj.bfill() instead.\n",
      "  chunk = chunk.fillna(method='bfill')\n",
      "/var/folders/hr/622sc4x53h1457kksyx5ttk80000gn/T/ipykernel_15308/2338413929.py:39: FutureWarning: DataFrame.fillna with 'method' is deprecated and will raise in a future version. Use obj.ffill() or obj.bfill() instead.\n",
      "  chunk = chunk.fillna(method='ffill')\n"
     ]
    },
    {
     "name": "stdout",
     "output_type": "stream",
     "text": [
      "written 1000000 ticks to: chunk-47 2020-09-22 10:56:49.033000 2020-09-25 17:45:07.240000\n",
      "min bid before: 1.1612\n",
      "min ask before: nan\n",
      "found 1000000 nans in chunk 48\n",
      "min bid after: 1.1612\n",
      "min ask after: 1.16123\n"
     ]
    },
    {
     "name": "stderr",
     "output_type": "stream",
     "text": [
      "/var/folders/hr/622sc4x53h1457kksyx5ttk80000gn/T/ipykernel_15308/2338413929.py:38: FutureWarning: DataFrame.fillna with 'method' is deprecated and will raise in a future version. Use obj.ffill() or obj.bfill() instead.\n",
      "  chunk = chunk.fillna(method='bfill')\n",
      "/var/folders/hr/622sc4x53h1457kksyx5ttk80000gn/T/ipykernel_15308/2338413929.py:39: FutureWarning: DataFrame.fillna with 'method' is deprecated and will raise in a future version. Use obj.ffill() or obj.bfill() instead.\n",
      "  chunk = chunk.fillna(method='ffill')\n"
     ]
    },
    {
     "name": "stdout",
     "output_type": "stream",
     "text": [
      "written 1000000 ticks to: chunk-48 2020-09-25 17:45:07.248000 2020-10-01 16:51:28.405000\n",
      "min bid before: nan\n",
      "min ask before: 1.1696\n",
      "found 1000000 nans in chunk 49\n",
      "min bid after: 1.16956\n",
      "min ask after: 1.1696\n"
     ]
    },
    {
     "name": "stderr",
     "output_type": "stream",
     "text": [
      "/var/folders/hr/622sc4x53h1457kksyx5ttk80000gn/T/ipykernel_15308/2338413929.py:38: FutureWarning: DataFrame.fillna with 'method' is deprecated and will raise in a future version. Use obj.ffill() or obj.bfill() instead.\n",
      "  chunk = chunk.fillna(method='bfill')\n",
      "/var/folders/hr/622sc4x53h1457kksyx5ttk80000gn/T/ipykernel_15308/2338413929.py:39: FutureWarning: DataFrame.fillna with 'method' is deprecated and will raise in a future version. Use obj.ffill() or obj.bfill() instead.\n",
      "  chunk = chunk.fillna(method='ffill')\n"
     ]
    },
    {
     "name": "stdout",
     "output_type": "stream",
     "text": [
      "written 1000000 ticks to: chunk-49 2020-10-01 16:51:28.420000 2020-10-07 16:00:36.616000\n",
      "min bid before: 1.16884\n",
      "min ask before: nan\n",
      "found 1000000 nans in chunk 50\n",
      "min bid after: 1.16884\n",
      "min ask after: 1.16886\n"
     ]
    },
    {
     "name": "stderr",
     "output_type": "stream",
     "text": [
      "/var/folders/hr/622sc4x53h1457kksyx5ttk80000gn/T/ipykernel_15308/2338413929.py:38: FutureWarning: DataFrame.fillna with 'method' is deprecated and will raise in a future version. Use obj.ffill() or obj.bfill() instead.\n",
      "  chunk = chunk.fillna(method='bfill')\n",
      "/var/folders/hr/622sc4x53h1457kksyx5ttk80000gn/T/ipykernel_15308/2338413929.py:39: FutureWarning: DataFrame.fillna with 'method' is deprecated and will raise in a future version. Use obj.ffill() or obj.bfill() instead.\n",
      "  chunk = chunk.fillna(method='ffill')\n"
     ]
    },
    {
     "name": "stdout",
     "output_type": "stream",
     "text": [
      "written 1000000 ticks to: chunk-50 2020-10-07 16:00:36.616000 2020-10-15 17:59:34.683000\n",
      "min bid before: nan\n",
      "min ask before: 1.16908\n",
      "found 1000000 nans in chunk 51\n",
      "min bid after: 1.16906\n",
      "min ask after: 1.16908\n"
     ]
    },
    {
     "name": "stderr",
     "output_type": "stream",
     "text": [
      "/var/folders/hr/622sc4x53h1457kksyx5ttk80000gn/T/ipykernel_15308/2338413929.py:38: FutureWarning: DataFrame.fillna with 'method' is deprecated and will raise in a future version. Use obj.ffill() or obj.bfill() instead.\n",
      "  chunk = chunk.fillna(method='bfill')\n",
      "/var/folders/hr/622sc4x53h1457kksyx5ttk80000gn/T/ipykernel_15308/2338413929.py:39: FutureWarning: DataFrame.fillna with 'method' is deprecated and will raise in a future version. Use obj.ffill() or obj.bfill() instead.\n",
      "  chunk = chunk.fillna(method='ffill')\n"
     ]
    },
    {
     "name": "stdout",
     "output_type": "stream",
     "text": [
      "written 1000000 ticks to: chunk-51 2020-10-15 17:59:34.690000 2020-10-23 21:20:01.826000\n",
      "min bid before: nan\n",
      "min ask before: 1.16301\n",
      "found 1000000 nans in chunk 52\n",
      "min bid after: 1.16299\n",
      "min ask after: 1.16301\n"
     ]
    },
    {
     "name": "stderr",
     "output_type": "stream",
     "text": [
      "/var/folders/hr/622sc4x53h1457kksyx5ttk80000gn/T/ipykernel_15308/2338413929.py:38: FutureWarning: DataFrame.fillna with 'method' is deprecated and will raise in a future version. Use obj.ffill() or obj.bfill() instead.\n",
      "  chunk = chunk.fillna(method='bfill')\n",
      "/var/folders/hr/622sc4x53h1457kksyx5ttk80000gn/T/ipykernel_15308/2338413929.py:39: FutureWarning: DataFrame.fillna with 'method' is deprecated and will raise in a future version. Use obj.ffill() or obj.bfill() instead.\n",
      "  chunk = chunk.fillna(method='ffill')\n"
     ]
    },
    {
     "name": "stdout",
     "output_type": "stream",
     "text": [
      "written 1000000 ticks to: chunk-52 2020-10-23 21:20:02.005000 2020-11-02 09:30:04.611000\n",
      "min bid before: nan\n",
      "min ask before: 1.16027\n",
      "found 1000000 nans in chunk 53\n",
      "min bid after: 1.16021\n",
      "min ask after: 1.16027\n"
     ]
    },
    {
     "name": "stderr",
     "output_type": "stream",
     "text": [
      "/var/folders/hr/622sc4x53h1457kksyx5ttk80000gn/T/ipykernel_15308/2338413929.py:38: FutureWarning: DataFrame.fillna with 'method' is deprecated and will raise in a future version. Use obj.ffill() or obj.bfill() instead.\n",
      "  chunk = chunk.fillna(method='bfill')\n",
      "/var/folders/hr/622sc4x53h1457kksyx5ttk80000gn/T/ipykernel_15308/2338413929.py:39: FutureWarning: DataFrame.fillna with 'method' is deprecated and will raise in a future version. Use obj.ffill() or obj.bfill() instead.\n",
      "  chunk = chunk.fillna(method='ffill')\n"
     ]
    },
    {
     "name": "stdout",
     "output_type": "stream",
     "text": [
      "written 1000000 ticks to: chunk-53 2020-11-02 09:30:04.618000 2020-11-05 20:18:46.118000\n",
      "min bid before: nan\n",
      "min ask before: 1.17799\n",
      "found 1000000 nans in chunk 54\n",
      "min bid after: 1.17799\n",
      "min ask after: 1.17799\n"
     ]
    },
    {
     "name": "stderr",
     "output_type": "stream",
     "text": [
      "/var/folders/hr/622sc4x53h1457kksyx5ttk80000gn/T/ipykernel_15308/2338413929.py:38: FutureWarning: DataFrame.fillna with 'method' is deprecated and will raise in a future version. Use obj.ffill() or obj.bfill() instead.\n",
      "  chunk = chunk.fillna(method='bfill')\n",
      "/var/folders/hr/622sc4x53h1457kksyx5ttk80000gn/T/ipykernel_15308/2338413929.py:39: FutureWarning: DataFrame.fillna with 'method' is deprecated and will raise in a future version. Use obj.ffill() or obj.bfill() instead.\n",
      "  chunk = chunk.fillna(method='ffill')\n"
     ]
    },
    {
     "name": "stdout",
     "output_type": "stream",
     "text": [
      "written 1000000 ticks to: chunk-54 2020-11-05 20:18:46.341000 2020-11-10 18:42:59.534000\n",
      "min bid before: nan\n",
      "min ask before: 1.17456\n",
      "found 1000000 nans in chunk 55\n",
      "min bid after: 1.17454\n",
      "min ask after: 1.17456\n"
     ]
    },
    {
     "name": "stderr",
     "output_type": "stream",
     "text": [
      "/var/folders/hr/622sc4x53h1457kksyx5ttk80000gn/T/ipykernel_15308/2338413929.py:38: FutureWarning: DataFrame.fillna with 'method' is deprecated and will raise in a future version. Use obj.ffill() or obj.bfill() instead.\n",
      "  chunk = chunk.fillna(method='bfill')\n",
      "/var/folders/hr/622sc4x53h1457kksyx5ttk80000gn/T/ipykernel_15308/2338413929.py:39: FutureWarning: DataFrame.fillna with 'method' is deprecated and will raise in a future version. Use obj.ffill() or obj.bfill() instead.\n",
      "  chunk = chunk.fillna(method='ffill')\n"
     ]
    },
    {
     "name": "stdout",
     "output_type": "stream",
     "text": [
      "written 1000000 ticks to: chunk-55 2020-11-10 18:42:59.540000 2020-11-18 22:54:35.773000\n",
      "min bid before: 1.17999\n",
      "min ask before: nan\n",
      "found 1000000 nans in chunk 56\n",
      "min bid after: 1.17999\n",
      "min ask after: 1.17999\n"
     ]
    },
    {
     "name": "stderr",
     "output_type": "stream",
     "text": [
      "/var/folders/hr/622sc4x53h1457kksyx5ttk80000gn/T/ipykernel_15308/2338413929.py:38: FutureWarning: DataFrame.fillna with 'method' is deprecated and will raise in a future version. Use obj.ffill() or obj.bfill() instead.\n",
      "  chunk = chunk.fillna(method='bfill')\n",
      "/var/folders/hr/622sc4x53h1457kksyx5ttk80000gn/T/ipykernel_15308/2338413929.py:39: FutureWarning: DataFrame.fillna with 'method' is deprecated and will raise in a future version. Use obj.ffill() or obj.bfill() instead.\n",
      "  chunk = chunk.fillna(method='ffill')\n"
     ]
    },
    {
     "name": "stdout",
     "output_type": "stream",
     "text": [
      "written 1000000 ticks to: chunk-56 2020-11-18 22:54:35.970000 2020-11-27 10:57:21.239000\n",
      "min bid before: 1.19141\n",
      "min ask before: nan\n",
      "found 1000000 nans in chunk 57\n",
      "min bid after: 1.19141\n",
      "min ask after: 1.19143\n"
     ]
    },
    {
     "name": "stderr",
     "output_type": "stream",
     "text": [
      "/var/folders/hr/622sc4x53h1457kksyx5ttk80000gn/T/ipykernel_15308/2338413929.py:38: FutureWarning: DataFrame.fillna with 'method' is deprecated and will raise in a future version. Use obj.ffill() or obj.bfill() instead.\n",
      "  chunk = chunk.fillna(method='bfill')\n",
      "/var/folders/hr/622sc4x53h1457kksyx5ttk80000gn/T/ipykernel_15308/2338413929.py:39: FutureWarning: DataFrame.fillna with 'method' is deprecated and will raise in a future version. Use obj.ffill() or obj.bfill() instead.\n",
      "  chunk = chunk.fillna(method='ffill')\n"
     ]
    },
    {
     "name": "stdout",
     "output_type": "stream",
     "text": [
      "written 1000000 ticks to: chunk-57 2020-11-27 10:57:21.995000 2020-12-04 13:05:11.551000\n",
      "min bid before: nan\n",
      "min ask before: 1.20589\n",
      "found 1000000 nans in chunk 58\n",
      "min bid after: 1.20587\n",
      "min ask after: 1.20589\n"
     ]
    },
    {
     "name": "stderr",
     "output_type": "stream",
     "text": [
      "/var/folders/hr/622sc4x53h1457kksyx5ttk80000gn/T/ipykernel_15308/2338413929.py:38: FutureWarning: DataFrame.fillna with 'method' is deprecated and will raise in a future version. Use obj.ffill() or obj.bfill() instead.\n",
      "  chunk = chunk.fillna(method='bfill')\n",
      "/var/folders/hr/622sc4x53h1457kksyx5ttk80000gn/T/ipykernel_15308/2338413929.py:39: FutureWarning: DataFrame.fillna with 'method' is deprecated and will raise in a future version. Use obj.ffill() or obj.bfill() instead.\n",
      "  chunk = chunk.fillna(method='ffill')\n"
     ]
    },
    {
     "name": "stdout",
     "output_type": "stream",
     "text": [
      "written 1000000 ticks to: chunk-58 2020-12-04 13:05:11.574000 2020-12-11 12:34:38.750000\n",
      "min bid before: nan\n",
      "min ask before: 1.21054\n",
      "found 1000000 nans in chunk 59\n",
      "min bid after: 1.21054\n",
      "min ask after: 1.21054\n"
     ]
    },
    {
     "name": "stderr",
     "output_type": "stream",
     "text": [
      "/var/folders/hr/622sc4x53h1457kksyx5ttk80000gn/T/ipykernel_15308/2338413929.py:38: FutureWarning: DataFrame.fillna with 'method' is deprecated and will raise in a future version. Use obj.ffill() or obj.bfill() instead.\n",
      "  chunk = chunk.fillna(method='bfill')\n",
      "/var/folders/hr/622sc4x53h1457kksyx5ttk80000gn/T/ipykernel_15308/2338413929.py:39: FutureWarning: DataFrame.fillna with 'method' is deprecated and will raise in a future version. Use obj.ffill() or obj.bfill() instead.\n",
      "  chunk = chunk.fillna(method='ffill')\n"
     ]
    },
    {
     "name": "stdout",
     "output_type": "stream",
     "text": [
      "written 1000000 ticks to: chunk-59 2020-12-11 12:34:41.736000 2020-12-21 10:48:48.435000\n",
      "min bid before: 1.21298\n",
      "min ask before: nan\n",
      "found 1000000 nans in chunk 60\n",
      "min bid after: 1.21298\n",
      "min ask after: 1.21298\n"
     ]
    },
    {
     "name": "stderr",
     "output_type": "stream",
     "text": [
      "/var/folders/hr/622sc4x53h1457kksyx5ttk80000gn/T/ipykernel_15308/2338413929.py:38: FutureWarning: DataFrame.fillna with 'method' is deprecated and will raise in a future version. Use obj.ffill() or obj.bfill() instead.\n",
      "  chunk = chunk.fillna(method='bfill')\n",
      "/var/folders/hr/622sc4x53h1457kksyx5ttk80000gn/T/ipykernel_15308/2338413929.py:39: FutureWarning: DataFrame.fillna with 'method' is deprecated and will raise in a future version. Use obj.ffill() or obj.bfill() instead.\n",
      "  chunk = chunk.fillna(method='ffill')\n"
     ]
    },
    {
     "name": "stdout",
     "output_type": "stream",
     "text": [
      "written 1000000 ticks to: chunk-60 2020-12-21 10:48:48.436000 2020-12-29 14:23:27.096000\n",
      "min bid before: 1.22092\n",
      "min ask before: nan\n",
      "found 1000000 nans in chunk 61\n",
      "min bid after: 1.22092\n",
      "min ask after: 1.22094\n"
     ]
    },
    {
     "name": "stderr",
     "output_type": "stream",
     "text": [
      "/var/folders/hr/622sc4x53h1457kksyx5ttk80000gn/T/ipykernel_15308/2338413929.py:38: FutureWarning: DataFrame.fillna with 'method' is deprecated and will raise in a future version. Use obj.ffill() or obj.bfill() instead.\n",
      "  chunk = chunk.fillna(method='bfill')\n",
      "/var/folders/hr/622sc4x53h1457kksyx5ttk80000gn/T/ipykernel_15308/2338413929.py:39: FutureWarning: DataFrame.fillna with 'method' is deprecated and will raise in a future version. Use obj.ffill() or obj.bfill() instead.\n",
      "  chunk = chunk.fillna(method='ffill')\n"
     ]
    },
    {
     "name": "stdout",
     "output_type": "stream",
     "text": [
      "written 1000000 ticks to: chunk-61 2020-12-29 14:23:27.575000 2021-01-06 03:19:14.169000\n",
      "min bid before: nan\n",
      "min ask before: 1.21547\n",
      "found 1000000 nans in chunk 62\n",
      "min bid after: 1.21546\n",
      "min ask after: 1.21547\n"
     ]
    },
    {
     "name": "stderr",
     "output_type": "stream",
     "text": [
      "/var/folders/hr/622sc4x53h1457kksyx5ttk80000gn/T/ipykernel_15308/2338413929.py:38: FutureWarning: DataFrame.fillna with 'method' is deprecated and will raise in a future version. Use obj.ffill() or obj.bfill() instead.\n",
      "  chunk = chunk.fillna(method='bfill')\n",
      "/var/folders/hr/622sc4x53h1457kksyx5ttk80000gn/T/ipykernel_15308/2338413929.py:39: FutureWarning: DataFrame.fillna with 'method' is deprecated and will raise in a future version. Use obj.ffill() or obj.bfill() instead.\n",
      "  chunk = chunk.fillna(method='ffill')\n"
     ]
    },
    {
     "name": "stdout",
     "output_type": "stream",
     "text": [
      "written 1000000 ticks to: chunk-62 2021-01-06 03:19:14.223000 2021-01-11 13:21:12.745000\n",
      "min bid before: 1.20651\n",
      "min ask before: nan\n",
      "found 1000000 nans in chunk 63\n",
      "min bid after: 1.20651\n",
      "min ask after: 1.20652\n"
     ]
    },
    {
     "name": "stderr",
     "output_type": "stream",
     "text": [
      "/var/folders/hr/622sc4x53h1457kksyx5ttk80000gn/T/ipykernel_15308/2338413929.py:38: FutureWarning: DataFrame.fillna with 'method' is deprecated and will raise in a future version. Use obj.ffill() or obj.bfill() instead.\n",
      "  chunk = chunk.fillna(method='bfill')\n",
      "/var/folders/hr/622sc4x53h1457kksyx5ttk80000gn/T/ipykernel_15308/2338413929.py:39: FutureWarning: DataFrame.fillna with 'method' is deprecated and will raise in a future version. Use obj.ffill() or obj.bfill() instead.\n",
      "  chunk = chunk.fillna(method='ffill')\n"
     ]
    },
    {
     "name": "stdout",
     "output_type": "stream",
     "text": [
      "written 1000000 ticks to: chunk-63 2021-01-11 13:21:12.745000 2021-01-18 11:16:03.394000\n",
      "min bid before: nan\n",
      "min ask before: 1.20537\n",
      "found 1000000 nans in chunk 64\n",
      "min bid after: 1.20536\n",
      "min ask after: 1.20537\n"
     ]
    },
    {
     "name": "stderr",
     "output_type": "stream",
     "text": [
      "/var/folders/hr/622sc4x53h1457kksyx5ttk80000gn/T/ipykernel_15308/2338413929.py:38: FutureWarning: DataFrame.fillna with 'method' is deprecated and will raise in a future version. Use obj.ffill() or obj.bfill() instead.\n",
      "  chunk = chunk.fillna(method='bfill')\n",
      "/var/folders/hr/622sc4x53h1457kksyx5ttk80000gn/T/ipykernel_15308/2338413929.py:39: FutureWarning: DataFrame.fillna with 'method' is deprecated and will raise in a future version. Use obj.ffill() or obj.bfill() instead.\n",
      "  chunk = chunk.fillna(method='ffill')\n"
     ]
    },
    {
     "name": "stdout",
     "output_type": "stream",
     "text": [
      "written 1000000 ticks to: chunk-64 2021-01-18 11:16:03.414000 2021-01-25 20:14:00.945000\n",
      "min bid before: 1.20585\n",
      "min ask before: nan\n",
      "found 1000000 nans in chunk 65\n",
      "min bid after: 1.20585\n",
      "min ask after: 1.20585\n"
     ]
    },
    {
     "name": "stderr",
     "output_type": "stream",
     "text": [
      "/var/folders/hr/622sc4x53h1457kksyx5ttk80000gn/T/ipykernel_15308/2338413929.py:38: FutureWarning: DataFrame.fillna with 'method' is deprecated and will raise in a future version. Use obj.ffill() or obj.bfill() instead.\n",
      "  chunk = chunk.fillna(method='bfill')\n",
      "/var/folders/hr/622sc4x53h1457kksyx5ttk80000gn/T/ipykernel_15308/2338413929.py:39: FutureWarning: DataFrame.fillna with 'method' is deprecated and will raise in a future version. Use obj.ffill() or obj.bfill() instead.\n",
      "  chunk = chunk.fillna(method='ffill')\n"
     ]
    },
    {
     "name": "stdout",
     "output_type": "stream",
     "text": [
      "written 1000000 ticks to: chunk-65 2021-01-25 20:14:01.012000 2021-01-29 16:45:12.241000\n",
      "min bid before: 1.19522\n",
      "min ask before: 1.19522\n",
      "found 1000000 nans in chunk 66\n",
      "min bid after: 1.19522\n",
      "min ask after: 1.19522\n"
     ]
    },
    {
     "name": "stderr",
     "output_type": "stream",
     "text": [
      "/var/folders/hr/622sc4x53h1457kksyx5ttk80000gn/T/ipykernel_15308/2338413929.py:38: FutureWarning: DataFrame.fillna with 'method' is deprecated and will raise in a future version. Use obj.ffill() or obj.bfill() instead.\n",
      "  chunk = chunk.fillna(method='bfill')\n",
      "/var/folders/hr/622sc4x53h1457kksyx5ttk80000gn/T/ipykernel_15308/2338413929.py:39: FutureWarning: DataFrame.fillna with 'method' is deprecated and will raise in a future version. Use obj.ffill() or obj.bfill() instead.\n",
      "  chunk = chunk.fillna(method='ffill')\n"
     ]
    },
    {
     "name": "stdout",
     "output_type": "stream",
     "text": [
      "written 1000000 ticks to: chunk-66 2021-01-29 16:45:12.270000 2021-02-05 09:40:13.053000\n",
      "min bid before: 1.19619\n",
      "min ask before: nan\n",
      "found 1000000 nans in chunk 67\n",
      "min bid after: 1.19619\n",
      "min ask after: 1.1962\n"
     ]
    },
    {
     "name": "stderr",
     "output_type": "stream",
     "text": [
      "/var/folders/hr/622sc4x53h1457kksyx5ttk80000gn/T/ipykernel_15308/2338413929.py:38: FutureWarning: DataFrame.fillna with 'method' is deprecated and will raise in a future version. Use obj.ffill() or obj.bfill() instead.\n",
      "  chunk = chunk.fillna(method='bfill')\n",
      "/var/folders/hr/622sc4x53h1457kksyx5ttk80000gn/T/ipykernel_15308/2338413929.py:39: FutureWarning: DataFrame.fillna with 'method' is deprecated and will raise in a future version. Use obj.ffill() or obj.bfill() instead.\n",
      "  chunk = chunk.fillna(method='ffill')\n"
     ]
    },
    {
     "name": "stdout",
     "output_type": "stream",
     "text": [
      "written 1000000 ticks to: chunk-67 2021-02-05 09:40:13.085000 2021-02-12 18:42:01.655000\n",
      "min bid before: 1.20233\n",
      "min ask before: 1.20234\n",
      "found 1000000 nans in chunk 68\n",
      "min bid after: 1.20233\n",
      "min ask after: 1.20234\n"
     ]
    },
    {
     "name": "stderr",
     "output_type": "stream",
     "text": [
      "/var/folders/hr/622sc4x53h1457kksyx5ttk80000gn/T/ipykernel_15308/2338413929.py:38: FutureWarning: DataFrame.fillna with 'method' is deprecated and will raise in a future version. Use obj.ffill() or obj.bfill() instead.\n",
      "  chunk = chunk.fillna(method='bfill')\n",
      "/var/folders/hr/622sc4x53h1457kksyx5ttk80000gn/T/ipykernel_15308/2338413929.py:39: FutureWarning: DataFrame.fillna with 'method' is deprecated and will raise in a future version. Use obj.ffill() or obj.bfill() instead.\n",
      "  chunk = chunk.fillna(method='ffill')\n"
     ]
    },
    {
     "name": "stdout",
     "output_type": "stream",
     "text": [
      "written 1000000 ticks to: chunk-68 2021-02-12 18:42:01.898000 2021-02-22 16:19:08.281000\n",
      "min bid before: nan\n",
      "min ask before: 1.21093\n",
      "found 1000000 nans in chunk 69\n",
      "min bid after: 1.21092\n",
      "min ask after: 1.21093\n"
     ]
    },
    {
     "name": "stderr",
     "output_type": "stream",
     "text": [
      "/var/folders/hr/622sc4x53h1457kksyx5ttk80000gn/T/ipykernel_15308/2338413929.py:38: FutureWarning: DataFrame.fillna with 'method' is deprecated and will raise in a future version. Use obj.ffill() or obj.bfill() instead.\n",
      "  chunk = chunk.fillna(method='bfill')\n",
      "/var/folders/hr/622sc4x53h1457kksyx5ttk80000gn/T/ipykernel_15308/2338413929.py:39: FutureWarning: DataFrame.fillna with 'method' is deprecated and will raise in a future version. Use obj.ffill() or obj.bfill() instead.\n",
      "  chunk = chunk.fillna(method='ffill')\n"
     ]
    },
    {
     "name": "stdout",
     "output_type": "stream",
     "text": [
      "written 1000000 ticks to: chunk-69 2021-02-22 16:19:08.342000 2021-02-26 05:31:05.733000\n",
      "min bid before: 1.19917\n",
      "min ask before: nan\n",
      "found 1000000 nans in chunk 70\n",
      "min bid after: 1.19917\n",
      "min ask after: 1.19919\n"
     ]
    },
    {
     "name": "stderr",
     "output_type": "stream",
     "text": [
      "/var/folders/hr/622sc4x53h1457kksyx5ttk80000gn/T/ipykernel_15308/2338413929.py:38: FutureWarning: DataFrame.fillna with 'method' is deprecated and will raise in a future version. Use obj.ffill() or obj.bfill() instead.\n",
      "  chunk = chunk.fillna(method='bfill')\n",
      "/var/folders/hr/622sc4x53h1457kksyx5ttk80000gn/T/ipykernel_15308/2338413929.py:39: FutureWarning: DataFrame.fillna with 'method' is deprecated and will raise in a future version. Use obj.ffill() or obj.bfill() instead.\n",
      "  chunk = chunk.fillna(method='ffill')\n"
     ]
    },
    {
     "name": "stdout",
     "output_type": "stream",
     "text": [
      "written 1000000 ticks to: chunk-70 2021-02-26 05:31:05.902000 2021-03-03 14:22:24.268000\n",
      "min bid before: 1.18567\n",
      "min ask before: 1.18567\n",
      "found 1000000 nans in chunk 71\n",
      "min bid after: 1.18567\n",
      "min ask after: 1.18567\n"
     ]
    },
    {
     "name": "stderr",
     "output_type": "stream",
     "text": [
      "/var/folders/hr/622sc4x53h1457kksyx5ttk80000gn/T/ipykernel_15308/2338413929.py:38: FutureWarning: DataFrame.fillna with 'method' is deprecated and will raise in a future version. Use obj.ffill() or obj.bfill() instead.\n",
      "  chunk = chunk.fillna(method='bfill')\n",
      "/var/folders/hr/622sc4x53h1457kksyx5ttk80000gn/T/ipykernel_15308/2338413929.py:39: FutureWarning: DataFrame.fillna with 'method' is deprecated and will raise in a future version. Use obj.ffill() or obj.bfill() instead.\n",
      "  chunk = chunk.fillna(method='ffill')\n"
     ]
    },
    {
     "name": "stdout",
     "output_type": "stream",
     "text": [
      "written 1000000 ticks to: chunk-71 2021-03-03 14:22:24.268000 2021-03-08 17:09:17.228000\n",
      "min bid before: 1.18358\n",
      "min ask before: nan\n",
      "found 1000000 nans in chunk 72\n",
      "min bid after: 1.18358\n",
      "min ask after: 1.18358\n"
     ]
    },
    {
     "name": "stderr",
     "output_type": "stream",
     "text": [
      "/var/folders/hr/622sc4x53h1457kksyx5ttk80000gn/T/ipykernel_15308/2338413929.py:38: FutureWarning: DataFrame.fillna with 'method' is deprecated and will raise in a future version. Use obj.ffill() or obj.bfill() instead.\n",
      "  chunk = chunk.fillna(method='bfill')\n",
      "/var/folders/hr/622sc4x53h1457kksyx5ttk80000gn/T/ipykernel_15308/2338413929.py:39: FutureWarning: DataFrame.fillna with 'method' is deprecated and will raise in a future version. Use obj.ffill() or obj.bfill() instead.\n",
      "  chunk = chunk.fillna(method='ffill')\n"
     ]
    },
    {
     "name": "stdout",
     "output_type": "stream",
     "text": [
      "written 1000000 ticks to: chunk-72 2021-03-08 17:09:17.236000 2021-03-16 21:09:47.081000\n",
      "min bid before: 1.17619\n",
      "min ask before: 1.17619\n",
      "found 1000000 nans in chunk 73\n",
      "min bid after: 1.17619\n",
      "min ask after: 1.17619\n"
     ]
    },
    {
     "name": "stderr",
     "output_type": "stream",
     "text": [
      "/var/folders/hr/622sc4x53h1457kksyx5ttk80000gn/T/ipykernel_15308/2338413929.py:38: FutureWarning: DataFrame.fillna with 'method' is deprecated and will raise in a future version. Use obj.ffill() or obj.bfill() instead.\n",
      "  chunk = chunk.fillna(method='bfill')\n",
      "/var/folders/hr/622sc4x53h1457kksyx5ttk80000gn/T/ipykernel_15308/2338413929.py:39: FutureWarning: DataFrame.fillna with 'method' is deprecated and will raise in a future version. Use obj.ffill() or obj.bfill() instead.\n",
      "  chunk = chunk.fillna(method='ffill')\n"
     ]
    },
    {
     "name": "stdout",
     "output_type": "stream",
     "text": [
      "written 1000000 ticks to: chunk-73 2021-03-16 21:09:48.362000 2021-03-26 10:27:47.105000\n",
      "min bid before: nan\n",
      "min ask before: 1.17042\n",
      "found 1000000 nans in chunk 74\n",
      "min bid after: 1.17042\n",
      "min ask after: 1.17042\n"
     ]
    },
    {
     "name": "stderr",
     "output_type": "stream",
     "text": [
      "/var/folders/hr/622sc4x53h1457kksyx5ttk80000gn/T/ipykernel_15308/2338413929.py:38: FutureWarning: DataFrame.fillna with 'method' is deprecated and will raise in a future version. Use obj.ffill() or obj.bfill() instead.\n",
      "  chunk = chunk.fillna(method='bfill')\n",
      "/var/folders/hr/622sc4x53h1457kksyx5ttk80000gn/T/ipykernel_15308/2338413929.py:39: FutureWarning: DataFrame.fillna with 'method' is deprecated and will raise in a future version. Use obj.ffill() or obj.bfill() instead.\n",
      "  chunk = chunk.fillna(method='ffill')\n"
     ]
    },
    {
     "name": "stdout",
     "output_type": "stream",
     "text": [
      "written 1000000 ticks to: chunk-74 2021-03-26 10:27:48.334000 2021-04-09 11:06:08.299000\n",
      "min bid before: 1.18672\n",
      "min ask before: nan\n",
      "found 1000000 nans in chunk 75\n",
      "min bid after: 1.18672\n",
      "min ask after: 1.18672\n"
     ]
    },
    {
     "name": "stderr",
     "output_type": "stream",
     "text": [
      "/var/folders/hr/622sc4x53h1457kksyx5ttk80000gn/T/ipykernel_15308/2338413929.py:38: FutureWarning: DataFrame.fillna with 'method' is deprecated and will raise in a future version. Use obj.ffill() or obj.bfill() instead.\n",
      "  chunk = chunk.fillna(method='bfill')\n",
      "/var/folders/hr/622sc4x53h1457kksyx5ttk80000gn/T/ipykernel_15308/2338413929.py:39: FutureWarning: DataFrame.fillna with 'method' is deprecated and will raise in a future version. Use obj.ffill() or obj.bfill() instead.\n",
      "  chunk = chunk.fillna(method='ffill')\n"
     ]
    },
    {
     "name": "stdout",
     "output_type": "stream",
     "text": [
      "written 1000000 ticks to: chunk-75 2021-04-09 11:06:08.332000 2021-04-21 16:44:30.112000\n",
      "min bid before: 1.19937\n",
      "min ask before: nan\n",
      "found 1000000 nans in chunk 76\n",
      "min bid after: 1.19937\n",
      "min ask after: 1.19937\n"
     ]
    },
    {
     "name": "stderr",
     "output_type": "stream",
     "text": [
      "/var/folders/hr/622sc4x53h1457kksyx5ttk80000gn/T/ipykernel_15308/2338413929.py:38: FutureWarning: DataFrame.fillna with 'method' is deprecated and will raise in a future version. Use obj.ffill() or obj.bfill() instead.\n",
      "  chunk = chunk.fillna(method='bfill')\n",
      "/var/folders/hr/622sc4x53h1457kksyx5ttk80000gn/T/ipykernel_15308/2338413929.py:39: FutureWarning: DataFrame.fillna with 'method' is deprecated and will raise in a future version. Use obj.ffill() or obj.bfill() instead.\n",
      "  chunk = chunk.fillna(method='ffill')\n"
     ]
    },
    {
     "name": "stdout",
     "output_type": "stream",
     "text": [
      "written 1000000 ticks to: chunk-76 2021-04-21 16:44:30.148000 2021-05-04 11:56:58.372000\n",
      "min bid before: nan\n",
      "min ask before: 1.19861\n",
      "found 1000000 nans in chunk 77\n",
      "min bid after: 1.19861\n",
      "min ask after: 1.19861\n"
     ]
    },
    {
     "name": "stderr",
     "output_type": "stream",
     "text": [
      "/var/folders/hr/622sc4x53h1457kksyx5ttk80000gn/T/ipykernel_15308/2338413929.py:38: FutureWarning: DataFrame.fillna with 'method' is deprecated and will raise in a future version. Use obj.ffill() or obj.bfill() instead.\n",
      "  chunk = chunk.fillna(method='bfill')\n",
      "/var/folders/hr/622sc4x53h1457kksyx5ttk80000gn/T/ipykernel_15308/2338413929.py:39: FutureWarning: DataFrame.fillna with 'method' is deprecated and will raise in a future version. Use obj.ffill() or obj.bfill() instead.\n",
      "  chunk = chunk.fillna(method='ffill')\n"
     ]
    },
    {
     "name": "stdout",
     "output_type": "stream",
     "text": [
      "written 1000000 ticks to: chunk-77 2021-05-04 11:56:58.372000 2021-05-13 16:52:38.608000\n",
      "min bid before: 1.20622\n",
      "min ask before: 1.20622\n",
      "found 1000000 nans in chunk 78\n",
      "min bid after: 1.20622\n",
      "min ask after: 1.20622\n"
     ]
    },
    {
     "name": "stderr",
     "output_type": "stream",
     "text": [
      "/var/folders/hr/622sc4x53h1457kksyx5ttk80000gn/T/ipykernel_15308/2338413929.py:38: FutureWarning: DataFrame.fillna with 'method' is deprecated and will raise in a future version. Use obj.ffill() or obj.bfill() instead.\n",
      "  chunk = chunk.fillna(method='bfill')\n",
      "/var/folders/hr/622sc4x53h1457kksyx5ttk80000gn/T/ipykernel_15308/2338413929.py:39: FutureWarning: DataFrame.fillna with 'method' is deprecated and will raise in a future version. Use obj.ffill() or obj.bfill() instead.\n",
      "  chunk = chunk.fillna(method='ffill')\n"
     ]
    },
    {
     "name": "stdout",
     "output_type": "stream",
     "text": [
      "written 1000000 ticks to: chunk-78 2021-05-13 16:52:38.654000 2021-05-25 12:27:20.973000\n",
      "min bid before: nan\n",
      "min ask before: 1.21041\n",
      "found 1000000 nans in chunk 79\n",
      "min bid after: 1.2104\n",
      "min ask after: 1.21041\n"
     ]
    },
    {
     "name": "stderr",
     "output_type": "stream",
     "text": [
      "/var/folders/hr/622sc4x53h1457kksyx5ttk80000gn/T/ipykernel_15308/2338413929.py:38: FutureWarning: DataFrame.fillna with 'method' is deprecated and will raise in a future version. Use obj.ffill() or obj.bfill() instead.\n",
      "  chunk = chunk.fillna(method='bfill')\n",
      "/var/folders/hr/622sc4x53h1457kksyx5ttk80000gn/T/ipykernel_15308/2338413929.py:39: FutureWarning: DataFrame.fillna with 'method' is deprecated and will raise in a future version. Use obj.ffill() or obj.bfill() instead.\n",
      "  chunk = chunk.fillna(method='ffill')\n"
     ]
    },
    {
     "name": "stdout",
     "output_type": "stream",
     "text": [
      "written 1000000 ticks to: chunk-79 2021-05-25 12:27:21.093000 2021-06-08 11:33:50.334000\n",
      "min bid before: 1.18473\n",
      "min ask before: 1.18474\n",
      "found 1000000 nans in chunk 80\n",
      "min bid after: 1.18473\n",
      "min ask after: 1.18474\n"
     ]
    },
    {
     "name": "stderr",
     "output_type": "stream",
     "text": [
      "/var/folders/hr/622sc4x53h1457kksyx5ttk80000gn/T/ipykernel_15308/2338413929.py:38: FutureWarning: DataFrame.fillna with 'method' is deprecated and will raise in a future version. Use obj.ffill() or obj.bfill() instead.\n",
      "  chunk = chunk.fillna(method='bfill')\n",
      "/var/folders/hr/622sc4x53h1457kksyx5ttk80000gn/T/ipykernel_15308/2338413929.py:39: FutureWarning: DataFrame.fillna with 'method' is deprecated and will raise in a future version. Use obj.ffill() or obj.bfill() instead.\n",
      "  chunk = chunk.fillna(method='ffill')\n"
     ]
    },
    {
     "name": "stdout",
     "output_type": "stream",
     "text": [
      "written 1000000 ticks to: chunk-80 2021-06-08 11:33:50.423000 2021-06-21 15:26:36.264000\n",
      "min bid before: nan\n",
      "min ask before: 1.18074\n",
      "found 1000000 nans in chunk 81\n",
      "min bid after: 1.18071\n",
      "min ask after: 1.18074\n"
     ]
    },
    {
     "name": "stderr",
     "output_type": "stream",
     "text": [
      "/var/folders/hr/622sc4x53h1457kksyx5ttk80000gn/T/ipykernel_15308/2338413929.py:38: FutureWarning: DataFrame.fillna with 'method' is deprecated and will raise in a future version. Use obj.ffill() or obj.bfill() instead.\n",
      "  chunk = chunk.fillna(method='bfill')\n",
      "/var/folders/hr/622sc4x53h1457kksyx5ttk80000gn/T/ipykernel_15308/2338413929.py:39: FutureWarning: DataFrame.fillna with 'method' is deprecated and will raise in a future version. Use obj.ffill() or obj.bfill() instead.\n",
      "  chunk = chunk.fillna(method='ffill')\n"
     ]
    },
    {
     "name": "stdout",
     "output_type": "stream",
     "text": [
      "written 1000000 ticks to: chunk-81 2021-06-21 15:26:37.248000 2021-07-02 18:56:22.076000\n",
      "min bid before: 1.1772\n",
      "min ask before: nan\n",
      "found 1000000 nans in chunk 82\n",
      "min bid after: 1.1772\n",
      "min ask after: 1.1772\n"
     ]
    },
    {
     "name": "stderr",
     "output_type": "stream",
     "text": [
      "/var/folders/hr/622sc4x53h1457kksyx5ttk80000gn/T/ipykernel_15308/2338413929.py:38: FutureWarning: DataFrame.fillna with 'method' is deprecated and will raise in a future version. Use obj.ffill() or obj.bfill() instead.\n",
      "  chunk = chunk.fillna(method='bfill')\n",
      "/var/folders/hr/622sc4x53h1457kksyx5ttk80000gn/T/ipykernel_15308/2338413929.py:39: FutureWarning: DataFrame.fillna with 'method' is deprecated and will raise in a future version. Use obj.ffill() or obj.bfill() instead.\n",
      "  chunk = chunk.fillna(method='ffill')\n"
     ]
    },
    {
     "name": "stdout",
     "output_type": "stream",
     "text": [
      "written 1000000 ticks to: chunk-82 2021-07-02 18:56:24.282000 2021-07-15 04:21:35.730000\n",
      "min bid before: 1.17519\n",
      "min ask before: nan\n",
      "found 1000000 nans in chunk 83\n",
      "min bid after: 1.17519\n",
      "min ask after: 1.17519\n"
     ]
    },
    {
     "name": "stderr",
     "output_type": "stream",
     "text": [
      "/var/folders/hr/622sc4x53h1457kksyx5ttk80000gn/T/ipykernel_15308/2338413929.py:38: FutureWarning: DataFrame.fillna with 'method' is deprecated and will raise in a future version. Use obj.ffill() or obj.bfill() instead.\n",
      "  chunk = chunk.fillna(method='bfill')\n",
      "/var/folders/hr/622sc4x53h1457kksyx5ttk80000gn/T/ipykernel_15308/2338413929.py:39: FutureWarning: DataFrame.fillna with 'method' is deprecated and will raise in a future version. Use obj.ffill() or obj.bfill() instead.\n",
      "  chunk = chunk.fillna(method='ffill')\n"
     ]
    },
    {
     "name": "stdout",
     "output_type": "stream",
     "text": [
      "written 1000000 ticks to: chunk-83 2021-07-15 04:21:35.749000 2021-07-27 06:37:18.807000\n",
      "min bid before: nan\n",
      "min ask before: 1.17425\n",
      "found 1000000 nans in chunk 84\n",
      "min bid after: 1.17424\n",
      "min ask after: 1.17425\n"
     ]
    },
    {
     "name": "stderr",
     "output_type": "stream",
     "text": [
      "/var/folders/hr/622sc4x53h1457kksyx5ttk80000gn/T/ipykernel_15308/2338413929.py:38: FutureWarning: DataFrame.fillna with 'method' is deprecated and will raise in a future version. Use obj.ffill() or obj.bfill() instead.\n",
      "  chunk = chunk.fillna(method='bfill')\n",
      "/var/folders/hr/622sc4x53h1457kksyx5ttk80000gn/T/ipykernel_15308/2338413929.py:39: FutureWarning: DataFrame.fillna with 'method' is deprecated and will raise in a future version. Use obj.ffill() or obj.bfill() instead.\n",
      "  chunk = chunk.fillna(method='ffill')\n"
     ]
    },
    {
     "name": "stdout",
     "output_type": "stream",
     "text": [
      "written 1000000 ticks to: chunk-84 2021-07-27 06:37:18.821000 2021-08-09 15:16:11.090000\n",
      "min bid before: 1.1664\n",
      "min ask before: 1.1664\n",
      "found 1000000 nans in chunk 85\n",
      "min bid after: 1.1664\n",
      "min ask after: 1.1664\n"
     ]
    },
    {
     "name": "stderr",
     "output_type": "stream",
     "text": [
      "/var/folders/hr/622sc4x53h1457kksyx5ttk80000gn/T/ipykernel_15308/2338413929.py:38: FutureWarning: DataFrame.fillna with 'method' is deprecated and will raise in a future version. Use obj.ffill() or obj.bfill() instead.\n",
      "  chunk = chunk.fillna(method='bfill')\n",
      "/var/folders/hr/622sc4x53h1457kksyx5ttk80000gn/T/ipykernel_15308/2338413929.py:39: FutureWarning: DataFrame.fillna with 'method' is deprecated and will raise in a future version. Use obj.ffill() or obj.bfill() instead.\n",
      "  chunk = chunk.fillna(method='ffill')\n"
     ]
    },
    {
     "name": "stdout",
     "output_type": "stream",
     "text": [
      "written 1000000 ticks to: chunk-85 2021-08-09 15:16:14.226000 2021-08-23 16:47:46.371000\n",
      "min bid before: 1.1724\n",
      "min ask before: 1.1724\n",
      "found 1000000 nans in chunk 86\n",
      "min bid after: 1.1724\n",
      "min ask after: 1.1724\n"
     ]
    },
    {
     "name": "stderr",
     "output_type": "stream",
     "text": [
      "/var/folders/hr/622sc4x53h1457kksyx5ttk80000gn/T/ipykernel_15308/2338413929.py:38: FutureWarning: DataFrame.fillna with 'method' is deprecated and will raise in a future version. Use obj.ffill() or obj.bfill() instead.\n",
      "  chunk = chunk.fillna(method='bfill')\n",
      "/var/folders/hr/622sc4x53h1457kksyx5ttk80000gn/T/ipykernel_15308/2338413929.py:39: FutureWarning: DataFrame.fillna with 'method' is deprecated and will raise in a future version. Use obj.ffill() or obj.bfill() instead.\n",
      "  chunk = chunk.fillna(method='ffill')\n"
     ]
    },
    {
     "name": "stdout",
     "output_type": "stream",
     "text": [
      "written 1000000 ticks to: chunk-86 2021-08-23 16:47:47.261000 2021-09-07 11:26:31.902000\n",
      "min bid before: nan\n",
      "min ask before: 1.17506\n",
      "found 1000000 nans in chunk 87\n",
      "min bid after: 1.17504\n",
      "min ask after: 1.17506\n"
     ]
    },
    {
     "name": "stderr",
     "output_type": "stream",
     "text": [
      "/var/folders/hr/622sc4x53h1457kksyx5ttk80000gn/T/ipykernel_15308/2338413929.py:38: FutureWarning: DataFrame.fillna with 'method' is deprecated and will raise in a future version. Use obj.ffill() or obj.bfill() instead.\n",
      "  chunk = chunk.fillna(method='bfill')\n",
      "/var/folders/hr/622sc4x53h1457kksyx5ttk80000gn/T/ipykernel_15308/2338413929.py:39: FutureWarning: DataFrame.fillna with 'method' is deprecated and will raise in a future version. Use obj.ffill() or obj.bfill() instead.\n",
      "  chunk = chunk.fillna(method='ffill')\n"
     ]
    },
    {
     "name": "stdout",
     "output_type": "stream",
     "text": [
      "written 1000000 ticks to: chunk-87 2021-09-07 11:26:32.165000 2021-09-17 16:18:24.557000\n",
      "min bid before: 1.15626\n",
      "min ask before: nan\n",
      "found 1000000 nans in chunk 88\n",
      "min bid after: 1.15626\n",
      "min ask after: 1.15626\n"
     ]
    },
    {
     "name": "stderr",
     "output_type": "stream",
     "text": [
      "/var/folders/hr/622sc4x53h1457kksyx5ttk80000gn/T/ipykernel_15308/2338413929.py:38: FutureWarning: DataFrame.fillna with 'method' is deprecated and will raise in a future version. Use obj.ffill() or obj.bfill() instead.\n",
      "  chunk = chunk.fillna(method='bfill')\n",
      "/var/folders/hr/622sc4x53h1457kksyx5ttk80000gn/T/ipykernel_15308/2338413929.py:39: FutureWarning: DataFrame.fillna with 'method' is deprecated and will raise in a future version. Use obj.ffill() or obj.bfill() instead.\n",
      "  chunk = chunk.fillna(method='ffill')\n"
     ]
    },
    {
     "name": "stdout",
     "output_type": "stream",
     "text": [
      "written 1000000 ticks to: chunk-88 2021-09-17 16:18:24.767000 2021-10-01 16:29:32.221000\n",
      "min bid before: 1.15245\n",
      "min ask before: 1.15245\n",
      "found 1000000 nans in chunk 89\n",
      "min bid after: 1.15245\n",
      "min ask after: 1.15245\n"
     ]
    },
    {
     "name": "stderr",
     "output_type": "stream",
     "text": [
      "/var/folders/hr/622sc4x53h1457kksyx5ttk80000gn/T/ipykernel_15308/2338413929.py:38: FutureWarning: DataFrame.fillna with 'method' is deprecated and will raise in a future version. Use obj.ffill() or obj.bfill() instead.\n",
      "  chunk = chunk.fillna(method='bfill')\n",
      "/var/folders/hr/622sc4x53h1457kksyx5ttk80000gn/T/ipykernel_15308/2338413929.py:39: FutureWarning: DataFrame.fillna with 'method' is deprecated and will raise in a future version. Use obj.ffill() or obj.bfill() instead.\n",
      "  chunk = chunk.fillna(method='ffill')\n"
     ]
    },
    {
     "name": "stdout",
     "output_type": "stream",
     "text": [
      "written 1000000 ticks to: chunk-89 2021-10-01 16:29:32.403000 2021-10-28 16:26:33.641000\n",
      "min bid before: 1.12636\n",
      "min ask before: 1.1264\n",
      "found 1000000 nans in chunk 90\n",
      "min bid after: 1.12636\n",
      "min ask after: 1.1264\n"
     ]
    },
    {
     "name": "stderr",
     "output_type": "stream",
     "text": [
      "/var/folders/hr/622sc4x53h1457kksyx5ttk80000gn/T/ipykernel_15308/2338413929.py:38: FutureWarning: DataFrame.fillna with 'method' is deprecated and will raise in a future version. Use obj.ffill() or obj.bfill() instead.\n",
      "  chunk = chunk.fillna(method='bfill')\n",
      "/var/folders/hr/622sc4x53h1457kksyx5ttk80000gn/T/ipykernel_15308/2338413929.py:39: FutureWarning: DataFrame.fillna with 'method' is deprecated and will raise in a future version. Use obj.ffill() or obj.bfill() instead.\n",
      "  chunk = chunk.fillna(method='ffill')\n"
     ]
    },
    {
     "name": "stdout",
     "output_type": "stream",
     "text": [
      "written 1000000 ticks to: chunk-90 2021-10-28 16:26:33.695000 2021-11-19 11:07:47.151000\n",
      "min bid before: 1.11862\n",
      "min ask before: 1.11862\n",
      "found 1000000 nans in chunk 91\n",
      "min bid after: 1.11862\n",
      "min ask after: 1.11862\n"
     ]
    },
    {
     "name": "stderr",
     "output_type": "stream",
     "text": [
      "/var/folders/hr/622sc4x53h1457kksyx5ttk80000gn/T/ipykernel_15308/2338413929.py:38: FutureWarning: DataFrame.fillna with 'method' is deprecated and will raise in a future version. Use obj.ffill() or obj.bfill() instead.\n",
      "  chunk = chunk.fillna(method='bfill')\n",
      "/var/folders/hr/622sc4x53h1457kksyx5ttk80000gn/T/ipykernel_15308/2338413929.py:39: FutureWarning: DataFrame.fillna with 'method' is deprecated and will raise in a future version. Use obj.ffill() or obj.bfill() instead.\n",
      "  chunk = chunk.fillna(method='ffill')\n"
     ]
    },
    {
     "name": "stdout",
     "output_type": "stream",
     "text": [
      "written 1000000 ticks to: chunk-91 2021-11-19 11:07:47.196000 2021-12-07 17:50:32.850000\n",
      "min bid before: 1.1222\n",
      "min ask before: 1.1222\n",
      "found 1000000 nans in chunk 92\n",
      "min bid after: 1.1222\n",
      "min ask after: 1.1222\n"
     ]
    },
    {
     "name": "stderr",
     "output_type": "stream",
     "text": [
      "/var/folders/hr/622sc4x53h1457kksyx5ttk80000gn/T/ipykernel_15308/2338413929.py:38: FutureWarning: DataFrame.fillna with 'method' is deprecated and will raise in a future version. Use obj.ffill() or obj.bfill() instead.\n",
      "  chunk = chunk.fillna(method='bfill')\n",
      "/var/folders/hr/622sc4x53h1457kksyx5ttk80000gn/T/ipykernel_15308/2338413929.py:39: FutureWarning: DataFrame.fillna with 'method' is deprecated and will raise in a future version. Use obj.ffill() or obj.bfill() instead.\n",
      "  chunk = chunk.fillna(method='ffill')\n"
     ]
    },
    {
     "name": "stdout",
     "output_type": "stream",
     "text": [
      "written 1000000 ticks to: chunk-92 2021-12-07 17:50:37.047000 2021-12-30 07:58:16.534000\n",
      "min bid before: 1.12724\n",
      "min ask before: nan\n",
      "found 1000000 nans in chunk 93\n",
      "min bid after: 1.12724\n",
      "min ask after: 1.12724\n"
     ]
    },
    {
     "name": "stderr",
     "output_type": "stream",
     "text": [
      "/var/folders/hr/622sc4x53h1457kksyx5ttk80000gn/T/ipykernel_15308/2338413929.py:38: FutureWarning: DataFrame.fillna with 'method' is deprecated and will raise in a future version. Use obj.ffill() or obj.bfill() instead.\n",
      "  chunk = chunk.fillna(method='bfill')\n",
      "/var/folders/hr/622sc4x53h1457kksyx5ttk80000gn/T/ipykernel_15308/2338413929.py:39: FutureWarning: DataFrame.fillna with 'method' is deprecated and will raise in a future version. Use obj.ffill() or obj.bfill() instead.\n",
      "  chunk = chunk.fillna(method='ffill')\n"
     ]
    },
    {
     "name": "stdout",
     "output_type": "stream",
     "text": [
      "written 1000000 ticks to: chunk-93 2021-12-30 07:58:16.642000 2022-01-18 16:31:56.349000\n",
      "min bid before: nan\n",
      "min ask before: 1.11215\n",
      "found 1000000 nans in chunk 94\n",
      "min bid after: 1.11214\n",
      "min ask after: 1.11215\n"
     ]
    },
    {
     "name": "stderr",
     "output_type": "stream",
     "text": [
      "/var/folders/hr/622sc4x53h1457kksyx5ttk80000gn/T/ipykernel_15308/2338413929.py:38: FutureWarning: DataFrame.fillna with 'method' is deprecated and will raise in a future version. Use obj.ffill() or obj.bfill() instead.\n",
      "  chunk = chunk.fillna(method='bfill')\n",
      "/var/folders/hr/622sc4x53h1457kksyx5ttk80000gn/T/ipykernel_15308/2338413929.py:39: FutureWarning: DataFrame.fillna with 'method' is deprecated and will raise in a future version. Use obj.ffill() or obj.bfill() instead.\n",
      "  chunk = chunk.fillna(method='ffill')\n"
     ]
    },
    {
     "name": "stdout",
     "output_type": "stream",
     "text": [
      "written 1000000 ticks to: chunk-94 2022-01-18 16:31:56.842000 2022-02-03 10:26:21.488000\n",
      "min bid before: nan\n",
      "min ask before: 1.12674\n",
      "found 1000000 nans in chunk 95\n",
      "min bid after: 1.12674\n",
      "min ask after: 1.12674\n"
     ]
    },
    {
     "name": "stderr",
     "output_type": "stream",
     "text": [
      "/var/folders/hr/622sc4x53h1457kksyx5ttk80000gn/T/ipykernel_15308/2338413929.py:38: FutureWarning: DataFrame.fillna with 'method' is deprecated and will raise in a future version. Use obj.ffill() or obj.bfill() instead.\n",
      "  chunk = chunk.fillna(method='bfill')\n",
      "/var/folders/hr/622sc4x53h1457kksyx5ttk80000gn/T/ipykernel_15308/2338413929.py:39: FutureWarning: DataFrame.fillna with 'method' is deprecated and will raise in a future version. Use obj.ffill() or obj.bfill() instead.\n",
      "  chunk = chunk.fillna(method='ffill')\n"
     ]
    },
    {
     "name": "stdout",
     "output_type": "stream",
     "text": [
      "written 1000000 ticks to: chunk-95 2022-02-03 10:26:21.553000 2022-02-16 21:03:44.921000\n",
      "min bid before: 1.11066\n",
      "min ask before: 1.11066\n",
      "found 1000000 nans in chunk 96\n",
      "min bid after: 1.11066\n",
      "min ask after: 1.11066\n"
     ]
    },
    {
     "name": "stderr",
     "output_type": "stream",
     "text": [
      "/var/folders/hr/622sc4x53h1457kksyx5ttk80000gn/T/ipykernel_15308/2338413929.py:38: FutureWarning: DataFrame.fillna with 'method' is deprecated and will raise in a future version. Use obj.ffill() or obj.bfill() instead.\n",
      "  chunk = chunk.fillna(method='bfill')\n",
      "/var/folders/hr/622sc4x53h1457kksyx5ttk80000gn/T/ipykernel_15308/2338413929.py:39: FutureWarning: DataFrame.fillna with 'method' is deprecated and will raise in a future version. Use obj.ffill() or obj.bfill() instead.\n",
      "  chunk = chunk.fillna(method='ffill')\n"
     ]
    },
    {
     "name": "stdout",
     "output_type": "stream",
     "text": [
      "written 1000000 ticks to: chunk-96 2022-02-16 21:03:44.973000 2022-02-28 17:05:14.516000\n",
      "min bid before: 1.0806\n",
      "min ask before: 1.08061\n",
      "found 1000000 nans in chunk 97\n",
      "min bid after: 1.0806\n",
      "min ask after: 1.08061\n"
     ]
    },
    {
     "name": "stderr",
     "output_type": "stream",
     "text": [
      "/var/folders/hr/622sc4x53h1457kksyx5ttk80000gn/T/ipykernel_15308/2338413929.py:38: FutureWarning: DataFrame.fillna with 'method' is deprecated and will raise in a future version. Use obj.ffill() or obj.bfill() instead.\n",
      "  chunk = chunk.fillna(method='bfill')\n",
      "/var/folders/hr/622sc4x53h1457kksyx5ttk80000gn/T/ipykernel_15308/2338413929.py:39: FutureWarning: DataFrame.fillna with 'method' is deprecated and will raise in a future version. Use obj.ffill() or obj.bfill() instead.\n",
      "  chunk = chunk.fillna(method='ffill')\n"
     ]
    },
    {
     "name": "stdout",
     "output_type": "stream",
     "text": [
      "written 1000000 ticks to: chunk-97 2022-02-28 17:05:14.684000 2022-03-08 16:39:12.131000\n",
      "min bid before: 1.08721\n",
      "min ask before: 1.08721\n",
      "found 1000000 nans in chunk 98\n",
      "min bid after: 1.08721\n",
      "min ask after: 1.08721\n"
     ]
    },
    {
     "name": "stderr",
     "output_type": "stream",
     "text": [
      "/var/folders/hr/622sc4x53h1457kksyx5ttk80000gn/T/ipykernel_15308/2338413929.py:38: FutureWarning: DataFrame.fillna with 'method' is deprecated and will raise in a future version. Use obj.ffill() or obj.bfill() instead.\n",
      "  chunk = chunk.fillna(method='bfill')\n",
      "/var/folders/hr/622sc4x53h1457kksyx5ttk80000gn/T/ipykernel_15308/2338413929.py:39: FutureWarning: DataFrame.fillna with 'method' is deprecated and will raise in a future version. Use obj.ffill() or obj.bfill() instead.\n",
      "  chunk = chunk.fillna(method='ffill')\n"
     ]
    },
    {
     "name": "stdout",
     "output_type": "stream",
     "text": [
      "written 1000000 ticks to: chunk-98 2022-03-08 16:39:12.179000 2022-03-16 19:45:13.305000\n",
      "min bid before: 1.09449\n",
      "min ask before: nan\n",
      "found 1000000 nans in chunk 99\n",
      "min bid after: 1.09449\n",
      "min ask after: 1.09449\n"
     ]
    },
    {
     "name": "stderr",
     "output_type": "stream",
     "text": [
      "/var/folders/hr/622sc4x53h1457kksyx5ttk80000gn/T/ipykernel_15308/2338413929.py:38: FutureWarning: DataFrame.fillna with 'method' is deprecated and will raise in a future version. Use obj.ffill() or obj.bfill() instead.\n",
      "  chunk = chunk.fillna(method='bfill')\n",
      "/var/folders/hr/622sc4x53h1457kksyx5ttk80000gn/T/ipykernel_15308/2338413929.py:39: FutureWarning: DataFrame.fillna with 'method' is deprecated and will raise in a future version. Use obj.ffill() or obj.bfill() instead.\n",
      "  chunk = chunk.fillna(method='ffill')\n"
     ]
    },
    {
     "name": "stdout",
     "output_type": "stream",
     "text": [
      "written 1000000 ticks to: chunk-99 2022-03-16 19:45:13.387000 2022-03-29 10:44:02.304000\n",
      "min bid before: nan\n",
      "min ask before: 1.08365\n",
      "found 1000000 nans in chunk 100\n",
      "min bid after: 1.08365\n",
      "min ask after: 1.08365\n"
     ]
    },
    {
     "name": "stderr",
     "output_type": "stream",
     "text": [
      "/var/folders/hr/622sc4x53h1457kksyx5ttk80000gn/T/ipykernel_15308/2338413929.py:38: FutureWarning: DataFrame.fillna with 'method' is deprecated and will raise in a future version. Use obj.ffill() or obj.bfill() instead.\n",
      "  chunk = chunk.fillna(method='bfill')\n",
      "/var/folders/hr/622sc4x53h1457kksyx5ttk80000gn/T/ipykernel_15308/2338413929.py:39: FutureWarning: DataFrame.fillna with 'method' is deprecated and will raise in a future version. Use obj.ffill() or obj.bfill() instead.\n",
      "  chunk = chunk.fillna(method='ffill')\n"
     ]
    },
    {
     "name": "stdout",
     "output_type": "stream",
     "text": [
      "written 1000000 ticks to: chunk-100 2022-03-29 10:44:02.405000 2022-04-11 08:52:19.457000\n",
      "min bid before: nan\n",
      "min ask before: 1.07576\n",
      "found 1000000 nans in chunk 101\n",
      "min bid after: 1.07575\n",
      "min ask after: 1.07576\n"
     ]
    },
    {
     "name": "stderr",
     "output_type": "stream",
     "text": [
      "/var/folders/hr/622sc4x53h1457kksyx5ttk80000gn/T/ipykernel_15308/2338413929.py:38: FutureWarning: DataFrame.fillna with 'method' is deprecated and will raise in a future version. Use obj.ffill() or obj.bfill() instead.\n",
      "  chunk = chunk.fillna(method='bfill')\n",
      "/var/folders/hr/622sc4x53h1457kksyx5ttk80000gn/T/ipykernel_15308/2338413929.py:39: FutureWarning: DataFrame.fillna with 'method' is deprecated and will raise in a future version. Use obj.ffill() or obj.bfill() instead.\n",
      "  chunk = chunk.fillna(method='ffill')\n"
     ]
    },
    {
     "name": "stdout",
     "output_type": "stream",
     "text": [
      "written 1000000 ticks to: chunk-101 2022-04-11 08:52:19.458000 2022-04-25 01:13:06.825000\n",
      "min bid before: nan\n",
      "min ask before: 1.04715\n",
      "found 1000000 nans in chunk 102\n",
      "min bid after: 1.04714\n",
      "min ask after: 1.04715\n"
     ]
    },
    {
     "name": "stderr",
     "output_type": "stream",
     "text": [
      "/var/folders/hr/622sc4x53h1457kksyx5ttk80000gn/T/ipykernel_15308/2338413929.py:38: FutureWarning: DataFrame.fillna with 'method' is deprecated and will raise in a future version. Use obj.ffill() or obj.bfill() instead.\n",
      "  chunk = chunk.fillna(method='bfill')\n",
      "/var/folders/hr/622sc4x53h1457kksyx5ttk80000gn/T/ipykernel_15308/2338413929.py:39: FutureWarning: DataFrame.fillna with 'method' is deprecated and will raise in a future version. Use obj.ffill() or obj.bfill() instead.\n",
      "  chunk = chunk.fillna(method='ffill')\n"
     ]
    },
    {
     "name": "stdout",
     "output_type": "stream",
     "text": [
      "written 1000000 ticks to: chunk-102 2022-04-25 01:13:07.127000 2022-05-04 21:11:16.916000\n",
      "min bid before: 1.04828\n",
      "min ask before: nan\n",
      "found 1000000 nans in chunk 103\n",
      "min bid after: 1.04828\n",
      "min ask after: 1.04829\n"
     ]
    },
    {
     "name": "stderr",
     "output_type": "stream",
     "text": [
      "/var/folders/hr/622sc4x53h1457kksyx5ttk80000gn/T/ipykernel_15308/2338413929.py:38: FutureWarning: DataFrame.fillna with 'method' is deprecated and will raise in a future version. Use obj.ffill() or obj.bfill() instead.\n",
      "  chunk = chunk.fillna(method='bfill')\n",
      "/var/folders/hr/622sc4x53h1457kksyx5ttk80000gn/T/ipykernel_15308/2338413929.py:39: FutureWarning: DataFrame.fillna with 'method' is deprecated and will raise in a future version. Use obj.ffill() or obj.bfill() instead.\n",
      "  chunk = chunk.fillna(method='ffill')\n"
     ]
    },
    {
     "name": "stdout",
     "output_type": "stream",
     "text": [
      "written 1000000 ticks to: chunk-103 2022-05-04 21:11:16.975000 2022-05-12 07:51:07.295000\n",
      "min bid before: 1.03497\n",
      "min ask before: nan\n",
      "found 1000000 nans in chunk 104\n",
      "min bid after: 1.03497\n",
      "min ask after: 1.03497\n"
     ]
    },
    {
     "name": "stderr",
     "output_type": "stream",
     "text": [
      "/var/folders/hr/622sc4x53h1457kksyx5ttk80000gn/T/ipykernel_15308/2338413929.py:38: FutureWarning: DataFrame.fillna with 'method' is deprecated and will raise in a future version. Use obj.ffill() or obj.bfill() instead.\n",
      "  chunk = chunk.fillna(method='bfill')\n",
      "/var/folders/hr/622sc4x53h1457kksyx5ttk80000gn/T/ipykernel_15308/2338413929.py:39: FutureWarning: DataFrame.fillna with 'method' is deprecated and will raise in a future version. Use obj.ffill() or obj.bfill() instead.\n",
      "  chunk = chunk.fillna(method='ffill')\n"
     ]
    },
    {
     "name": "stdout",
     "output_type": "stream",
     "text": [
      "written 1000000 ticks to: chunk-104 2022-05-12 07:51:07.421000 2022-05-23 11:01:13.924000\n",
      "min bid before: 1.06055\n",
      "min ask before: 1.06056\n",
      "found 1000000 nans in chunk 105\n",
      "min bid after: 1.06055\n",
      "min ask after: 1.06056\n"
     ]
    },
    {
     "name": "stderr",
     "output_type": "stream",
     "text": [
      "/var/folders/hr/622sc4x53h1457kksyx5ttk80000gn/T/ipykernel_15308/2338413929.py:38: FutureWarning: DataFrame.fillna with 'method' is deprecated and will raise in a future version. Use obj.ffill() or obj.bfill() instead.\n",
      "  chunk = chunk.fillna(method='bfill')\n",
      "/var/folders/hr/622sc4x53h1457kksyx5ttk80000gn/T/ipykernel_15308/2338413929.py:39: FutureWarning: DataFrame.fillna with 'method' is deprecated and will raise in a future version. Use obj.ffill() or obj.bfill() instead.\n",
      "  chunk = chunk.fillna(method='ffill')\n"
     ]
    },
    {
     "name": "stdout",
     "output_type": "stream",
     "text": [
      "written 1000000 ticks to: chunk-105 2022-05-23 11:01:14.091000 2022-06-02 21:13:29.306000\n",
      "min bid before: nan\n",
      "min ask before: 1.03971\n",
      "found 1000000 nans in chunk 106\n",
      "min bid after: 1.0397\n",
      "min ask after: 1.03971\n"
     ]
    },
    {
     "name": "stderr",
     "output_type": "stream",
     "text": [
      "/var/folders/hr/622sc4x53h1457kksyx5ttk80000gn/T/ipykernel_15308/2338413929.py:38: FutureWarning: DataFrame.fillna with 'method' is deprecated and will raise in a future version. Use obj.ffill() or obj.bfill() instead.\n",
      "  chunk = chunk.fillna(method='bfill')\n",
      "/var/folders/hr/622sc4x53h1457kksyx5ttk80000gn/T/ipykernel_15308/2338413929.py:39: FutureWarning: DataFrame.fillna with 'method' is deprecated and will raise in a future version. Use obj.ffill() or obj.bfill() instead.\n",
      "  chunk = chunk.fillna(method='ffill')\n"
     ]
    },
    {
     "name": "stdout",
     "output_type": "stream",
     "text": [
      "written 1000000 ticks to: chunk-106 2022-06-02 21:13:29.359000 2022-06-14 13:20:03.400000\n",
      "min bid before: nan\n",
      "min ask before: 1.03593\n",
      "found 1000000 nans in chunk 107\n",
      "min bid after: 1.0359\n",
      "min ask after: 1.03593\n"
     ]
    },
    {
     "name": "stderr",
     "output_type": "stream",
     "text": [
      "/var/folders/hr/622sc4x53h1457kksyx5ttk80000gn/T/ipykernel_15308/2338413929.py:38: FutureWarning: DataFrame.fillna with 'method' is deprecated and will raise in a future version. Use obj.ffill() or obj.bfill() instead.\n",
      "  chunk = chunk.fillna(method='bfill')\n",
      "/var/folders/hr/622sc4x53h1457kksyx5ttk80000gn/T/ipykernel_15308/2338413929.py:39: FutureWarning: DataFrame.fillna with 'method' is deprecated and will raise in a future version. Use obj.ffill() or obj.bfill() instead.\n",
      "  chunk = chunk.fillna(method='ffill')\n"
     ]
    },
    {
     "name": "stdout",
     "output_type": "stream",
     "text": [
      "written 1000000 ticks to: chunk-107 2022-06-14 13:20:03.524000 2022-06-21 15:34:43.768000\n",
      "min bid before: 1.04353\n",
      "min ask before: nan\n",
      "found 1000000 nans in chunk 108\n",
      "min bid after: 1.04353\n",
      "min ask after: 1.04353\n"
     ]
    },
    {
     "name": "stderr",
     "output_type": "stream",
     "text": [
      "/var/folders/hr/622sc4x53h1457kksyx5ttk80000gn/T/ipykernel_15308/2338413929.py:38: FutureWarning: DataFrame.fillna with 'method' is deprecated and will raise in a future version. Use obj.ffill() or obj.bfill() instead.\n",
      "  chunk = chunk.fillna(method='bfill')\n",
      "/var/folders/hr/622sc4x53h1457kksyx5ttk80000gn/T/ipykernel_15308/2338413929.py:39: FutureWarning: DataFrame.fillna with 'method' is deprecated and will raise in a future version. Use obj.ffill() or obj.bfill() instead.\n",
      "  chunk = chunk.fillna(method='ffill')\n"
     ]
    },
    {
     "name": "stdout",
     "output_type": "stream",
     "text": [
      "written 1000000 ticks to: chunk-108 2022-06-21 15:34:43.840000 2022-06-30 03:56:28.394000\n",
      "min bid before: 1.01617\n",
      "min ask before: 1.01617\n",
      "found 1000000 nans in chunk 109\n",
      "min bid after: 1.01617\n",
      "min ask after: 1.01617\n"
     ]
    },
    {
     "name": "stderr",
     "output_type": "stream",
     "text": [
      "/var/folders/hr/622sc4x53h1457kksyx5ttk80000gn/T/ipykernel_15308/2338413929.py:38: FutureWarning: DataFrame.fillna with 'method' is deprecated and will raise in a future version. Use obj.ffill() or obj.bfill() instead.\n",
      "  chunk = chunk.fillna(method='bfill')\n",
      "/var/folders/hr/622sc4x53h1457kksyx5ttk80000gn/T/ipykernel_15308/2338413929.py:39: FutureWarning: DataFrame.fillna with 'method' is deprecated and will raise in a future version. Use obj.ffill() or obj.bfill() instead.\n",
      "  chunk = chunk.fillna(method='ffill')\n"
     ]
    },
    {
     "name": "stdout",
     "output_type": "stream",
     "text": [
      "written 1000000 ticks to: chunk-109 2022-06-30 03:56:29.316000 2022-07-07 11:28:19.542000\n",
      "min bid before: 1.0\n",
      "min ask before: 1.0\n",
      "found 1000000 nans in chunk 110\n",
      "min bid after: 1.0\n",
      "min ask after: 1.0\n"
     ]
    },
    {
     "name": "stderr",
     "output_type": "stream",
     "text": [
      "/var/folders/hr/622sc4x53h1457kksyx5ttk80000gn/T/ipykernel_15308/2338413929.py:38: FutureWarning: DataFrame.fillna with 'method' is deprecated and will raise in a future version. Use obj.ffill() or obj.bfill() instead.\n",
      "  chunk = chunk.fillna(method='bfill')\n",
      "/var/folders/hr/622sc4x53h1457kksyx5ttk80000gn/T/ipykernel_15308/2338413929.py:39: FutureWarning: DataFrame.fillna with 'method' is deprecated and will raise in a future version. Use obj.ffill() or obj.bfill() instead.\n",
      "  chunk = chunk.fillna(method='ffill')\n"
     ]
    },
    {
     "name": "stdout",
     "output_type": "stream",
     "text": [
      "written 1000000 ticks to: chunk-110 2022-07-07 11:28:19.593000 2022-07-13 09:35:19.992000\n",
      "min bid before: 0.99523\n",
      "min ask before: 0.99523\n",
      "found 1000000 nans in chunk 111\n",
      "min bid after: 0.99523\n",
      "min ask after: 0.99523\n"
     ]
    },
    {
     "name": "stderr",
     "output_type": "stream",
     "text": [
      "/var/folders/hr/622sc4x53h1457kksyx5ttk80000gn/T/ipykernel_15308/2338413929.py:38: FutureWarning: DataFrame.fillna with 'method' is deprecated and will raise in a future version. Use obj.ffill() or obj.bfill() instead.\n",
      "  chunk = chunk.fillna(method='bfill')\n",
      "/var/folders/hr/622sc4x53h1457kksyx5ttk80000gn/T/ipykernel_15308/2338413929.py:39: FutureWarning: DataFrame.fillna with 'method' is deprecated and will raise in a future version. Use obj.ffill() or obj.bfill() instead.\n",
      "  chunk = chunk.fillna(method='ffill')\n"
     ]
    },
    {
     "name": "stdout",
     "output_type": "stream",
     "text": [
      "written 1000000 ticks to: chunk-111 2022-07-13 09:35:20.136000 2022-07-19 10:33:34.302000\n",
      "min bid before: 1.01298\n",
      "min ask before: 1.01299\n",
      "found 1000000 nans in chunk 112\n",
      "min bid after: 1.01298\n",
      "min ask after: 1.01299\n"
     ]
    },
    {
     "name": "stderr",
     "output_type": "stream",
     "text": [
      "/var/folders/hr/622sc4x53h1457kksyx5ttk80000gn/T/ipykernel_15308/2338413929.py:38: FutureWarning: DataFrame.fillna with 'method' is deprecated and will raise in a future version. Use obj.ffill() or obj.bfill() instead.\n",
      "  chunk = chunk.fillna(method='bfill')\n",
      "/var/folders/hr/622sc4x53h1457kksyx5ttk80000gn/T/ipykernel_15308/2338413929.py:39: FutureWarning: DataFrame.fillna with 'method' is deprecated and will raise in a future version. Use obj.ffill() or obj.bfill() instead.\n",
      "  chunk = chunk.fillna(method='ffill')\n"
     ]
    },
    {
     "name": "stdout",
     "output_type": "stream",
     "text": [
      "written 1000000 ticks to: chunk-112 2022-07-19 10:33:34.348000 2022-07-26 08:41:48.553000\n",
      "min bid before: 1.00967\n",
      "min ask before: 1.00968\n",
      "found 1000000 nans in chunk 113\n",
      "min bid after: 1.00967\n",
      "min ask after: 1.00968\n"
     ]
    },
    {
     "name": "stderr",
     "output_type": "stream",
     "text": [
      "/var/folders/hr/622sc4x53h1457kksyx5ttk80000gn/T/ipykernel_15308/2338413929.py:38: FutureWarning: DataFrame.fillna with 'method' is deprecated and will raise in a future version. Use obj.ffill() or obj.bfill() instead.\n",
      "  chunk = chunk.fillna(method='bfill')\n",
      "/var/folders/hr/622sc4x53h1457kksyx5ttk80000gn/T/ipykernel_15308/2338413929.py:39: FutureWarning: DataFrame.fillna with 'method' is deprecated and will raise in a future version. Use obj.ffill() or obj.bfill() instead.\n",
      "  chunk = chunk.fillna(method='ffill')\n"
     ]
    },
    {
     "name": "stdout",
     "output_type": "stream",
     "text": [
      "written 1000000 ticks to: chunk-113 2022-07-26 08:41:48.980000 2022-08-02 08:55:54.930000\n",
      "min bid before: 1.01228\n",
      "min ask before: 1.01228\n",
      "found 1000000 nans in chunk 114\n",
      "min bid after: 1.01228\n",
      "min ask after: 1.01228\n"
     ]
    },
    {
     "name": "stderr",
     "output_type": "stream",
     "text": [
      "/var/folders/hr/622sc4x53h1457kksyx5ttk80000gn/T/ipykernel_15308/2338413929.py:38: FutureWarning: DataFrame.fillna with 'method' is deprecated and will raise in a future version. Use obj.ffill() or obj.bfill() instead.\n",
      "  chunk = chunk.fillna(method='bfill')\n",
      "/var/folders/hr/622sc4x53h1457kksyx5ttk80000gn/T/ipykernel_15308/2338413929.py:39: FutureWarning: DataFrame.fillna with 'method' is deprecated and will raise in a future version. Use obj.ffill() or obj.bfill() instead.\n",
      "  chunk = chunk.fillna(method='ffill')\n"
     ]
    },
    {
     "name": "stdout",
     "output_type": "stream",
     "text": [
      "written 1000000 ticks to: chunk-114 2022-08-02 08:55:55.536000 2022-08-11 20:24:41.680000\n",
      "min bid before: 0.99007\n",
      "min ask before: 0.99007\n",
      "found 1000000 nans in chunk 115\n",
      "min bid after: 0.99007\n",
      "min ask after: 0.99007\n"
     ]
    },
    {
     "name": "stderr",
     "output_type": "stream",
     "text": [
      "/var/folders/hr/622sc4x53h1457kksyx5ttk80000gn/T/ipykernel_15308/2338413929.py:38: FutureWarning: DataFrame.fillna with 'method' is deprecated and will raise in a future version. Use obj.ffill() or obj.bfill() instead.\n",
      "  chunk = chunk.fillna(method='bfill')\n",
      "/var/folders/hr/622sc4x53h1457kksyx5ttk80000gn/T/ipykernel_15308/2338413929.py:39: FutureWarning: DataFrame.fillna with 'method' is deprecated and will raise in a future version. Use obj.ffill() or obj.bfill() instead.\n",
      "  chunk = chunk.fillna(method='ffill')\n"
     ]
    },
    {
     "name": "stdout",
     "output_type": "stream",
     "text": [
      "written 1000000 ticks to: chunk-115 2022-08-11 20:24:44.415000 2022-09-01 12:14:14.783000\n",
      "min bid before: 0.9865\n",
      "min ask before: 0.9865\n",
      "found 1000000 nans in chunk 116\n",
      "min bid after: 0.9865\n",
      "min ask after: 0.9865\n"
     ]
    },
    {
     "name": "stderr",
     "output_type": "stream",
     "text": [
      "/var/folders/hr/622sc4x53h1457kksyx5ttk80000gn/T/ipykernel_15308/2338413929.py:38: FutureWarning: DataFrame.fillna with 'method' is deprecated and will raise in a future version. Use obj.ffill() or obj.bfill() instead.\n",
      "  chunk = chunk.fillna(method='bfill')\n",
      "/var/folders/hr/622sc4x53h1457kksyx5ttk80000gn/T/ipykernel_15308/2338413929.py:39: FutureWarning: DataFrame.fillna with 'method' is deprecated and will raise in a future version. Use obj.ffill() or obj.bfill() instead.\n",
      "  chunk = chunk.fillna(method='ffill')\n"
     ]
    },
    {
     "name": "stdout",
     "output_type": "stream",
     "text": [
      "written 1000000 ticks to: chunk-116 2022-09-01 12:14:15.246000 2022-09-21 03:55:57.456000\n",
      "min bid before: 0.95362\n",
      "min ask before: 0.95362\n",
      "found 1000000 nans in chunk 117\n",
      "min bid after: 0.95362\n",
      "min ask after: 0.95362\n"
     ]
    },
    {
     "name": "stderr",
     "output_type": "stream",
     "text": [
      "/var/folders/hr/622sc4x53h1457kksyx5ttk80000gn/T/ipykernel_15308/2338413929.py:38: FutureWarning: DataFrame.fillna with 'method' is deprecated and will raise in a future version. Use obj.ffill() or obj.bfill() instead.\n",
      "  chunk = chunk.fillna(method='bfill')\n",
      "/var/folders/hr/622sc4x53h1457kksyx5ttk80000gn/T/ipykernel_15308/2338413929.py:39: FutureWarning: DataFrame.fillna with 'method' is deprecated and will raise in a future version. Use obj.ffill() or obj.bfill() instead.\n",
      "  chunk = chunk.fillna(method='ffill')\n"
     ]
    },
    {
     "name": "stdout",
     "output_type": "stream",
     "text": [
      "written 1000000 ticks to: chunk-117 2022-09-21 03:55:57.771000 2022-10-05 05:15:14.376000\n",
      "min bid before: nan\n",
      "min ask before: 0.96319\n",
      "found 1000000 nans in chunk 118\n",
      "min bid after: 0.96319\n",
      "min ask after: 0.96319\n"
     ]
    },
    {
     "name": "stderr",
     "output_type": "stream",
     "text": [
      "/var/folders/hr/622sc4x53h1457kksyx5ttk80000gn/T/ipykernel_15308/2338413929.py:38: FutureWarning: DataFrame.fillna with 'method' is deprecated and will raise in a future version. Use obj.ffill() or obj.bfill() instead.\n",
      "  chunk = chunk.fillna(method='bfill')\n",
      "/var/folders/hr/622sc4x53h1457kksyx5ttk80000gn/T/ipykernel_15308/2338413929.py:39: FutureWarning: DataFrame.fillna with 'method' is deprecated and will raise in a future version. Use obj.ffill() or obj.bfill() instead.\n",
      "  chunk = chunk.fillna(method='ffill')\n"
     ]
    },
    {
     "name": "stdout",
     "output_type": "stream",
     "text": [
      "written 1000000 ticks to: chunk-118 2022-10-05 05:15:15.507000 2022-10-20 12:23:53.323000\n",
      "min bid before: 0.97051\n",
      "min ask before: 0.97051\n",
      "found 1000000 nans in chunk 119\n",
      "min bid after: 0.97051\n",
      "min ask after: 0.97051\n"
     ]
    },
    {
     "name": "stderr",
     "output_type": "stream",
     "text": [
      "/var/folders/hr/622sc4x53h1457kksyx5ttk80000gn/T/ipykernel_15308/2338413929.py:38: FutureWarning: DataFrame.fillna with 'method' is deprecated and will raise in a future version. Use obj.ffill() or obj.bfill() instead.\n",
      "  chunk = chunk.fillna(method='bfill')\n",
      "/var/folders/hr/622sc4x53h1457kksyx5ttk80000gn/T/ipykernel_15308/2338413929.py:39: FutureWarning: DataFrame.fillna with 'method' is deprecated and will raise in a future version. Use obj.ffill() or obj.bfill() instead.\n",
      "  chunk = chunk.fillna(method='ffill')\n"
     ]
    },
    {
     "name": "stdout",
     "output_type": "stream",
     "text": [
      "written 1000000 ticks to: chunk-119 2022-10-20 12:23:53.654000 2022-11-04 20:03:13.864000\n",
      "min bid before: nan\n",
      "min ask before: 0.99053\n",
      "found 1000000 nans in chunk 120\n",
      "min bid after: 0.99013\n",
      "min ask after: 0.99053\n"
     ]
    },
    {
     "name": "stderr",
     "output_type": "stream",
     "text": [
      "/var/folders/hr/622sc4x53h1457kksyx5ttk80000gn/T/ipykernel_15308/2338413929.py:38: FutureWarning: DataFrame.fillna with 'method' is deprecated and will raise in a future version. Use obj.ffill() or obj.bfill() instead.\n",
      "  chunk = chunk.fillna(method='bfill')\n",
      "/var/folders/hr/622sc4x53h1457kksyx5ttk80000gn/T/ipykernel_15308/2338413929.py:39: FutureWarning: DataFrame.fillna with 'method' is deprecated and will raise in a future version. Use obj.ffill() or obj.bfill() instead.\n",
      "  chunk = chunk.fillna(method='ffill')\n"
     ]
    },
    {
     "name": "stdout",
     "output_type": "stream",
     "text": [
      "written 1000000 ticks to: chunk-120 2022-11-04 20:03:14.746000 2022-11-22 02:23:35.291000\n",
      "min bid before: 1.02459\n",
      "min ask before: nan\n",
      "found 1000000 nans in chunk 121\n",
      "min bid after: 1.02459\n",
      "min ask after: 1.02459\n"
     ]
    },
    {
     "name": "stderr",
     "output_type": "stream",
     "text": [
      "/var/folders/hr/622sc4x53h1457kksyx5ttk80000gn/T/ipykernel_15308/2338413929.py:38: FutureWarning: DataFrame.fillna with 'method' is deprecated and will raise in a future version. Use obj.ffill() or obj.bfill() instead.\n",
      "  chunk = chunk.fillna(method='bfill')\n",
      "/var/folders/hr/622sc4x53h1457kksyx5ttk80000gn/T/ipykernel_15308/2338413929.py:39: FutureWarning: DataFrame.fillna with 'method' is deprecated and will raise in a future version. Use obj.ffill() or obj.bfill() instead.\n",
      "  chunk = chunk.fillna(method='ffill')\n"
     ]
    },
    {
     "name": "stdout",
     "output_type": "stream",
     "text": [
      "written 1000000 ticks to: chunk-121 2022-11-22 02:23:35.687000 2022-12-08 07:37:51.406000\n",
      "min bid before: 1.04897\n",
      "min ask before: 1.04897\n",
      "found 1000000 nans in chunk 122\n",
      "min bid after: 1.04897\n",
      "min ask after: 1.04897\n"
     ]
    },
    {
     "name": "stderr",
     "output_type": "stream",
     "text": [
      "/var/folders/hr/622sc4x53h1457kksyx5ttk80000gn/T/ipykernel_15308/2338413929.py:38: FutureWarning: DataFrame.fillna with 'method' is deprecated and will raise in a future version. Use obj.ffill() or obj.bfill() instead.\n",
      "  chunk = chunk.fillna(method='bfill')\n",
      "/var/folders/hr/622sc4x53h1457kksyx5ttk80000gn/T/ipykernel_15308/2338413929.py:39: FutureWarning: DataFrame.fillna with 'method' is deprecated and will raise in a future version. Use obj.ffill() or obj.bfill() instead.\n",
      "  chunk = chunk.fillna(method='ffill')\n"
     ]
    },
    {
     "name": "stdout",
     "output_type": "stream",
     "text": [
      "written 1000000 ticks to: chunk-122 2022-12-08 07:37:52.434000 2022-12-28 08:10:23.495000\n",
      "min bid before: 1.04835\n",
      "min ask before: 1.04835\n",
      "found 1000000 nans in chunk 123\n",
      "min bid after: 1.04835\n",
      "min ask after: 1.04835\n"
     ]
    },
    {
     "name": "stderr",
     "output_type": "stream",
     "text": [
      "/var/folders/hr/622sc4x53h1457kksyx5ttk80000gn/T/ipykernel_15308/2338413929.py:38: FutureWarning: DataFrame.fillna with 'method' is deprecated and will raise in a future version. Use obj.ffill() or obj.bfill() instead.\n",
      "  chunk = chunk.fillna(method='bfill')\n",
      "/var/folders/hr/622sc4x53h1457kksyx5ttk80000gn/T/ipykernel_15308/2338413929.py:39: FutureWarning: DataFrame.fillna with 'method' is deprecated and will raise in a future version. Use obj.ffill() or obj.bfill() instead.\n",
      "  chunk = chunk.fillna(method='ffill')\n"
     ]
    },
    {
     "name": "stdout",
     "output_type": "stream",
     "text": [
      "written 1000000 ticks to: chunk-123 2022-12-28 08:10:23.803000 2023-01-18 06:14:00.284000\n",
      "min bid before: 1.07096\n",
      "min ask before: 1.07096\n",
      "found 1000000 nans in chunk 124\n",
      "min bid after: 1.07096\n",
      "min ask after: 1.07096\n"
     ]
    },
    {
     "name": "stderr",
     "output_type": "stream",
     "text": [
      "/var/folders/hr/622sc4x53h1457kksyx5ttk80000gn/T/ipykernel_15308/2338413929.py:38: FutureWarning: DataFrame.fillna with 'method' is deprecated and will raise in a future version. Use obj.ffill() or obj.bfill() instead.\n",
      "  chunk = chunk.fillna(method='bfill')\n",
      "/var/folders/hr/622sc4x53h1457kksyx5ttk80000gn/T/ipykernel_15308/2338413929.py:39: FutureWarning: DataFrame.fillna with 'method' is deprecated and will raise in a future version. Use obj.ffill() or obj.bfill() instead.\n",
      "  chunk = chunk.fillna(method='ffill')\n"
     ]
    },
    {
     "name": "stdout",
     "output_type": "stream",
     "text": [
      "written 1000000 ticks to: chunk-124 2023-01-18 06:14:02.440000 2023-02-07 05:57:35.092000\n",
      "min bid before: nan\n",
      "min ask before: 1.05331\n",
      "found 1000000 nans in chunk 125\n",
      "min bid after: 1.05331\n",
      "min ask after: 1.05331\n"
     ]
    },
    {
     "name": "stderr",
     "output_type": "stream",
     "text": [
      "/var/folders/hr/622sc4x53h1457kksyx5ttk80000gn/T/ipykernel_15308/2338413929.py:38: FutureWarning: DataFrame.fillna with 'method' is deprecated and will raise in a future version. Use obj.ffill() or obj.bfill() instead.\n",
      "  chunk = chunk.fillna(method='bfill')\n",
      "/var/folders/hr/622sc4x53h1457kksyx5ttk80000gn/T/ipykernel_15308/2338413929.py:39: FutureWarning: DataFrame.fillna with 'method' is deprecated and will raise in a future version. Use obj.ffill() or obj.bfill() instead.\n",
      "  chunk = chunk.fillna(method='ffill')\n"
     ]
    },
    {
     "name": "stdout",
     "output_type": "stream",
     "text": [
      "written 1000000 ticks to: chunk-125 2023-02-07 05:57:35.941000 2023-02-28 07:21:18.217000\n",
      "min bid before: 1.05161\n",
      "min ask before: 1.05162\n",
      "found 1000000 nans in chunk 126\n",
      "min bid after: 1.05161\n",
      "min ask after: 1.05162\n"
     ]
    },
    {
     "name": "stderr",
     "output_type": "stream",
     "text": [
      "/var/folders/hr/622sc4x53h1457kksyx5ttk80000gn/T/ipykernel_15308/2338413929.py:38: FutureWarning: DataFrame.fillna with 'method' is deprecated and will raise in a future version. Use obj.ffill() or obj.bfill() instead.\n",
      "  chunk = chunk.fillna(method='bfill')\n",
      "/var/folders/hr/622sc4x53h1457kksyx5ttk80000gn/T/ipykernel_15308/2338413929.py:39: FutureWarning: DataFrame.fillna with 'method' is deprecated and will raise in a future version. Use obj.ffill() or obj.bfill() instead.\n",
      "  chunk = chunk.fillna(method='ffill')\n"
     ]
    },
    {
     "name": "stdout",
     "output_type": "stream",
     "text": [
      "written 1000000 ticks to: chunk-126 2023-02-28 07:21:22.080000 2023-03-17 22:56:46.577000\n",
      "min bid before: nan\n",
      "min ask before: 1.06314\n",
      "found 1000000 nans in chunk 127\n",
      "min bid after: 1.06314\n",
      "min ask after: 1.06314\n"
     ]
    },
    {
     "name": "stderr",
     "output_type": "stream",
     "text": [
      "/var/folders/hr/622sc4x53h1457kksyx5ttk80000gn/T/ipykernel_15308/2338413929.py:38: FutureWarning: DataFrame.fillna with 'method' is deprecated and will raise in a future version. Use obj.ffill() or obj.bfill() instead.\n",
      "  chunk = chunk.fillna(method='bfill')\n",
      "/var/folders/hr/622sc4x53h1457kksyx5ttk80000gn/T/ipykernel_15308/2338413929.py:39: FutureWarning: DataFrame.fillna with 'method' is deprecated and will raise in a future version. Use obj.ffill() or obj.bfill() instead.\n",
      "  chunk = chunk.fillna(method='ffill')\n"
     ]
    },
    {
     "name": "stdout",
     "output_type": "stream",
     "text": [
      "written 1000000 ticks to: chunk-127 2023-03-17 22:56:46.979000 2023-04-11 12:53:04.225000\n",
      "min bid before: 1.08963\n",
      "min ask before: nan\n",
      "found 1000000 nans in chunk 128\n",
      "min bid after: 1.08963\n",
      "min ask after: 1.08963\n"
     ]
    },
    {
     "name": "stderr",
     "output_type": "stream",
     "text": [
      "/var/folders/hr/622sc4x53h1457kksyx5ttk80000gn/T/ipykernel_15308/2338413929.py:38: FutureWarning: DataFrame.fillna with 'method' is deprecated and will raise in a future version. Use obj.ffill() or obj.bfill() instead.\n",
      "  chunk = chunk.fillna(method='bfill')\n",
      "/var/folders/hr/622sc4x53h1457kksyx5ttk80000gn/T/ipykernel_15308/2338413929.py:39: FutureWarning: DataFrame.fillna with 'method' is deprecated and will raise in a future version. Use obj.ffill() or obj.bfill() instead.\n",
      "  chunk = chunk.fillna(method='ffill')\n"
     ]
    },
    {
     "name": "stdout",
     "output_type": "stream",
     "text": [
      "written 1000000 ticks to: chunk-128 2023-04-11 12:53:04.587000 2023-05-08 22:59:45.404000\n",
      "min bid before: nan\n",
      "min ask before: 1.06353\n",
      "found 1000000 nans in chunk 129\n",
      "min bid after: 1.06352\n",
      "min ask after: 1.06353\n"
     ]
    },
    {
     "name": "stderr",
     "output_type": "stream",
     "text": [
      "/var/folders/hr/622sc4x53h1457kksyx5ttk80000gn/T/ipykernel_15308/2338413929.py:38: FutureWarning: DataFrame.fillna with 'method' is deprecated and will raise in a future version. Use obj.ffill() or obj.bfill() instead.\n",
      "  chunk = chunk.fillna(method='bfill')\n",
      "/var/folders/hr/622sc4x53h1457kksyx5ttk80000gn/T/ipykernel_15308/2338413929.py:39: FutureWarning: DataFrame.fillna with 'method' is deprecated and will raise in a future version. Use obj.ffill() or obj.bfill() instead.\n",
      "  chunk = chunk.fillna(method='ffill')\n"
     ]
    },
    {
     "name": "stdout",
     "output_type": "stream",
     "text": [
      "written 1000000 ticks to: chunk-129 2023-05-08 22:59:45.740000 2023-06-06 13:46:22.254000\n",
      "min bid before: 1.06671\n",
      "min ask before: 1.06671\n",
      "found 1000000 nans in chunk 130\n",
      "min bid after: 1.06671\n",
      "min ask after: 1.06671\n"
     ]
    },
    {
     "name": "stderr",
     "output_type": "stream",
     "text": [
      "/var/folders/hr/622sc4x53h1457kksyx5ttk80000gn/T/ipykernel_15308/2338413929.py:38: FutureWarning: DataFrame.fillna with 'method' is deprecated and will raise in a future version. Use obj.ffill() or obj.bfill() instead.\n",
      "  chunk = chunk.fillna(method='bfill')\n",
      "/var/folders/hr/622sc4x53h1457kksyx5ttk80000gn/T/ipykernel_15308/2338413929.py:39: FutureWarning: DataFrame.fillna with 'method' is deprecated and will raise in a future version. Use obj.ffill() or obj.bfill() instead.\n",
      "  chunk = chunk.fillna(method='ffill')\n"
     ]
    },
    {
     "name": "stdout",
     "output_type": "stream",
     "text": [
      "written 1000000 ticks to: chunk-130 2023-06-06 13:46:24.905000 2023-07-05 14:26:44.423000\n",
      "min bid before: 1.08338\n",
      "min ask before: 1.08339\n",
      "found 1000000 nans in chunk 131\n",
      "min bid after: 1.08338\n",
      "min ask after: 1.08339\n"
     ]
    },
    {
     "name": "stderr",
     "output_type": "stream",
     "text": [
      "/var/folders/hr/622sc4x53h1457kksyx5ttk80000gn/T/ipykernel_15308/2338413929.py:38: FutureWarning: DataFrame.fillna with 'method' is deprecated and will raise in a future version. Use obj.ffill() or obj.bfill() instead.\n",
      "  chunk = chunk.fillna(method='bfill')\n",
      "/var/folders/hr/622sc4x53h1457kksyx5ttk80000gn/T/ipykernel_15308/2338413929.py:39: FutureWarning: DataFrame.fillna with 'method' is deprecated and will raise in a future version. Use obj.ffill() or obj.bfill() instead.\n",
      "  chunk = chunk.fillna(method='ffill')\n"
     ]
    },
    {
     "name": "stdout",
     "output_type": "stream",
     "text": [
      "written 1000000 ticks to: chunk-131 2023-07-05 14:26:44.742000 2023-07-31 09:46:03.242000\n",
      "min bid before: 1.08025\n",
      "min ask before: 1.08025\n",
      "found 1000000 nans in chunk 132\n",
      "min bid after: 1.08025\n",
      "min ask after: 1.08025\n"
     ]
    },
    {
     "name": "stderr",
     "output_type": "stream",
     "text": [
      "/var/folders/hr/622sc4x53h1457kksyx5ttk80000gn/T/ipykernel_15308/2338413929.py:38: FutureWarning: DataFrame.fillna with 'method' is deprecated and will raise in a future version. Use obj.ffill() or obj.bfill() instead.\n",
      "  chunk = chunk.fillna(method='bfill')\n",
      "/var/folders/hr/622sc4x53h1457kksyx5ttk80000gn/T/ipykernel_15308/2338413929.py:39: FutureWarning: DataFrame.fillna with 'method' is deprecated and will raise in a future version. Use obj.ffill() or obj.bfill() instead.\n",
      "  chunk = chunk.fillna(method='ffill')\n"
     ]
    },
    {
     "name": "stdout",
     "output_type": "stream",
     "text": [
      "written 1000000 ticks to: chunk-132 2023-07-31 09:46:04.358000 2023-08-23 19:15:39.126000\n",
      "min bid before: 1.06288\n",
      "min ask before: 1.06319\n",
      "found 1000000 nans in chunk 133\n",
      "min bid after: 1.06288\n",
      "min ask after: 1.06319\n"
     ]
    },
    {
     "name": "stderr",
     "output_type": "stream",
     "text": [
      "/var/folders/hr/622sc4x53h1457kksyx5ttk80000gn/T/ipykernel_15308/2338413929.py:38: FutureWarning: DataFrame.fillna with 'method' is deprecated and will raise in a future version. Use obj.ffill() or obj.bfill() instead.\n",
      "  chunk = chunk.fillna(method='bfill')\n",
      "/var/folders/hr/622sc4x53h1457kksyx5ttk80000gn/T/ipykernel_15308/2338413929.py:39: FutureWarning: DataFrame.fillna with 'method' is deprecated and will raise in a future version. Use obj.ffill() or obj.bfill() instead.\n",
      "  chunk = chunk.fillna(method='ffill')\n"
     ]
    },
    {
     "name": "stdout",
     "output_type": "stream",
     "text": [
      "written 1000000 ticks to: chunk-133 2023-08-23 19:15:39.440000 2023-09-20 21:41:17.627000\n",
      "min bid before: 1.04483\n",
      "min ask before: nan\n",
      "found 1000000 nans in chunk 134\n",
      "min bid after: 1.04483\n",
      "min ask after: 1.04483\n"
     ]
    },
    {
     "name": "stderr",
     "output_type": "stream",
     "text": [
      "/var/folders/hr/622sc4x53h1457kksyx5ttk80000gn/T/ipykernel_15308/2338413929.py:38: FutureWarning: DataFrame.fillna with 'method' is deprecated and will raise in a future version. Use obj.ffill() or obj.bfill() instead.\n",
      "  chunk = chunk.fillna(method='bfill')\n",
      "/var/folders/hr/622sc4x53h1457kksyx5ttk80000gn/T/ipykernel_15308/2338413929.py:39: FutureWarning: DataFrame.fillna with 'method' is deprecated and will raise in a future version. Use obj.ffill() or obj.bfill() instead.\n",
      "  chunk = chunk.fillna(method='ffill')\n"
     ]
    },
    {
     "name": "stdout",
     "output_type": "stream",
     "text": [
      "written 1000000 ticks to: chunk-134 2023-09-20 21:41:17.927000 2023-10-17 06:52:49.334000\n",
      "min bid before: 1.05171\n",
      "min ask before: nan\n",
      "found 1000000 nans in chunk 135\n",
      "min bid after: 1.05171\n",
      "min ask after: 1.05171\n"
     ]
    },
    {
     "name": "stderr",
     "output_type": "stream",
     "text": [
      "/var/folders/hr/622sc4x53h1457kksyx5ttk80000gn/T/ipykernel_15308/2338413929.py:38: FutureWarning: DataFrame.fillna with 'method' is deprecated and will raise in a future version. Use obj.ffill() or obj.bfill() instead.\n",
      "  chunk = chunk.fillna(method='bfill')\n",
      "/var/folders/hr/622sc4x53h1457kksyx5ttk80000gn/T/ipykernel_15308/2338413929.py:39: FutureWarning: DataFrame.fillna with 'method' is deprecated and will raise in a future version. Use obj.ffill() or obj.bfill() instead.\n",
      "  chunk = chunk.fillna(method='ffill')\n"
     ]
    },
    {
     "name": "stdout",
     "output_type": "stream",
     "text": [
      "written 1000000 ticks to: chunk-135 2023-10-17 06:52:50.076000 2023-11-13 18:03:45.179000\n",
      "min bid before: 1.06853\n",
      "min ask before: 1.06853\n",
      "found 701641 nans in chunk 136\n",
      "min bid after: 1.06853\n",
      "min ask after: 1.06853\n"
     ]
    },
    {
     "name": "stderr",
     "output_type": "stream",
     "text": [
      "/var/folders/hr/622sc4x53h1457kksyx5ttk80000gn/T/ipykernel_15308/2338413929.py:38: FutureWarning: DataFrame.fillna with 'method' is deprecated and will raise in a future version. Use obj.ffill() or obj.bfill() instead.\n",
      "  chunk = chunk.fillna(method='bfill')\n",
      "/var/folders/hr/622sc4x53h1457kksyx5ttk80000gn/T/ipykernel_15308/2338413929.py:39: FutureWarning: DataFrame.fillna with 'method' is deprecated and will raise in a future version. Use obj.ffill() or obj.bfill() instead.\n",
      "  chunk = chunk.fillna(method='ffill')\n"
     ]
    },
    {
     "name": "stdout",
     "output_type": "stream",
     "text": [
      "written 1000000 ticks to: chunk-136 2023-11-13 18:03:49.591000 2023-12-01 23:59:56.437000\n"
     ]
    }
   ],
   "source": [
    "# Process the csv: \n",
    "chunk_size = 10**6 # ticks per parquet file\n",
    "i=0\n",
    "\n",
    "for chunk in pd.read_csv(csv_file, sep='\\t', chunksize=chunk_size):\n",
    "    chunk['time'] = pd.to_datetime(chunk['<DATE>'] + ' ' +  chunk['<TIME>'])\n",
    "    chunk.set_index('time', inplace=True)\n",
    "    new_columns = ['date', 'time', 'bid', 'ask', 'last', 'volume', 'flags']\n",
    "    chunk = chunk.rename(columns=dict(zip(chunk.columns, new_columns)))\n",
    "    chunk: pd.DataFrame = chunk.drop(['date','time'], axis=1)\n",
    "    \n",
    "    # process\n",
    "    if i == 0:\n",
    "        catalog.write_data([instrument])\n",
    "    \n",
    "    # metadata\n",
    "    # first timestamp\n",
    "    ts_start = chunk.index[0]\n",
    "    # last timestamp\n",
    "    ts_end = chunk.index[-1]\n",
    "    \n",
    "    # i got some weird ouliers in the resulting df and want to log\n",
    "    # if they are from the filling or from the data\n",
    "    \n",
    "    # log nans indexes and print values after the fill\n",
    "    nans = chunk[chunk.isna().any(axis=1)]\n",
    "    \n",
    "    min_bid_before = min(chunk['bid'].values)\n",
    "    min_ask_before = min(chunk['ask'].values)\n",
    "    \n",
    "    print(f\"min bid before: {min_bid_before}\")\n",
    "    print(f\"min ask before: {min_ask_before}\")\n",
    "    \n",
    "    if len(nans) > 0:\n",
    "        print(f\"found {len(nans)} nans in chunk {i}\")\n",
    "    \n",
    "    # important! fill the nans with previous values\n",
    "    chunk = chunk.fillna(method='bfill')\n",
    "    chunk = chunk.fillna(method='ffill')\n",
    "    # many nans cause mid price to be half of actual price because some nans remain and get to be filled with 0\n",
    "    # fill nans that still remain with following values\n",
    "    \n",
    "    min_bid_after = min(chunk['bid'].values)\n",
    "    min_ask_after = min(chunk['ask'].values)\n",
    "    \n",
    "    print(f\"min bid after: {min_bid_after}\")\n",
    "    print(f\"min ask after: {min_ask_after}\")\n",
    "    \n",
    "    \n",
    "    # log min value of ƒilled nans\n",
    "    min(nans['bid'].values)\n",
    "    min(nans['ask'].values)\n",
    "    \n",
    "    \n",
    "    ticks: list[QuoteTick] =  wrangler.process(chunk)\n",
    "    catalog.write_data(ticks, basename_template=f\"chunk-{i}\")\n",
    "    print(f\"written {chunk_size} ticks to: chunk-{i} {ts_start} {ts_end}\")\n",
    "    i = i+1\n"
   ]
  },
  {
   "cell_type": "code",
   "execution_count": 24,
   "id": "a81673dbdbe3074a",
   "metadata": {
    "ExecuteTime": {
     "end_time": "2023-12-04T19:46:05.293150Z",
     "start_time": "2023-12-04T19:46:05.282804Z"
    },
    "collapsed": false
   },
   "outputs": [],
   "source": [
    "# from last big import of EUR/USD\n",
    "# written 1000000 ticks to: chunk-136 2023-11-13 18:03:49.591000 2023-12-01 23:59:56.437000"
   ]
  },
  {
   "cell_type": "code",
   "execution_count": 25,
   "id": "37a9a1a1e9d4e269",
   "metadata": {
    "ExecuteTime": {
     "end_time": "2023-12-04T19:46:05.663835Z",
     "start_time": "2023-12-04T19:46:05.624370Z"
    },
    "collapsed": false
   },
   "outputs": [
    {
     "data": {
      "text/plain": [
       "Timestamp('2018-08-22 03:05:25.665000')"
      ]
     },
     "execution_count": 25,
     "metadata": {},
     "output_type": "execute_result"
    }
   ],
   "source": [
    "\n",
    "pd.Timestamp(1534907125665000000)"
   ]
  },
  {
   "cell_type": "code",
   "execution_count": 26,
   "id": "cf05b4345378eab3",
   "metadata": {
    "ExecuteTime": {
     "end_time": "2023-12-04T19:46:05.989247Z",
     "start_time": "2023-12-04T19:46:05.963632Z"
    },
    "collapsed": false
   },
   "outputs": [
    {
     "data": {
      "text/plain": [
       "Timestamp('2018-12-15 21:19:42.211000')"
      ]
     },
     "execution_count": 26,
     "metadata": {},
     "output_type": "execute_result"
    }
   ],
   "source": [
    "pd.Timestamp(1544908782211000000)"
   ]
  },
  {
   "cell_type": "code",
   "execution_count": 27,
   "id": "41f4afb53bfd7952",
   "metadata": {
    "ExecuteTime": {
     "end_time": "2023-12-04T19:46:06.162749Z",
     "start_time": "2023-12-04T19:46:06.113328Z"
    },
    "collapsed": false
   },
   "outputs": [],
   "source": [
    "ticks = catalog.quote_ticks(instrument_ids=[instrument.symbol.value], start = pd.Timestamp(1534907125665000000), end=pd.Timestamp(1534909125665000000))"
   ]
  },
  {
   "cell_type": "code",
   "execution_count": 28,
   "id": "24583c769a6aadab",
   "metadata": {
    "ExecuteTime": {
     "end_time": "2023-12-04T19:46:06.538149Z",
     "start_time": "2023-12-04T19:46:06.261927Z"
    },
    "collapsed": false
   },
   "outputs": [],
   "source": [
    "import matplotlib.pyplot as plt"
   ]
  },
  {
   "cell_type": "code",
   "execution_count": 29,
   "id": "9f3dfd2b8347156a",
   "metadata": {
    "ExecuteTime": {
     "end_time": "2023-12-04T19:46:12.610992Z",
     "start_time": "2023-12-04T19:46:12.569477Z"
    },
    "collapsed": false
   },
   "outputs": [
    {
     "name": "stderr",
     "output_type": "stream",
     "text": [
      "/var/folders/hr/622sc4x53h1457kksyx5ttk80000gn/T/ipykernel_28607/1066764115.py:5: FutureWarning: Series.fillna with 'method' is deprecated and will raise in a future version. Use obj.ffill() or obj.bfill() instead.\n",
      "  asks = pd.Series(asks).fillna(method='ffill').values\n"
     ]
    }
   ],
   "source": [
    "asks = [t.ask_price for t in ticks]\n",
    "asks = np.array(asks)\n",
    "asks[asks == 0] = np.nan\n",
    "# fill nans with previous value\n",
    "asks = pd.Series(asks).fillna(method='ffill').values\n",
    "\n",
    "ts = [t.ts_event for t in ticks]"
   ]
  },
  {
   "cell_type": "code",
   "execution_count": 30,
   "id": "7c8635b4310962ec",
   "metadata": {
    "ExecuteTime": {
     "end_time": "2023-12-04T19:46:12.700515Z",
     "start_time": "2023-12-04T19:46:12.657540Z"
    },
    "collapsed": false
   },
   "outputs": [],
   "source": [
    "# nanos to timestamp\n",
    "ts = np.array(ts)"
   ]
  },
  {
   "cell_type": "code",
   "execution_count": 31,
   "id": "6a3becd7ab10f9eb",
   "metadata": {
    "ExecuteTime": {
     "end_time": "2023-12-04T19:46:12.784077Z",
     "start_time": "2023-12-04T19:46:12.761448Z"
    },
    "collapsed": false
   },
   "outputs": [],
   "source": [
    "ts = pd.to_datetime(ts)"
   ]
  },
  {
   "cell_type": "code",
   "execution_count": 32,
   "id": "e2384acc66a37d38",
   "metadata": {
    "ExecuteTime": {
     "end_time": "2023-12-04T19:46:13.390795Z",
     "start_time": "2023-12-04T19:46:13.220637Z"
    },
    "collapsed": false
   },
   "outputs": [
    {
     "data": {
      "image/png": "[encoded data removed]",
      "text/plain": [
       "<Figure size 640x480 with 1 Axes>"
      ]
     },
     "metadata": {},
     "output_type": "display_data"
    }
   ],
   "source": [
    "plt.plot(ts, asks, label='ask' )\n",
    "# plt.plot(bids, x, label='bid')\n",
    "plt.legend()\n",
    "plt.show()"
   ]
  },
  {
   "cell_type": "code",
   "execution_count": 66,
   "id": "6aa1f633432c5855",
   "metadata": {
    "ExecuteTime": {
     "end_time": "2023-12-04T17:50:23.603145Z",
     "start_time": "2023-12-04T17:50:23.463184Z"
    },
    "collapsed": false
   },
   "outputs": [
    {
     "data": {
      "text/plain": [
       "DatetimeIndex(['2018-08-22 03:05:25.665000', '2018-08-22 03:05:45.097000',\n",
       "               '2018-08-22 03:05:49.701000', '2018-08-22 03:05:54.514000',\n",
       "               '2018-08-22 03:06:00.722000', '2018-08-22 03:06:05.330000',\n",
       "               '2018-08-22 03:06:05.930000', '2018-08-22 03:06:08.136000',\n",
       "               '2018-08-22 03:06:08.338000', '2018-08-22 03:06:08.543000',\n",
       "               ...\n",
       "               '2018-08-22 03:38:05.545000', '2018-08-22 03:38:05.744000',\n",
       "               '2018-08-22 03:38:20.567000', '2018-08-22 03:38:20.771000',\n",
       "               '2018-08-22 03:38:24.780000', '2018-08-22 03:38:27.785000',\n",
       "               '2018-08-22 03:38:33.593000', '2018-08-22 03:38:33.995000',\n",
       "               '2018-08-22 03:38:34.199000', '2018-08-22 03:38:42.299000'],\n",
       "              dtype='datetime64[ns]', length=1130, freq=None)"
      ]
     },
     "execution_count": 66,
     "metadata": {},
     "output_type": "execute_result"
    }
   ],
   "source": []
  },
  {
   "cell_type": "code",
   "execution_count": 67,
   "id": "cfa79bcd9a66e135",
   "metadata": {
    "ExecuteTime": {
     "end_time": "2023-12-04T17:50:26.619274Z",
     "start_time": "2023-12-04T17:50:26.574123Z"
    },
    "collapsed": false
   },
   "outputs": [
    {
     "data": {
      "text/plain": [
       "Price('1.15829')"
      ]
     },
     "execution_count": 67,
     "metadata": {},
     "output_type": "execute_result"
    }
   ],
   "source": []
  },
  {
   "cell_type": "code",
   "execution_count": null,
   "id": "b66ffae3870ba017",
   "metadata": {
    "collapsed": false
   },
   "outputs": [],
   "source": []
  }
 ],
 "metadata": {
  "kernelspec": {
   "display_name": "base",
   "language": "python",
   "name": "python3"
  },
  "language_info": {
   "codemirror_mode": {
    "name": "ipython",
    "version": 3
   },
   "file_extension": ".py",
   "mimetype": "text/x-python",
   "name": "python",
   "nbconvert_exporter": "python",
   "pygments_lexer": "ipython3",
   "version": "3.12.4"
  }
 },
 "nbformat": 4,
 "nbformat_minor": 5
}
