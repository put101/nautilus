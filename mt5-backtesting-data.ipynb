{
 "cells": [
  {
   "cell_type": "code",
   "execution_count": 1,
   "outputs": [],
   "source": [
    "%load_ext autoreload\n",
    "%autoreload 2"
   ],
   "metadata": {
    "collapsed": false,
    "ExecuteTime": {
     "end_time": "2023-11-29T23:14:26.862673Z",
     "start_time": "2023-11-29T23:14:26.849403Z"
    }
   },
   "id": "59b39fb599655ef8"
  },
  {
   "cell_type": "code",
   "execution_count": 66,
   "id": "initial_id",
   "metadata": {
    "collapsed": true,
    "ExecuteTime": {
     "end_time": "2023-11-27T00:48:31.557958500Z",
     "start_time": "2023-11-27T00:48:31.466441400Z"
    }
   },
   "outputs": [
    {
     "data": {
      "text/plain": "<module 'put101' from 'C:\\\\Users\\\\puche\\\\code\\\\nautilus\\\\put101\\\\__init__.py'>"
     },
     "execution_count": 66,
     "metadata": {},
     "output_type": "execute_result"
    }
   ],
   "source": [
    "import put101 as p\n",
    "import dotenv\n",
    "import os\n",
    "import MetaTrader5 as mt5\n",
    "from MetaTrader5 import AccountInfo, TerminalInfo\n",
    "from datetime import datetime\n",
    "import logging\n",
    "\n",
    "import importlib\n",
    "importlib.reload(mt5)\n",
    "importlib.reload(p)\n",
    "\n"
   ]
  },
  {
   "cell_type": "markdown",
   "source": [
    "# 1. Connect to MT5"
   ],
   "metadata": {
    "collapsed": false
   },
   "id": "1a217fa34cf47d2f"
  },
  {
   "cell_type": "code",
   "execution_count": 66,
   "outputs": [],
   "source": [],
   "metadata": {
    "collapsed": false,
    "ExecuteTime": {
     "end_time": "2023-11-27T00:48:32.498965400Z",
     "start_time": "2023-11-27T00:48:32.483970700Z"
    }
   },
   "id": "ac0232fae8750beb"
  },
  {
   "cell_type": "code",
   "execution_count": 67,
   "outputs": [],
   "source": [
    "\n",
    "# load data from the MetaTrader 5 terminal into parquet files for further backtesting\n",
    "if not dotenv.load_dotenv():\n",
    "    logging.log(logging.INFO, \"No .env file found\")\n",
    "\n",
    "MT5_SERVER = os.environ[\"MT5_SERVER\"]\n",
    "MT5_LOGIN = os.environ[\"MT5_LOGIN\"]\n",
    "MT5_PASSWORD = os.environ[\"MT5_PASSWORD\"]\n",
    "DATA_PATH = os.environ[\"DATA_PATH\"]\n",
    "CATALOG_PATH = os.environ[\"CATALOG_PATH\"]\n",
    "\n",
    "loader_config = p.MTLoginConfig(server=MT5_SERVER, login=MT5_LOGIN, password=MT5_PASSWORD)\n",
    "\n",
    "venue_EIGHTCAP = \"SIM\"\n",
    "loader = p.MT5Loader(data_path=DATA_PATH, catalog_path=CATALOG_PATH, config=loader_config, venue=venue_EIGHTCAP)\n",
    "\n"
   ],
   "metadata": {
    "collapsed": false,
    "ExecuteTime": {
     "end_time": "2023-11-27T00:48:32.910261Z",
     "start_time": "2023-11-27T00:48:32.809665Z"
    }
   },
   "id": "53c97e9f0b4089ab"
  },
  {
   "cell_type": "code",
   "execution_count": 68,
   "outputs": [
    {
     "data": {
      "text/plain": "True"
     },
     "execution_count": 68,
     "metadata": {},
     "output_type": "execute_result"
    }
   ],
   "source": [
    "loader.init()"
   ],
   "metadata": {
    "collapsed": false,
    "ExecuteTime": {
     "end_time": "2023-11-27T00:48:33.535433100Z",
     "start_time": "2023-11-27T00:48:33.433915200Z"
    }
   },
   "id": "5db8648c0d478c75"
  },
  {
   "cell_type": "code",
   "execution_count": 77,
   "outputs": [
    {
     "name": "stdout",
     "output_type": "stream",
     "text": [
      "INFO: Deleting instrument at: catalog\\EURUSD.SIM-15M-LAST-EXTERNAL\n",
      "ERROR: [WinError 2] Das System kann die angegebene Datei nicht finden: 'catalog\\\\EURUSD.SIM-15M-LAST-EXTERNAL'\n",
      "INFO: Loaded EURUSD.SIM with bartype 15-MINUTE-MID into catalog\n",
      "INFO: Deleting instrument at: catalog\\EURUSD.SIM-5M-LAST-EXTERNAL\n",
      "ERROR: [WinError 2] Das System kann die angegebene Datei nicht finden: 'catalog\\\\EURUSD.SIM-5M-LAST-EXTERNAL'\n",
      "INFO: Loaded EURUSD.SIM with bartype 5-MINUTE-MID into catalog\n",
      "INFO: Deleting instrument at: catalog\\EURUSD.SIM-3M-LAST-EXTERNAL\n",
      "ERROR: [WinError 2] Das System kann die angegebene Datei nicht finden: 'catalog\\\\EURUSD.SIM-3M-LAST-EXTERNAL'\n",
      "INFO: Loaded EURUSD.SIM with bartype 3-MINUTE-MID into catalog\n",
      "INFO: Deleting instrument at: catalog\\EURUSD.SIM-16385M-LAST-EXTERNAL\n",
      "ERROR: [WinError 2] Das System kann die angegebene Datei nicht finden: 'catalog\\\\EURUSD.SIM-16385M-LAST-EXTERNAL'\n",
      "INFO: Loaded EURUSD.SIM with bartype 16385-MINUTE-MID into catalog\n",
      "INFO: Deleting instrument at: catalog\\EURUSD.SIM-16388M-LAST-EXTERNAL\n",
      "ERROR: [WinError 2] Das System kann die angegebene Datei nicht finden: 'catalog\\\\EURUSD.SIM-16388M-LAST-EXTERNAL'\n",
      "INFO: Loaded EURUSD.SIM with bartype 16388-MINUTE-MID into catalog\n",
      "INFO: Deleting instrument at: catalog\\EURUSD.SIM-16408M-LAST-EXTERNAL\n",
      "ERROR: [WinError 2] Das System kann die angegebene Datei nicht finden: 'catalog\\\\EURUSD.SIM-16408M-LAST-EXTERNAL'\n",
      "INFO: Loaded EURUSD.SIM with bartype 16408-MINUTE-MID into catalog\n",
      "INFO: Deleting instrument at: catalog\\GBPUSD.SIM-15M-LAST-EXTERNAL\n",
      "ERROR: [WinError 2] Das System kann die angegebene Datei nicht finden: 'catalog\\\\GBPUSD.SIM-15M-LAST-EXTERNAL'\n",
      "INFO: Loaded GBPUSD.SIM with bartype 15-MINUTE-MID into catalog\n",
      "INFO: Deleting instrument at: catalog\\GBPUSD.SIM-5M-LAST-EXTERNAL\n",
      "ERROR: [WinError 2] Das System kann die angegebene Datei nicht finden: 'catalog\\\\GBPUSD.SIM-5M-LAST-EXTERNAL'\n",
      "INFO: Loaded GBPUSD.SIM with bartype 5-MINUTE-MID into catalog\n",
      "INFO: Deleting instrument at: catalog\\GBPUSD.SIM-3M-LAST-EXTERNAL\n",
      "ERROR: [WinError 2] Das System kann die angegebene Datei nicht finden: 'catalog\\\\GBPUSD.SIM-3M-LAST-EXTERNAL'\n",
      "INFO: Loaded GBPUSD.SIM with bartype 3-MINUTE-MID into catalog\n",
      "INFO: Deleting instrument at: catalog\\GBPUSD.SIM-16385M-LAST-EXTERNAL\n",
      "ERROR: [WinError 2] Das System kann die angegebene Datei nicht finden: 'catalog\\\\GBPUSD.SIM-16385M-LAST-EXTERNAL'\n",
      "INFO: Loaded GBPUSD.SIM with bartype 16385-MINUTE-MID into catalog\n",
      "INFO: Deleting instrument at: catalog\\GBPUSD.SIM-16388M-LAST-EXTERNAL\n",
      "ERROR: [WinError 2] Das System kann die angegebene Datei nicht finden: 'catalog\\\\GBPUSD.SIM-16388M-LAST-EXTERNAL'\n",
      "INFO: Loaded GBPUSD.SIM with bartype 16388-MINUTE-MID into catalog\n",
      "INFO: Deleting instrument at: catalog\\GBPUSD.SIM-16408M-LAST-EXTERNAL\n",
      "ERROR: [WinError 2] Das System kann die angegebene Datei nicht finden: 'catalog\\\\GBPUSD.SIM-16408M-LAST-EXTERNAL'\n",
      "INFO: Loaded GBPUSD.SIM with bartype 16408-MINUTE-MID into catalog\n",
      "INFO: Deleting instrument at: catalog\\USDJPY.SIM-15M-LAST-EXTERNAL\n",
      "ERROR: [WinError 2] Das System kann die angegebene Datei nicht finden: 'catalog\\\\USDJPY.SIM-15M-LAST-EXTERNAL'\n",
      "INFO: Loaded USDJPY.SIM with bartype 15-MINUTE-MID into catalog\n",
      "INFO: Deleting instrument at: catalog\\USDJPY.SIM-5M-LAST-EXTERNAL\n",
      "ERROR: [WinError 2] Das System kann die angegebene Datei nicht finden: 'catalog\\\\USDJPY.SIM-5M-LAST-EXTERNAL'\n",
      "INFO: Loaded USDJPY.SIM with bartype 5-MINUTE-MID into catalog\n",
      "INFO: Deleting instrument at: catalog\\USDJPY.SIM-3M-LAST-EXTERNAL\n",
      "ERROR: [WinError 2] Das System kann die angegebene Datei nicht finden: 'catalog\\\\USDJPY.SIM-3M-LAST-EXTERNAL'\n",
      "INFO: Loaded USDJPY.SIM with bartype 3-MINUTE-MID into catalog\n",
      "INFO: Deleting instrument at: catalog\\USDJPY.SIM-16385M-LAST-EXTERNAL\n",
      "ERROR: [WinError 2] Das System kann die angegebene Datei nicht finden: 'catalog\\\\USDJPY.SIM-16385M-LAST-EXTERNAL'\n",
      "INFO: Loaded USDJPY.SIM with bartype 16385-MINUTE-MID into catalog\n",
      "INFO: Deleting instrument at: catalog\\USDJPY.SIM-16388M-LAST-EXTERNAL\n",
      "ERROR: [WinError 2] Das System kann die angegebene Datei nicht finden: 'catalog\\\\USDJPY.SIM-16388M-LAST-EXTERNAL'\n",
      "INFO: Loaded USDJPY.SIM with bartype 16388-MINUTE-MID into catalog\n",
      "INFO: Deleting instrument at: catalog\\USDJPY.SIM-16408M-LAST-EXTERNAL\n",
      "ERROR: [WinError 2] Das System kann die angegebene Datei nicht finden: 'catalog\\\\USDJPY.SIM-16408M-LAST-EXTERNAL'\n",
      "INFO: Loaded USDJPY.SIM with bartype 16408-MINUTE-MID into catalog\n"
     ]
    }
   ],
   "source": [
    "from nautilus_trader.model.identifiers import InstrumentId\n",
    "from nautilus_trader.model.data import BarType, BarSpecification, BarAggregation\n",
    "# load a couple of symbols into the catalog using the loader\n",
    "symbols = ['EURUSD', 'GBPUSD', 'USDJPY']\n",
    "timeframes = [mt5.TIMEFRAME_M15, mt5.TIMEFRAME_M5, mt5.TIMEFRAME_M3, mt5.TIMEFRAME_H1, mt5.TIMEFRAME_H4, mt5.TIMEFRAME_D1]\n",
    "start_date = datetime(2000, 1, 1)\n",
    "\n",
    "\n",
    "\n",
    "\n",
    "for symbol in symbols:\n",
    "    for timeframe in timeframes:\n",
    "        delete_load(symbol=symbol, timeframe=timeframe, start_date=start_date)\n",
    "\n"
   ],
   "metadata": {
    "collapsed": false,
    "ExecuteTime": {
     "end_time": "2023-11-28T10:57:08.934917Z",
     "start_time": "2023-11-28T10:53:21.882926600Z"
    }
   },
   "id": "f4a20bae0af98d6c"
  },
  {
   "cell_type": "code",
   "execution_count": 3,
   "outputs": [],
   "source": [
    "def delete_load(symbol, timeframe, start_date):\n",
    "    loader.delete_catalog_parquet_files(symbol=symbol, timeframe=timeframe)\n",
    "    loader.load(symbol=symbol, timeframe=timeframe, start=start_date)\n",
    "    bar_type = loader.get_bar_type(symbol=symbol, timeframe=timeframe)\n",
    "    instrument = loader.get_instrument_FOREX(symbol=symbol)\n",
    "    print(f\"INFO: Loaded {instrument.id} with bartype {bar_type.spec} into catalog\")"
   ],
   "metadata": {
    "collapsed": false,
    "ExecuteTime": {
     "end_time": "2023-11-29T23:17:34.922135Z",
     "start_time": "2023-11-29T23:17:34.900967Z"
    }
   },
   "id": "dbbd91d11fac5687"
  },
  {
   "cell_type": "code",
   "execution_count": 4,
   "outputs": [
    {
     "ename": "NameError",
     "evalue": "name 'datetime' is not defined",
     "output_type": "error",
     "traceback": [
      "\u001B[0;31m---------------------------------------------------------------------------\u001B[0m",
      "\u001B[0;31mNameError\u001B[0m                                 Traceback (most recent call last)",
      "Cell \u001B[0;32mIn[4], line 1\u001B[0m\n\u001B[0;32m----> 1\u001B[0m delete_load(\u001B[38;5;124m\"\u001B[39m\u001B[38;5;124mEURUSD\u001B[39m\u001B[38;5;124m\"\u001B[39m, \u001B[38;5;241m15\u001B[39m, \u001B[43mdatetime\u001B[49m(\u001B[38;5;241m2000\u001B[39m, \u001B[38;5;241m1\u001B[39m, \u001B[38;5;241m3\u001B[39m))\n",
      "\u001B[0;31mNameError\u001B[0m: name 'datetime' is not defined"
     ]
    }
   ],
   "source": [
    "delete_load(\"EURUSD\", 15, datetime(2000, 1, 3))"
   ],
   "metadata": {
    "collapsed": false,
    "ExecuteTime": {
     "end_time": "2023-11-29T23:17:43.810036Z",
     "start_time": "2023-11-29T23:17:43.769539Z"
    }
   },
   "id": "56301f7288dc35a4"
  },
  {
   "cell_type": "code",
   "execution_count": 75,
   "outputs": [
    {
     "name": "stdout",
     "output_type": "stream",
     "text": [
      "INFO: Loaded EURUSD.SIM with bartype 16385-MINUTE-MID into catalog\n"
     ]
    }
   ],
   "source": [],
   "metadata": {
    "collapsed": false,
    "ExecuteTime": {
     "end_time": "2023-11-27T01:00:41.816088700Z",
     "start_time": "2023-11-27T01:00:41.724570300Z"
    }
   },
   "id": "27ddd0552d466b9f"
  },
  {
   "cell_type": "code",
   "execution_count": null,
   "outputs": [],
   "source": [
    "    \n"
   ],
   "metadata": {
    "collapsed": false
   },
   "id": "8543b7488146c38"
  }
 ],
 "metadata": {
  "kernelspec": {
   "display_name": "Python 3",
   "language": "python",
   "name": "python3"
  },
  "language_info": {
   "codemirror_mode": {
    "name": "ipython",
    "version": 2
   },
   "file_extension": ".py",
   "mimetype": "text/x-python",
   "name": "python",
   "nbconvert_exporter": "python",
   "pygments_lexer": "ipython2",
   "version": "2.7.6"
  }
 },
 "nbformat": 4,
 "nbformat_minor": 5
}
