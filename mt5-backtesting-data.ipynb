{
 "cells": [
  {
   "cell_type": "code",
   "execution_count": 118,
   "outputs": [
    {
     "name": "stdout",
     "output_type": "stream",
     "text": [
      "The autoreload extension is already loaded. To reload it, use:\n",
      "  %reload_ext autoreload\n"
     ]
    }
   ],
   "source": [
    "%load_ext autoreload\n",
    "%autoreload 2"
   ],
   "metadata": {
    "collapsed": false,
    "ExecuteTime": {
     "end_time": "2023-12-02T01:04:04.986652100Z",
     "start_time": "2023-12-02T01:04:04.914194400Z"
    }
   },
   "id": "59b39fb599655ef8"
  },
  {
   "cell_type": "code",
   "execution_count": 119,
   "id": "initial_id",
   "metadata": {
    "collapsed": true,
    "ExecuteTime": {
     "end_time": "2023-12-02T01:04:05.361048500Z",
     "start_time": "2023-12-02T01:04:05.287265400Z"
    }
   },
   "outputs": [
    {
     "data": {
      "text/plain": "<module 'put101' from 'C:\\\\Users\\\\puche\\\\code\\\\nautilus\\\\put101\\\\__init__.py'>"
     },
     "execution_count": 119,
     "metadata": {},
     "output_type": "execute_result"
    }
   ],
   "source": [
    "import put101 as p\n",
    "import dotenv\n",
    "import os\n",
    "import MetaTrader5 as mt5\n",
    "from MetaTrader5 import AccountInfo, TerminalInfo\n",
    "from datetime import datetime\n",
    "import data_utils\n",
    "import logging\n",
    "\n",
    "import importlib\n",
    "importlib.reload(mt5)\n",
    "importlib.reload(p)\n",
    "\n"
   ]
  },
  {
   "cell_type": "markdown",
   "source": [
    "# 1. Connect to MT5"
   ],
   "metadata": {
    "collapsed": false
   },
   "id": "1a217fa34cf47d2f"
  },
  {
   "cell_type": "code",
   "execution_count": 120,
   "outputs": [],
   "source": [
    "\n",
    "# load data from the MetaTrader 5 terminal into parquet files for further backtesting\n",
    "if not dotenv.load_dotenv():\n",
    "    logging.log(logging.INFO, \"No .env file found\")\n",
    "\n",
    "MT5_SERVER = os.environ[\"MT5_SERVER\"]\n",
    "MT5_LOGIN = os.environ[\"MT5_LOGIN\"]\n",
    "MT5_PASSWORD = os.environ[\"MT5_PASSWORD\"]\n",
    "DATA_PATH = os.environ[\"DATA_PATH\"]\n",
    "CATALOG_PATH = os.environ[\"CATALOG_PATH\"]\n",
    "\n",
    "loader_config = p.MTLoginConfig(server=MT5_SERVER, login=MT5_LOGIN, password=MT5_PASSWORD)\n",
    "\n",
    "venue_EIGHTCAP = \"SIM_EIGHTCAP\"\n",
    "loader = p.MT5Loader(data_path=DATA_PATH, catalog_path=CATALOG_PATH, config=loader_config, venue=venue_EIGHTCAP)\n",
    "\n"
   ],
   "metadata": {
    "collapsed": false,
    "ExecuteTime": {
     "end_time": "2023-12-02T01:04:07.786450900Z",
     "start_time": "2023-12-02T01:04:07.722538600Z"
    }
   },
   "id": "53c97e9f0b4089ab"
  },
  {
   "cell_type": "code",
   "execution_count": 121,
   "outputs": [
    {
     "data": {
      "text/plain": "True"
     },
     "execution_count": 121,
     "metadata": {},
     "output_type": "execute_result"
    }
   ],
   "source": [
    "loader.init()"
   ],
   "metadata": {
    "collapsed": false,
    "ExecuteTime": {
     "end_time": "2023-12-02T01:04:08.649408600Z",
     "start_time": "2023-12-02T01:04:08.558598500Z"
    }
   },
   "id": "5db8648c0d478c75"
  },
  {
   "cell_type": "markdown",
   "source": [
    "# Symbol Parameters"
   ],
   "metadata": {
    "collapsed": false
   },
   "id": "8c12c589e1282e88"
  },
  {
   "cell_type": "code",
   "execution_count": 126,
   "outputs": [],
   "source": [
    "from nautilus_trader.model.identifiers import InstrumentId\n",
    "from nautilus_trader.model.data import BarType, BarSpecification, BarAggregation\n",
    "# load a couple of symbols into the catalog using the loader\n",
    "symbol_broker = 'EURUSD.i'\n",
    "symbol_clean = 'EURUSD'\n",
    "timeframe = mt5.TIMEFRAME_M1\n",
    "start_date = datetime(1971, 1, 1)\n",
    "end_date = datetime(2023,12,2)\n",
    "\n",
    "\n",
    "# variables dependent on parameters\n",
    "if symbol_clean:\n",
    "    symbol = symbol_clean\n",
    "else:\n",
    "    symbol = symbol_broker"
   ],
   "metadata": {
    "collapsed": false,
    "ExecuteTime": {
     "end_time": "2023-12-02T01:06:23.059422800Z",
     "start_time": "2023-12-02T01:06:22.982869200Z"
    }
   },
   "id": "f4a20bae0af98d6c"
  },
  {
   "cell_type": "markdown",
   "source": [
    "# Delete the symbol from the catalog"
   ],
   "metadata": {
    "collapsed": false
   },
   "id": "ba871caa92f6465a"
  },
  {
   "cell_type": "code",
   "execution_count": 125,
   "outputs": [
    {
     "name": "stdout",
     "output_type": "stream",
     "text": [
      "EURUSD.SIM_EIGHTCAP-1-MINUTE-LAST-EXTERNAL\n",
      "[WinError 3] Das System kann den angegebenen Pfad nicht finden: 'catalog\\\\data\\\\bar\\\\EURUSD.SIM_EIGHTCAP-1-MINUTE-LAST-EXTERNAL'\n",
      "INFO: Could not delete\n"
     ]
    }
   ],
   "source": [
    "# delete the symbols data from the catalog\n",
    "bar_type = loader.get_bar_type(symbol, timeframe)\n",
    "importlib.reload(data_utils)\n",
    "print(bar_type)\n",
    "\n",
    "if not data_utils.delete_parquet_data(bar_type, CATALOG_PATH):\n",
    "    print(f\"INFO: Could not delete\")\n",
    "else:\n",
    "    print(f\"INFO: Deleted data for {bar_type}\")\n",
    "    \n",
    "    "
   ],
   "metadata": {
    "collapsed": false,
    "ExecuteTime": {
     "end_time": "2023-12-02T01:06:18.969303600Z",
     "start_time": "2023-12-02T01:06:17.598871300Z"
    }
   },
   "id": "a7facef94b77cf82"
  },
  {
   "cell_type": "markdown",
   "source": [
    "# Load the symbol from mt5 to csv"
   ],
   "metadata": {
    "collapsed": false
   },
   "id": "4a31dfa35f608862"
  },
  {
   "cell_type": "code",
   "execution_count": 127,
   "outputs": [
    {
     "name": "stdout",
     "output_type": "stream",
     "text": [
      "INFO: Saved rates to csv: data\\EURUSD.i_1-MINUTE_31532400_1701471600.csv\n"
     ]
    },
    {
     "data": {
      "text/plain": "True"
     },
     "execution_count": 127,
     "metadata": {},
     "output_type": "execute_result"
    }
   ],
   "source": [
    "loader.load_symbol_rates_to_csv(symbol_broker, symbol_clean, timeframe, start_date, end_date, DATA_PATH)"
   ],
   "metadata": {
    "collapsed": false,
    "ExecuteTime": {
     "end_time": "2023-12-02T01:06:26.110448500Z",
     "start_time": "2023-12-02T01:06:25.356622400Z"
    }
   },
   "id": "dbbd91d11fac5687"
  },
  {
   "cell_type": "markdown",
   "source": [
    "# Load the symbol from csv to parquet catalog"
   ],
   "metadata": {
    "collapsed": false
   },
   "id": "cd0904a5c89bbcf4"
  },
  {
   "cell_type": "code",
   "execution_count": 128,
   "outputs": [
    {
     "data": {
      "text/plain": "True"
     },
     "execution_count": 128,
     "metadata": {},
     "output_type": "execute_result"
    }
   ],
   "source": [
    "loader.load_csv_to_catalog(symbol_broker, symbol_clean, timeframe, start_date, end_date)"
   ],
   "metadata": {
    "collapsed": false,
    "ExecuteTime": {
     "end_time": "2023-12-02T01:06:41.682497200Z",
     "start_time": "2023-12-02T01:06:33.877177800Z"
    }
   },
   "id": "56301f7288dc35a4"
  },
  {
   "cell_type": "code",
   "execution_count": 75,
   "outputs": [
    {
     "name": "stdout",
     "output_type": "stream",
     "text": [
      "INFO: Loaded EURUSD.SIM with bartype 16385-MINUTE-MID into catalog\n"
     ]
    }
   ],
   "source": [
    "instrument = loader.get_instrument_FOREX(symbol=symbol)"
   ],
   "metadata": {
    "collapsed": false,
    "ExecuteTime": {
     "end_time": "2023-11-27T01:00:41.816088700Z",
     "start_time": "2023-11-27T01:00:41.724570300Z"
    }
   },
   "id": "27ddd0552d466b9f"
  },
  {
   "cell_type": "code",
   "execution_count": null,
   "outputs": [],
   "source": [
    "\n",
    "\n",
    "\n",
    "\n",
    "\n"
   ],
   "metadata": {
    "collapsed": false
   },
   "id": "8543b7488146c38"
  }
 ],
 "metadata": {
  "kernelspec": {
   "display_name": "Python 3",
   "language": "python",
   "name": "python3"
  },
  "language_info": {
   "codemirror_mode": {
    "name": "ipython",
    "version": 2
   },
   "file_extension": ".py",
   "mimetype": "text/x-python",
   "name": "python",
   "nbconvert_exporter": "python",
   "pygments_lexer": "ipython2",
   "version": "2.7.6"
  }
 },
 "nbformat": 4,
 "nbformat_minor": 5
}
