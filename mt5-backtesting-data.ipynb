{
 "cells": [
  {
   "cell_type": "code",
   "execution_count": 18,
   "id": "initial_id",
   "metadata": {
    "collapsed": true,
    "ExecuteTime": {
     "end_time": "2023-11-26T00:31:51.558143400Z",
     "start_time": "2023-11-26T00:31:51.543110300Z"
    }
   },
   "outputs": [],
   "source": [
    "import os\n",
    "from datetime import datetime\n",
    "\n",
    "import MetaTrader5 as mt\n",
    "from MetaTrader5._core import TerminalInfo, AccountInfo \n",
    "import put101 as p\n"
   ]
  },
  {
   "cell_type": "markdown",
   "source": [
    "# 1. Connect to MT5"
   ],
   "metadata": {
    "collapsed": false
   },
   "id": "1a217fa34cf47d2f"
  },
  {
   "cell_type": "code",
   "execution_count": 21,
   "outputs": [],
   "source": [
    "if not mt.initialize():\n",
    "    print(\"Initialization failed\")\n",
    "\n",
    "info: TerminalInfo = mt.terminal_info()\n",
    "acc : AccountInfo = mt.account_info()"
   ],
   "metadata": {
    "collapsed": false,
    "ExecuteTime": {
     "end_time": "2023-11-26T00:32:43.647106200Z",
     "start_time": "2023-11-26T00:32:43.584992Z"
    }
   },
   "id": "6d295f425ab8ddce"
  },
  {
   "cell_type": "code",
   "execution_count": 1,
   "outputs": [
    {
     "ename": "NameError",
     "evalue": "name 'datetime' is not defined",
     "output_type": "error",
     "traceback": [
      "\u001B[1;31m---------------------------------------------------------------------------\u001B[0m",
      "\u001B[1;31mNameError\u001B[0m                                 Traceback (most recent call last)",
      "Cell \u001B[1;32mIn[1], line 3\u001B[0m\n\u001B[0;32m      1\u001B[0m DATA_PATH \u001B[38;5;241m=\u001B[39m \u001B[38;5;124m\"\u001B[39m\u001B[38;5;124m./data\u001B[39m\u001B[38;5;124m\"\u001B[39m\n\u001B[0;32m      2\u001B[0m tickers \u001B[38;5;241m=\u001B[39m [\u001B[38;5;124m'\u001B[39m\u001B[38;5;124mEURUSD\u001B[39m\u001B[38;5;124m'\u001B[39m]\n\u001B[1;32m----> 3\u001B[0m date_to \u001B[38;5;241m=\u001B[39m \u001B[43mdatetime\u001B[49m(\u001B[38;5;241m2020\u001B[39m, \u001B[38;5;241m1\u001B[39m, \u001B[38;5;241m1\u001B[39m)\n",
      "\u001B[1;31mNameError\u001B[0m: name 'datetime' is not defined"
     ]
    }
   ],
   "source": [
    "DATA_PATH = \"./data\"\n",
    "CATALOG_PATH = os.getcwd() + \"/catalog\"\n",
    "\n",
    "tickers = ['EURUSD']\n",
    "date_to = datetime(2020, 1, 1)"
   ],
   "metadata": {
    "collapsed": false,
    "ExecuteTime": {
     "end_time": "2023-11-26T01:06:04.679440800Z",
     "start_time": "2023-11-26T01:06:04.064211800Z"
    }
   },
   "id": "53c97e9f0b4089ab"
  },
  {
   "cell_type": "code",
   "execution_count": 11,
   "outputs": [],
   "source": [],
   "metadata": {
    "collapsed": false,
    "ExecuteTime": {
     "end_time": "2023-11-26T00:30:40.074940700Z",
     "start_time": "2023-11-26T00:30:40.051864100Z"
    }
   },
   "id": "f4a20bae0af98d6c"
  },
  {
   "cell_type": "code",
   "execution_count": null,
   "outputs": [],
   "source": [],
   "metadata": {
    "collapsed": false
   },
   "id": "56301f7288dc35a4"
  }
 ],
 "metadata": {
  "kernelspec": {
   "display_name": "Python 3",
   "language": "python",
   "name": "python3"
  },
  "language_info": {
   "codemirror_mode": {
    "name": "ipython",
    "version": 2
   },
   "file_extension": ".py",
   "mimetype": "text/x-python",
   "name": "python",
   "nbconvert_exporter": "python",
   "pygments_lexer": "ipython2",
   "version": "2.7.6"
  }
 },
 "nbformat": 4,
 "nbformat_minor": 5
}
